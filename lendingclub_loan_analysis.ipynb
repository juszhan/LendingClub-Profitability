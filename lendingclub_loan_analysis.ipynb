{
 "cells": [
  {
   "cell_type": "code",
   "execution_count": 1,
   "metadata": {},
   "outputs": [],
   "source": [
    "import pandas as pd\n",
    "import numpy as np\n",
    "import matplotlib.pyplot as plt\n",
    "\n",
    "from pathlib import Path\n",
    "from numpy.random import RandomState\n",
    "\n",
    "_PRNG = RandomState(0)"
   ]
  },
  {
   "cell_type": "code",
   "execution_count": 2,
   "metadata": {},
   "outputs": [
    {
     "name": "stderr",
     "output_type": "stream",
     "text": [
      "C:\\Users\\juszhan\\Anaconda3\\lib\\site-packages\\IPython\\core\\interactiveshell.py:3020: DtypeWarning: Columns (123,124,125,128,129,130,133,139,140,141) have mixed types. Specify dtype option on import or set low_memory=False.\n",
      "  interactivity=interactivity, compiler=compiler, result=result)\n"
     ]
    }
   ],
   "source": [
    "_FILE_ORIGINAL_DATASET=\"data/LoanStats_2018Q3.csv\"\n",
    "\n",
    "df = pd.read_csv(_FILE_ORIGINAL_DATASET)"
   ]
  },
  {
   "cell_type": "code",
   "execution_count": 3,
   "metadata": {},
   "outputs": [
    {
     "data": {
      "text/html": [
       "<div>\n",
       "<style scoped>\n",
       "    .dataframe tbody tr th:only-of-type {\n",
       "        vertical-align: middle;\n",
       "    }\n",
       "\n",
       "    .dataframe tbody tr th {\n",
       "        vertical-align: top;\n",
       "    }\n",
       "\n",
       "    .dataframe thead th {\n",
       "        text-align: right;\n",
       "    }\n",
       "</style>\n",
       "<table border=\"1\" class=\"dataframe\">\n",
       "  <thead>\n",
       "    <tr style=\"text-align: right;\">\n",
       "      <th></th>\n",
       "      <th>id</th>\n",
       "      <th>member_id</th>\n",
       "      <th>loan_amnt</th>\n",
       "      <th>funded_amnt</th>\n",
       "      <th>funded_amnt_inv</th>\n",
       "      <th>term</th>\n",
       "      <th>int_rate</th>\n",
       "      <th>installment</th>\n",
       "      <th>grade</th>\n",
       "      <th>sub_grade</th>\n",
       "      <th>...</th>\n",
       "      <th>hardship_payoff_balance_amount</th>\n",
       "      <th>hardship_last_payment_amount</th>\n",
       "      <th>disbursement_method</th>\n",
       "      <th>debt_settlement_flag</th>\n",
       "      <th>debt_settlement_flag_date</th>\n",
       "      <th>settlement_status</th>\n",
       "      <th>settlement_date</th>\n",
       "      <th>settlement_amount</th>\n",
       "      <th>settlement_percentage</th>\n",
       "      <th>settlement_term</th>\n",
       "    </tr>\n",
       "  </thead>\n",
       "  <tbody>\n",
       "    <tr>\n",
       "      <th>0</th>\n",
       "      <td>NaN</td>\n",
       "      <td>NaN</td>\n",
       "      <td>20000</td>\n",
       "      <td>20000</td>\n",
       "      <td>20000</td>\n",
       "      <td>60 months</td>\n",
       "      <td>17.97%</td>\n",
       "      <td>507.55</td>\n",
       "      <td>D</td>\n",
       "      <td>D1</td>\n",
       "      <td>...</td>\n",
       "      <td>NaN</td>\n",
       "      <td>NaN</td>\n",
       "      <td>DirectPay</td>\n",
       "      <td>N</td>\n",
       "      <td>NaN</td>\n",
       "      <td>NaN</td>\n",
       "      <td>NaN</td>\n",
       "      <td>NaN</td>\n",
       "      <td>NaN</td>\n",
       "      <td>NaN</td>\n",
       "    </tr>\n",
       "    <tr>\n",
       "      <th>1</th>\n",
       "      <td>NaN</td>\n",
       "      <td>NaN</td>\n",
       "      <td>25000</td>\n",
       "      <td>25000</td>\n",
       "      <td>25000</td>\n",
       "      <td>60 months</td>\n",
       "      <td>13.56%</td>\n",
       "      <td>576.02</td>\n",
       "      <td>C</td>\n",
       "      <td>C1</td>\n",
       "      <td>...</td>\n",
       "      <td>NaN</td>\n",
       "      <td>NaN</td>\n",
       "      <td>Cash</td>\n",
       "      <td>N</td>\n",
       "      <td>NaN</td>\n",
       "      <td>NaN</td>\n",
       "      <td>NaN</td>\n",
       "      <td>NaN</td>\n",
       "      <td>NaN</td>\n",
       "      <td>NaN</td>\n",
       "    </tr>\n",
       "    <tr>\n",
       "      <th>2</th>\n",
       "      <td>NaN</td>\n",
       "      <td>NaN</td>\n",
       "      <td>30000</td>\n",
       "      <td>30000</td>\n",
       "      <td>30000</td>\n",
       "      <td>36 months</td>\n",
       "      <td>18.94%</td>\n",
       "      <td>1098.78</td>\n",
       "      <td>D</td>\n",
       "      <td>D2</td>\n",
       "      <td>...</td>\n",
       "      <td>NaN</td>\n",
       "      <td>NaN</td>\n",
       "      <td>Cash</td>\n",
       "      <td>N</td>\n",
       "      <td>NaN</td>\n",
       "      <td>NaN</td>\n",
       "      <td>NaN</td>\n",
       "      <td>NaN</td>\n",
       "      <td>NaN</td>\n",
       "      <td>NaN</td>\n",
       "    </tr>\n",
       "    <tr>\n",
       "      <th>3</th>\n",
       "      <td>NaN</td>\n",
       "      <td>NaN</td>\n",
       "      <td>6000</td>\n",
       "      <td>6000</td>\n",
       "      <td>6000</td>\n",
       "      <td>36 months</td>\n",
       "      <td>7.84%</td>\n",
       "      <td>187.58</td>\n",
       "      <td>A</td>\n",
       "      <td>A4</td>\n",
       "      <td>...</td>\n",
       "      <td>NaN</td>\n",
       "      <td>NaN</td>\n",
       "      <td>DirectPay</td>\n",
       "      <td>N</td>\n",
       "      <td>NaN</td>\n",
       "      <td>NaN</td>\n",
       "      <td>NaN</td>\n",
       "      <td>NaN</td>\n",
       "      <td>NaN</td>\n",
       "      <td>NaN</td>\n",
       "    </tr>\n",
       "    <tr>\n",
       "      <th>4</th>\n",
       "      <td>NaN</td>\n",
       "      <td>NaN</td>\n",
       "      <td>10650</td>\n",
       "      <td>10650</td>\n",
       "      <td>10650</td>\n",
       "      <td>36 months</td>\n",
       "      <td>7.84%</td>\n",
       "      <td>332.95</td>\n",
       "      <td>A</td>\n",
       "      <td>A4</td>\n",
       "      <td>...</td>\n",
       "      <td>NaN</td>\n",
       "      <td>NaN</td>\n",
       "      <td>Cash</td>\n",
       "      <td>N</td>\n",
       "      <td>NaN</td>\n",
       "      <td>NaN</td>\n",
       "      <td>NaN</td>\n",
       "      <td>NaN</td>\n",
       "      <td>NaN</td>\n",
       "      <td>NaN</td>\n",
       "    </tr>\n",
       "  </tbody>\n",
       "</table>\n",
       "<p>5 rows × 145 columns</p>\n",
       "</div>"
      ],
      "text/plain": [
       "   id  member_id  loan_amnt  funded_amnt  funded_amnt_inv        term  \\\n",
       "0 NaN        NaN      20000        20000            20000   60 months   \n",
       "1 NaN        NaN      25000        25000            25000   60 months   \n",
       "2 NaN        NaN      30000        30000            30000   36 months   \n",
       "3 NaN        NaN       6000         6000             6000   36 months   \n",
       "4 NaN        NaN      10650        10650            10650   36 months   \n",
       "\n",
       "  int_rate  installment grade sub_grade       ...         \\\n",
       "0   17.97%       507.55     D        D1       ...          \n",
       "1   13.56%       576.02     C        C1       ...          \n",
       "2   18.94%      1098.78     D        D2       ...          \n",
       "3    7.84%       187.58     A        A4       ...          \n",
       "4    7.84%       332.95     A        A4       ...          \n",
       "\n",
       "  hardship_payoff_balance_amount hardship_last_payment_amount  \\\n",
       "0                            NaN                          NaN   \n",
       "1                            NaN                          NaN   \n",
       "2                            NaN                          NaN   \n",
       "3                            NaN                          NaN   \n",
       "4                            NaN                          NaN   \n",
       "\n",
       "  disbursement_method  debt_settlement_flag debt_settlement_flag_date  \\\n",
       "0           DirectPay                     N                       NaN   \n",
       "1                Cash                     N                       NaN   \n",
       "2                Cash                     N                       NaN   \n",
       "3           DirectPay                     N                       NaN   \n",
       "4                Cash                     N                       NaN   \n",
       "\n",
       "  settlement_status settlement_date settlement_amount  settlement_percentage  \\\n",
       "0               NaN             NaN               NaN                    NaN   \n",
       "1               NaN             NaN               NaN                    NaN   \n",
       "2               NaN             NaN               NaN                    NaN   \n",
       "3               NaN             NaN               NaN                    NaN   \n",
       "4               NaN             NaN               NaN                    NaN   \n",
       "\n",
       "   settlement_term  \n",
       "0              NaN  \n",
       "1              NaN  \n",
       "2              NaN  \n",
       "3              NaN  \n",
       "4              NaN  \n",
       "\n",
       "[5 rows x 145 columns]"
      ]
     },
     "execution_count": 3,
     "metadata": {},
     "output_type": "execute_result"
    }
   ],
   "source": [
    "df.head(5)"
   ]
  },
  {
   "cell_type": "code",
   "execution_count": 4,
   "metadata": {},
   "outputs": [
    {
     "data": {
      "text/plain": [
       "Index(['id', 'member_id', 'loan_amnt', 'funded_amnt', 'funded_amnt_inv',\n",
       "       'term', 'int_rate', 'installment', 'grade', 'sub_grade',\n",
       "       ...\n",
       "       'hardship_payoff_balance_amount', 'hardship_last_payment_amount',\n",
       "       'disbursement_method', 'debt_settlement_flag',\n",
       "       'debt_settlement_flag_date', 'settlement_status', 'settlement_date',\n",
       "       'settlement_amount', 'settlement_percentage', 'settlement_term'],\n",
       "      dtype='object', length=145)"
      ]
     },
     "execution_count": 4,
     "metadata": {},
     "output_type": "execute_result"
    }
   ],
   "source": [
    "df.columns"
   ]
  },
  {
   "cell_type": "code",
   "execution_count": 5,
   "metadata": {},
   "outputs": [
    {
     "data": {
      "text/plain": [
       "['id', 'member_id', 'url', 'desc']"
      ]
     },
     "execution_count": 5,
     "metadata": {},
     "output_type": "execute_result"
    }
   ],
   "source": [
    "blank_columns = [col for col in df.columns if all(df[col].isnull())]\n",
    "blank_columns"
   ]
  },
  {
   "cell_type": "code",
   "execution_count": 6,
   "metadata": {},
   "outputs": [],
   "source": [
    "df.drop(columns=blank_columns, inplace=True)"
   ]
  },
  {
   "cell_type": "code",
   "execution_count": 7,
   "metadata": {},
   "outputs": [
    {
     "data": {
      "text/plain": [
       "{'A': 37381,\n",
       " 'B': 34776,\n",
       " 'C': 31573,\n",
       " 'D': 18053,\n",
       " 'E': 4956,\n",
       " 'F': 1183,\n",
       " 'G': 272}"
      ]
     },
     "execution_count": 7,
     "metadata": {},
     "output_type": "execute_result"
    }
   ],
   "source": [
    "loan_by_grade = df[\"grade\"].value_counts().to_dict()\n",
    "loan_by_grade"
   ]
  },
  {
   "cell_type": "code",
   "execution_count": 8,
   "metadata": {
    "scrolled": true
   },
   "outputs": [
    {
     "data": {
      "text/plain": [
       "{'A1': 9472,\n",
       " 'B4': 8229,\n",
       " 'A4': 7968,\n",
       " 'B2': 7378,\n",
       " 'A5': 7169,\n",
       " 'C1': 7044,\n",
       " 'B1': 6821,\n",
       " 'A3': 6678,\n",
       " 'C3': 6631,\n",
       " 'B5': 6625,\n",
       " 'C2': 6144,\n",
       " 'A2': 6094,\n",
       " 'C4': 5957,\n",
       " 'C5': 5797,\n",
       " 'B3': 5723,\n",
       " 'D1': 4263,\n",
       " 'D2': 4073,\n",
       " 'D3': 3551,\n",
       " 'D4': 3133,\n",
       " 'D5': 3033,\n",
       " 'E5': 1251,\n",
       " 'E1': 1011,\n",
       " 'E3': 969,\n",
       " 'E2': 912,\n",
       " 'E4': 813,\n",
       " 'F1': 470,\n",
       " 'F2': 266,\n",
       " 'F3': 194,\n",
       " 'G1': 185,\n",
       " 'F5': 129,\n",
       " 'F4': 124,\n",
       " 'G2': 39,\n",
       " 'G3': 24,\n",
       " 'G5': 15,\n",
       " 'G4': 9}"
      ]
     },
     "execution_count": 8,
     "metadata": {},
     "output_type": "execute_result"
    }
   ],
   "source": [
    "loan_by_sub_grade = df[\"sub_grade\"].value_counts().to_dict()\n",
    "loan_by_sub_grade"
   ]
  },
  {
   "cell_type": "code",
   "execution_count": 9,
   "metadata": {},
   "outputs": [
    {
     "data": {
      "text/plain": [
       "array([37381, 34776, 31573, 18053,  4956,  1183,   272])"
      ]
     },
     "execution_count": 9,
     "metadata": {},
     "output_type": "execute_result"
    }
   ],
   "source": [
    "sorted_grade = np.argsort(list(loan_by_grade.keys()))\n",
    "\n",
    "grade = np.array(list(loan_by_grade.keys()))\n",
    "grade_count = np.array(list(loan_by_grade.values()))\n",
    "\n",
    "grade_count[sorted_grade]"
   ]
  },
  {
   "cell_type": "code",
   "execution_count": 10,
   "metadata": {},
   "outputs": [
    {
     "data": {
      "image/png": "[encoded data removed]",
      "text/plain": [
       "<Figure size 1152x648 with 1 Axes>"
      ]
     },
     "metadata": {},
     "output_type": "display_data"
    }
   ],
   "source": [
    "from matplotlib.colors import Normalize\n",
    "from matplotlib.colors import LinearSegmentedColormap\n",
    "\n",
    "\n",
    "plt.figure(figsize=(16,9))\n",
    "\n",
    "vmin = 0\n",
    "vmax = len(loan_by_grade) - 1\n",
    "\n",
    "_NORMALIZE = Normalize(vmin=vmin, vmax=vmax)\n",
    "custom_color_range = [[_NORMALIZE(vmin), \"lightgreen\"],\n",
    "                      [_NORMALIZE(vmax/5), \"lemonchiffon\"],\n",
    "                      [_NORMALIZE(vmax), \"lightcoral\"]]\n",
    "\n",
    "# _COLORMAP = plt.cm.ScalarMappable(cmap=plt.cm.Wistia)\n",
    "_COLORMAP = LinearSegmentedColormap.from_list(\"\", custom_color_range, N=vmax+1)\n",
    "\n",
    "colors = _COLORMAP(list(range(0, vmax)))\n",
    "# lightcoral\n",
    "# lightgreen\n",
    "\n",
    "plt.pie(grade_count[sorted_grade], labels=grade[sorted_grade], wedgeprops=dict(width=0.5), colors=colors, startangle=90, shadow=True)\n",
    "plt.title(\"LendingClub - Loans by Grade\")\n",
    "\n",
    "plt.show()"
   ]
  },
  {
   "cell_type": "code",
   "execution_count": 11,
   "metadata": {},
   "outputs": [
    {
     "data": {
      "image/png": "[encoded data removed]",
      "text/plain": [
       "<Figure size 1152x648 with 1 Axes>"
      ]
     },
     "metadata": {},
     "output_type": "display_data"
    }
   ],
   "source": [
    "sorted_sub_grade = np.argsort(list(loan_by_sub_grade.keys()))\n",
    "\n",
    "sub_grade = np.array(list(loan_by_sub_grade.keys()))\n",
    "sub_grade_count = np.array(list(loan_by_sub_grade.values()))\n",
    "\n",
    "\n",
    "\n",
    "plt.figure(figsize=(16,9))\n",
    "\n",
    "vmin = 0\n",
    "vmax = len(loan_by_sub_grade) - 1\n",
    "\n",
    "_NORMALIZE = Normalize(vmin=vmin, vmax=vmax)\n",
    "custom_color_range = [[_NORMALIZE(vmin), \"lightgreen\"],\n",
    "                      [_NORMALIZE(vmax/5), \"lemonchiffon\"],\n",
    "                      [_NORMALIZE(vmax), \"lightcoral\"]]\n",
    "\n",
    "# _COLORMAP = plt.cm.ScalarMappable(cmap=plt.cm.Wistia)\n",
    "_COLORMAP = LinearSegmentedColormap.from_list(\"\", custom_color_range, N=vmax+1)\n",
    "\n",
    "colors = _COLORMAP(list(range(0, vmax)))\n",
    "# lightcoral\n",
    "# lightgreen\n",
    "\n",
    "plt.pie(sub_grade_count[sorted_sub_grade], labels=sub_grade[sorted_sub_grade], wedgeprops=dict(width=0.5), colors=colors, startangle=90, shadow=True)\n",
    "plt.title(\"LendingClub - Loans by Subgrade\")\n",
    "\n",
    "plt.show()"
   ]
  },
  {
   "cell_type": "code",
   "execution_count": 12,
   "metadata": {},
   "outputs": [
    {
     "data": {
      "text/plain": [
       "Current               121082\n",
       "Fully Paid              4786\n",
       "In Grace Period          948\n",
       "Late (31-120 days)       920\n",
       "Late (16-30 days)        348\n",
       "Charged Off              110\n",
       "Name: loan_status, dtype: int64"
      ]
     },
     "execution_count": 12,
     "metadata": {},
     "output_type": "execute_result"
    }
   ],
   "source": [
    "df[\"loan_status\"].value_counts()"
   ]
  },
  {
   "cell_type": "code",
   "execution_count": 38,
   "metadata": {
    "scrolled": true
   },
   "outputs": [
    {
     "data": {
      "text/plain": [
       "{'Teacher': 2294,\n",
       " 'Manager': 2075,\n",
       " 'Owner': 1231,\n",
       " 'Driver': 1089,\n",
       " 'Registered Nurse': 944,\n",
       " 'Supervisor': 810,\n",
       " 'RN': 757,\n",
       " 'Sales': 726,\n",
       " 'Project Manager': 637,\n",
       " 'General Manager': 548,\n",
       " 'Office Manager': 542,\n",
       " 'Director': 482,\n",
       " 'owner': 398,\n",
       " 'Engineer': 383,\n",
       " 'Truck Driver': 367,\n",
       " 'Operations Manager': 366,\n",
       " 'President': 350,\n",
       " 'Sales Manager': 323,\n",
       " 'Supervisor ': 321,\n",
       " 'Server': 319,\n",
       " 'Nurse': 317,\n",
       " 'teacher': 311,\n",
       " 'Administrative Assistant': 304,\n",
       " 'manager': 303,\n",
       " 'Accountant': 303,\n",
       " 'Account Manager': 288,\n",
       " 'Manager ': 281,\n",
       " 'Technician': 269,\n",
       " 'Vice President': 260,\n",
       " 'Store Manager': 258,\n",
       " 'Police Officer': 256,\n",
       " 'driver': 248,\n",
       " 'Software Engineer': 247,\n",
       " 'Attorney': 247,\n",
       " 'Paralegal': 240,\n",
       " 'Mechanic': 235,\n",
       " 'Executive Assistant': 226,\n",
       " 'Truck driver': 225,\n",
       " 'Analyst': 217,\n",
       " 'CEO': 202,\n",
       " 'Foreman': 200,\n",
       " 'Electrician': 196,\n",
       " 'Teacher ': 195,\n",
       " 'Operator': 188,\n",
       " 'Controller': 186,\n",
       " 'Program Manager': 182,\n",
       " 'Assistant Manager': 181,\n",
       " 'Branch Manager': 175,\n",
       " 'Clerk': 167,\n",
       " 'Bartender': 164}"
      ]
     },
     "execution_count": 38,
     "metadata": {},
     "output_type": "execute_result"
    }
   ],
   "source": [
    "df[\"emp_title\"].value_counts().nlargest(50)"
   ]
  },
  {
   "cell_type": "code",
   "execution_count": 42,
   "metadata": {
    "scrolled": true
   },
   "outputs": [
    {
     "data": {
      "text/plain": [
       "Teacher                     0.019990\n",
       "Manager                     0.018082\n",
       "Owner                       0.010727\n",
       "Driver                      0.009490\n",
       "Registered Nurse            0.008226\n",
       "Supervisor                  0.007058\n",
       "RN                          0.006597\n",
       "Sales                       0.006326\n",
       "Project Manager             0.005551\n",
       "General Manager             0.004775\n",
       "Office Manager              0.004723\n",
       "Director                    0.004200\n",
       "owner                       0.003468\n",
       "Engineer                    0.003337\n",
       "Truck Driver                0.003198\n",
       "Operations Manager          0.003189\n",
       "President                   0.003050\n",
       "Sales Manager               0.002815\n",
       "Supervisor                  0.002797\n",
       "Server                      0.002780\n",
       "Nurse                       0.002762\n",
       "teacher                     0.002710\n",
       "Administrative Assistant    0.002649\n",
       "manager                     0.002640\n",
       "Accountant                  0.002640\n",
       "Account Manager             0.002510\n",
       "Manager                     0.002449\n",
       "Technician                  0.002344\n",
       "Vice President              0.002266\n",
       "Store Manager               0.002248\n",
       "Police Officer              0.002231\n",
       "driver                      0.002161\n",
       "Software Engineer           0.002152\n",
       "Attorney                    0.002152\n",
       "Paralegal                   0.002091\n",
       "Mechanic                    0.002048\n",
       "Executive Assistant         0.001969\n",
       "Truck driver                0.001961\n",
       "Analyst                     0.001891\n",
       "CEO                         0.001760\n",
       "Foreman                     0.001743\n",
       "Electrician                 0.001708\n",
       "Teacher                     0.001699\n",
       "Operator                    0.001638\n",
       "Controller                  0.001621\n",
       "Program Manager             0.001586\n",
       "Assistant Manager           0.001577\n",
       "Branch Manager              0.001525\n",
       "Clerk                       0.001455\n",
       "Bartender                   0.001429\n",
       "Name: emp_title, dtype: float64"
      ]
     },
     "execution_count": 42,
     "metadata": {},
     "output_type": "execute_result"
    }
   ],
   "source": [
    "df[\"emp_title\"].value_counts(normalize=True).nlargest(50)"
   ]
  },
  {
   "cell_type": "code",
   "execution_count": 17,
   "metadata": {},
   "outputs": [
    {
     "data": {
      "text/plain": [
       "debt_consolidation    69815\n",
       "credit_card           35342\n",
       "home_improvement       7944\n",
       "other                  6881\n",
       "major_purchase         2339\n",
       "medical                1400\n",
       "car                    1056\n",
       "small_business          943\n",
       "vacation                835\n",
       "house                   788\n",
       "moving                  782\n",
       "renewable_energy         69\n",
       "Name: purpose, dtype: int64"
      ]
     },
     "execution_count": 17,
     "metadata": {},
     "output_type": "execute_result"
    }
   ],
   "source": [
    "df[\"purpose\"].value_counts()"
   ]
  },
  {
   "cell_type": "code",
   "execution_count": 35,
   "metadata": {
    "scrolled": true
   },
   "outputs": [
    {
     "data": {
      "text/plain": [
       "60000.0     4924\n",
       "50000.0     4275\n",
       "65000.0     3774\n",
       "80000.0     3615\n",
       "70000.0     3554\n",
       "75000.0     3438\n",
       "40000.0     3354\n",
       "45000.0     2985\n",
       "100000.0    2897\n",
       "55000.0     2891\n",
       "Name: annual_inc, dtype: int64"
      ]
     },
     "execution_count": 35,
     "metadata": {},
     "output_type": "execute_result"
    }
   ],
   "source": [
    "df[\"annual_inc\"].value_counts().nlargest(10)"
   ]
  },
  {
   "cell_type": "code",
   "execution_count": 109,
   "metadata": {
    "scrolled": true
   },
   "outputs": [
    {
     "data": {
      "text/html": [
       "<div>\n",
       "<style scoped>\n",
       "    .dataframe tbody tr th:only-of-type {\n",
       "        vertical-align: middle;\n",
       "    }\n",
       "\n",
       "    .dataframe tbody tr th {\n",
       "        vertical-align: top;\n",
       "    }\n",
       "\n",
       "    .dataframe thead th {\n",
       "        text-align: right;\n",
       "    }\n",
       "</style>\n",
       "<table border=\"1\" class=\"dataframe\">\n",
       "  <thead>\n",
       "    <tr style=\"text-align: right;\">\n",
       "      <th></th>\n",
       "      <th>annual_inc</th>\n",
       "      <th>loan_amnt</th>\n",
       "      <th>int_rate</th>\n",
       "      <th>term_in_months</th>\n",
       "      <th>total_loan_cost</th>\n",
       "      <th>annual_loan_payment</th>\n",
       "      <th>annual_loan_income_percent</th>\n",
       "    </tr>\n",
       "  </thead>\n",
       "  <tbody>\n",
       "    <tr>\n",
       "      <th>0</th>\n",
       "      <td>68000.0</td>\n",
       "      <td>20000</td>\n",
       "      <td>17.97</td>\n",
       "      <td>60</td>\n",
       "      <td>30452.53</td>\n",
       "      <td>6090.51</td>\n",
       "      <td>8.957</td>\n",
       "    </tr>\n",
       "    <tr>\n",
       "      <th>1</th>\n",
       "      <td>61000.0</td>\n",
       "      <td>25000</td>\n",
       "      <td>13.56</td>\n",
       "      <td>60</td>\n",
       "      <td>34561.15</td>\n",
       "      <td>6912.23</td>\n",
       "      <td>11.332</td>\n",
       "    </tr>\n",
       "    <tr>\n",
       "      <th>2</th>\n",
       "      <td>100000.0</td>\n",
       "      <td>30000</td>\n",
       "      <td>18.94</td>\n",
       "      <td>36</td>\n",
       "      <td>39555.75</td>\n",
       "      <td>13185.25</td>\n",
       "      <td>13.185</td>\n",
       "    </tr>\n",
       "    <tr>\n",
       "      <th>3</th>\n",
       "      <td>30000.0</td>\n",
       "      <td>6000</td>\n",
       "      <td>7.84</td>\n",
       "      <td>36</td>\n",
       "      <td>6752.72</td>\n",
       "      <td>2250.91</td>\n",
       "      <td>7.503</td>\n",
       "    </tr>\n",
       "    <tr>\n",
       "      <th>4</th>\n",
       "      <td>28000.0</td>\n",
       "      <td>10650</td>\n",
       "      <td>7.84</td>\n",
       "      <td>36</td>\n",
       "      <td>11986.08</td>\n",
       "      <td>3995.36</td>\n",
       "      <td>14.269</td>\n",
       "    </tr>\n",
       "    <tr>\n",
       "      <th>5</th>\n",
       "      <td>25000.0</td>\n",
       "      <td>9000</td>\n",
       "      <td>6.11</td>\n",
       "      <td>36</td>\n",
       "      <td>9872.86</td>\n",
       "      <td>3290.95</td>\n",
       "      <td>13.164</td>\n",
       "    </tr>\n",
       "    <tr>\n",
       "      <th>6</th>\n",
       "      <td>125000.0</td>\n",
       "      <td>20000</td>\n",
       "      <td>6.67</td>\n",
       "      <td>36</td>\n",
       "      <td>22123.04</td>\n",
       "      <td>7374.35</td>\n",
       "      <td>5.899</td>\n",
       "    </tr>\n",
       "    <tr>\n",
       "      <th>7</th>\n",
       "      <td>48186.0</td>\n",
       "      <td>20000</td>\n",
       "      <td>7.84</td>\n",
       "      <td>36</td>\n",
       "      <td>22509.08</td>\n",
       "      <td>7503.03</td>\n",
       "      <td>15.571</td>\n",
       "    </tr>\n",
       "    <tr>\n",
       "      <th>8</th>\n",
       "      <td>86000.0</td>\n",
       "      <td>16000</td>\n",
       "      <td>7.21</td>\n",
       "      <td>36</td>\n",
       "      <td>17840.56</td>\n",
       "      <td>5946.85</td>\n",
       "      <td>6.915</td>\n",
       "    </tr>\n",
       "    <tr>\n",
       "      <th>9</th>\n",
       "      <td>70000.0</td>\n",
       "      <td>15000</td>\n",
       "      <td>15.02</td>\n",
       "      <td>60</td>\n",
       "      <td>21420.39</td>\n",
       "      <td>4284.08</td>\n",
       "      <td>6.120</td>\n",
       "    </tr>\n",
       "  </tbody>\n",
       "</table>\n",
       "</div>"
      ],
      "text/plain": [
       "   annual_inc  loan_amnt  int_rate  term_in_months  total_loan_cost  \\\n",
       "0     68000.0      20000     17.97              60         30452.53   \n",
       "1     61000.0      25000     13.56              60         34561.15   \n",
       "2    100000.0      30000     18.94              36         39555.75   \n",
       "3     30000.0       6000      7.84              36          6752.72   \n",
       "4     28000.0      10650      7.84              36         11986.08   \n",
       "5     25000.0       9000      6.11              36          9872.86   \n",
       "6    125000.0      20000      6.67              36         22123.04   \n",
       "7     48186.0      20000      7.84              36         22509.08   \n",
       "8     86000.0      16000      7.21              36         17840.56   \n",
       "9     70000.0      15000     15.02              60         21420.39   \n",
       "\n",
       "   annual_loan_payment  annual_loan_income_percent  \n",
       "0              6090.51                       8.957  \n",
       "1              6912.23                      11.332  \n",
       "2             13185.25                      13.185  \n",
       "3              2250.91                       7.503  \n",
       "4              3995.36                      14.269  \n",
       "5              3290.95                      13.164  \n",
       "6              7374.35                       5.899  \n",
       "7              7503.03                      15.571  \n",
       "8              5946.85                       6.915  \n",
       "9              4284.08                       6.120  "
      ]
     },
     "execution_count": 109,
     "metadata": {},
     "output_type": "execute_result"
    }
   ],
   "source": [
    "import re\n",
    "\n",
    "df_loanByIncome = df.filter([\"annual_inc\", \"loan_amnt\", \"int_rate\", \"term\"], axis=1)\n",
    "df_loanByIncome.rename({\"term\": \"term_in_months\"}, axis='columns', inplace=True)\n",
    "\n",
    "df_loanByIncome[\"int_rate\"] = df_loanByIncome[\"int_rate\"].apply(lambda int_rate: float(re.search(r'\\d+.\\d+', int_rate).group(0)))\n",
    "df_loanByIncome[\"term_in_months\"] = df_loanByIncome[\"term_in_months\"].apply(lambda term: int(re.search(r'\\d+', term).group(0)))\n",
    "\n",
    "def calculateTotalLoanCost(row) -> float:\n",
    "    p = row[\"loan_amnt\"] # principal\n",
    "    r = row[\"int_rate\"] / 12 / 100 # monthly loan rate\n",
    "    n = row[\"term_in_months\"] # number of monthly payments\n",
    "    \n",
    "    total_loan_cost = (r * p * n) / (1 - (1 + r) ** -n)\n",
    "    return round(total_loan_cost, 2)\n",
    "\n",
    "def calculateAnnualLoanIncomeRatio(row) -> float:\n",
    "    loan_income_ratio = None\n",
    "    if row[\"annual_inc\"] > 0:\n",
    "        loan_income_ratio = row[\"annual_loan_payment\"] / row[\"annual_inc\"] * 100\n",
    "        loan_income_ratio = round(loan_income_ratio, 3)\n",
    "    return loan_income_ratio\n",
    "\n",
    "df_loanByIncome[\"total_loan_cost\"] = df_loanByIncome.apply(calculateTotalLoanCost, axis=1)\n",
    "df_loanByIncome[\"annual_loan_payment\"] = df_loanByIncome.apply(lambda row: round(row[\"total_loan_cost\"] / row[\"term_in_months\"] * 12, 2), axis=1)\n",
    "\n",
    "# Percentage of annual income towards replaying the loan, assuming fixed monthly payment\n",
    "df_loanByIncome[\"annual_loan_income_percent\"] = df_loanByIncome.apply(calculateAnnualLoanIncomeRatio, axis=1)\n",
    "\n",
    "df_loanByIncome.head(10)"
   ]
  },
  {
   "cell_type": "code",
   "execution_count": null,
   "metadata": {},
   "outputs": [],
   "source": []
  }
 ],
 "metadata": {
  "kernelspec": {
   "display_name": "Python 3",
   "language": "python",
   "name": "python3"
  },
  "language_info": {
   "codemirror_mode": {
    "name": "ipython",
    "version": 3
   },
   "file_extension": ".py",
   "mimetype": "text/x-python",
   "name": "python",
   "nbconvert_exporter": "python",
   "pygments_lexer": "ipython3",
   "version": "3.7.1"
  }
 },
 "nbformat": 4,
 "nbformat_minor": 2
}
