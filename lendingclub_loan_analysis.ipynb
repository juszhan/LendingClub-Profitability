{
 "cells": [
  {
   "cell_type": "code",
   "execution_count": 1,
   "metadata": {},
   "outputs": [],
   "source": [
    "import pandas as pd\n",
    "import numpy as np\n",
    "import matplotlib.pyplot as plt\n",
    "\n",
    "from pathlib import Path\n",
    "from numpy.random import RandomState\n",
    "\n",
    "_PRNG = RandomState(0)"
   ]
  },
  {
   "cell_type": "code",
   "execution_count": 2,
   "metadata": {},
   "outputs": [
    {
     "name": "stderr",
     "output_type": "stream",
     "text": [
      "C:\\Users\\juszhan\\Anaconda3\\lib\\site-packages\\IPython\\core\\interactiveshell.py:3020: DtypeWarning: Columns (123,124,125,128,129,130,133,139,140,141) have mixed types. Specify dtype option on import or set low_memory=False.\n",
      "  interactivity=interactivity, compiler=compiler, result=result)\n"
     ]
    }
   ],
   "source": [
    "_FILE_ORIGINAL_DATASET=\"data/LoanStats_2018Q3.csv\"\n",
    "\n",
    "df = pd.read_csv(_FILE_ORIGINAL_DATASET)"
   ]
  },
  {
   "cell_type": "code",
   "execution_count": 3,
   "metadata": {},
   "outputs": [
    {
     "data": {
      "text/html": [
       "<div>\n",
       "<style scoped>\n",
       "    .dataframe tbody tr th:only-of-type {\n",
       "        vertical-align: middle;\n",
       "    }\n",
       "\n",
       "    .dataframe tbody tr th {\n",
       "        vertical-align: top;\n",
       "    }\n",
       "\n",
       "    .dataframe thead th {\n",
       "        text-align: right;\n",
       "    }\n",
       "</style>\n",
       "<table border=\"1\" class=\"dataframe\">\n",
       "  <thead>\n",
       "    <tr style=\"text-align: right;\">\n",
       "      <th></th>\n",
       "      <th>id</th>\n",
       "      <th>member_id</th>\n",
       "      <th>loan_amnt</th>\n",
       "      <th>funded_amnt</th>\n",
       "      <th>funded_amnt_inv</th>\n",
       "      <th>term</th>\n",
       "      <th>int_rate</th>\n",
       "      <th>installment</th>\n",
       "      <th>grade</th>\n",
       "      <th>sub_grade</th>\n",
       "      <th>...</th>\n",
       "      <th>hardship_payoff_balance_amount</th>\n",
       "      <th>hardship_last_payment_amount</th>\n",
       "      <th>disbursement_method</th>\n",
       "      <th>debt_settlement_flag</th>\n",
       "      <th>debt_settlement_flag_date</th>\n",
       "      <th>settlement_status</th>\n",
       "      <th>settlement_date</th>\n",
       "      <th>settlement_amount</th>\n",
       "      <th>settlement_percentage</th>\n",
       "      <th>settlement_term</th>\n",
       "    </tr>\n",
       "  </thead>\n",
       "  <tbody>\n",
       "    <tr>\n",
       "      <th>0</th>\n",
       "      <td>NaN</td>\n",
       "      <td>NaN</td>\n",
       "      <td>20000</td>\n",
       "      <td>20000</td>\n",
       "      <td>20000</td>\n",
       "      <td>60 months</td>\n",
       "      <td>17.97%</td>\n",
       "      <td>507.55</td>\n",
       "      <td>D</td>\n",
       "      <td>D1</td>\n",
       "      <td>...</td>\n",
       "      <td>NaN</td>\n",
       "      <td>NaN</td>\n",
       "      <td>DirectPay</td>\n",
       "      <td>N</td>\n",
       "      <td>NaN</td>\n",
       "      <td>NaN</td>\n",
       "      <td>NaN</td>\n",
       "      <td>NaN</td>\n",
       "      <td>NaN</td>\n",
       "      <td>NaN</td>\n",
       "    </tr>\n",
       "    <tr>\n",
       "      <th>1</th>\n",
       "      <td>NaN</td>\n",
       "      <td>NaN</td>\n",
       "      <td>25000</td>\n",
       "      <td>25000</td>\n",
       "      <td>25000</td>\n",
       "      <td>60 months</td>\n",
       "      <td>13.56%</td>\n",
       "      <td>576.02</td>\n",
       "      <td>C</td>\n",
       "      <td>C1</td>\n",
       "      <td>...</td>\n",
       "      <td>NaN</td>\n",
       "      <td>NaN</td>\n",
       "      <td>Cash</td>\n",
       "      <td>N</td>\n",
       "      <td>NaN</td>\n",
       "      <td>NaN</td>\n",
       "      <td>NaN</td>\n",
       "      <td>NaN</td>\n",
       "      <td>NaN</td>\n",
       "      <td>NaN</td>\n",
       "    </tr>\n",
       "    <tr>\n",
       "      <th>2</th>\n",
       "      <td>NaN</td>\n",
       "      <td>NaN</td>\n",
       "      <td>30000</td>\n",
       "      <td>30000</td>\n",
       "      <td>30000</td>\n",
       "      <td>36 months</td>\n",
       "      <td>18.94%</td>\n",
       "      <td>1098.78</td>\n",
       "      <td>D</td>\n",
       "      <td>D2</td>\n",
       "      <td>...</td>\n",
       "      <td>NaN</td>\n",
       "      <td>NaN</td>\n",
       "      <td>Cash</td>\n",
       "      <td>N</td>\n",
       "      <td>NaN</td>\n",
       "      <td>NaN</td>\n",
       "      <td>NaN</td>\n",
       "      <td>NaN</td>\n",
       "      <td>NaN</td>\n",
       "      <td>NaN</td>\n",
       "    </tr>\n",
       "    <tr>\n",
       "      <th>3</th>\n",
       "      <td>NaN</td>\n",
       "      <td>NaN</td>\n",
       "      <td>6000</td>\n",
       "      <td>6000</td>\n",
       "      <td>6000</td>\n",
       "      <td>36 months</td>\n",
       "      <td>7.84%</td>\n",
       "      <td>187.58</td>\n",
       "      <td>A</td>\n",
       "      <td>A4</td>\n",
       "      <td>...</td>\n",
       "      <td>NaN</td>\n",
       "      <td>NaN</td>\n",
       "      <td>DirectPay</td>\n",
       "      <td>N</td>\n",
       "      <td>NaN</td>\n",
       "      <td>NaN</td>\n",
       "      <td>NaN</td>\n",
       "      <td>NaN</td>\n",
       "      <td>NaN</td>\n",
       "      <td>NaN</td>\n",
       "    </tr>\n",
       "    <tr>\n",
       "      <th>4</th>\n",
       "      <td>NaN</td>\n",
       "      <td>NaN</td>\n",
       "      <td>10650</td>\n",
       "      <td>10650</td>\n",
       "      <td>10650</td>\n",
       "      <td>36 months</td>\n",
       "      <td>7.84%</td>\n",
       "      <td>332.95</td>\n",
       "      <td>A</td>\n",
       "      <td>A4</td>\n",
       "      <td>...</td>\n",
       "      <td>NaN</td>\n",
       "      <td>NaN</td>\n",
       "      <td>Cash</td>\n",
       "      <td>N</td>\n",
       "      <td>NaN</td>\n",
       "      <td>NaN</td>\n",
       "      <td>NaN</td>\n",
       "      <td>NaN</td>\n",
       "      <td>NaN</td>\n",
       "      <td>NaN</td>\n",
       "    </tr>\n",
       "  </tbody>\n",
       "</table>\n",
       "<p>5 rows × 145 columns</p>\n",
       "</div>"
      ],
      "text/plain": [
       "   id  member_id  loan_amnt  funded_amnt  funded_amnt_inv        term  \\\n",
       "0 NaN        NaN      20000        20000            20000   60 months   \n",
       "1 NaN        NaN      25000        25000            25000   60 months   \n",
       "2 NaN        NaN      30000        30000            30000   36 months   \n",
       "3 NaN        NaN       6000         6000             6000   36 months   \n",
       "4 NaN        NaN      10650        10650            10650   36 months   \n",
       "\n",
       "  int_rate  installment grade sub_grade       ...         \\\n",
       "0   17.97%       507.55     D        D1       ...          \n",
       "1   13.56%       576.02     C        C1       ...          \n",
       "2   18.94%      1098.78     D        D2       ...          \n",
       "3    7.84%       187.58     A        A4       ...          \n",
       "4    7.84%       332.95     A        A4       ...          \n",
       "\n",
       "  hardship_payoff_balance_amount hardship_last_payment_amount  \\\n",
       "0                            NaN                          NaN   \n",
       "1                            NaN                          NaN   \n",
       "2                            NaN                          NaN   \n",
       "3                            NaN                          NaN   \n",
       "4                            NaN                          NaN   \n",
       "\n",
       "  disbursement_method  debt_settlement_flag debt_settlement_flag_date  \\\n",
       "0           DirectPay                     N                       NaN   \n",
       "1                Cash                     N                       NaN   \n",
       "2                Cash                     N                       NaN   \n",
       "3           DirectPay                     N                       NaN   \n",
       "4                Cash                     N                       NaN   \n",
       "\n",
       "  settlement_status settlement_date settlement_amount  settlement_percentage  \\\n",
       "0               NaN             NaN               NaN                    NaN   \n",
       "1               NaN             NaN               NaN                    NaN   \n",
       "2               NaN             NaN               NaN                    NaN   \n",
       "3               NaN             NaN               NaN                    NaN   \n",
       "4               NaN             NaN               NaN                    NaN   \n",
       "\n",
       "   settlement_term  \n",
       "0              NaN  \n",
       "1              NaN  \n",
       "2              NaN  \n",
       "3              NaN  \n",
       "4              NaN  \n",
       "\n",
       "[5 rows x 145 columns]"
      ]
     },
     "execution_count": 3,
     "metadata": {},
     "output_type": "execute_result"
    }
   ],
   "source": [
    "df.head(5)"
   ]
  },
  {
   "cell_type": "code",
   "execution_count": 4,
   "metadata": {},
   "outputs": [
    {
     "data": {
      "text/plain": [
       "Index(['id', 'member_id', 'loan_amnt', 'funded_amnt', 'funded_amnt_inv',\n",
       "       'term', 'int_rate', 'installment', 'grade', 'sub_grade',\n",
       "       ...\n",
       "       'hardship_payoff_balance_amount', 'hardship_last_payment_amount',\n",
       "       'disbursement_method', 'debt_settlement_flag',\n",
       "       'debt_settlement_flag_date', 'settlement_status', 'settlement_date',\n",
       "       'settlement_amount', 'settlement_percentage', 'settlement_term'],\n",
       "      dtype='object', length=145)"
      ]
     },
     "execution_count": 4,
     "metadata": {},
     "output_type": "execute_result"
    }
   ],
   "source": [
    "df.columns"
   ]
  },
  {
   "cell_type": "code",
   "execution_count": 5,
   "metadata": {},
   "outputs": [
    {
     "data": {
      "text/plain": [
       "['id', 'member_id', 'url', 'desc']"
      ]
     },
     "execution_count": 5,
     "metadata": {},
     "output_type": "execute_result"
    }
   ],
   "source": [
    "blank_columns = [col for col in df.columns if all(df[col].isnull())]\n",
    "blank_columns"
   ]
  },
  {
   "cell_type": "code",
   "execution_count": 6,
   "metadata": {},
   "outputs": [],
   "source": [
    "df.drop(columns=blank_columns, inplace=True)"
   ]
  },
  {
   "cell_type": "code",
   "execution_count": 7,
   "metadata": {},
   "outputs": [
    {
     "data": {
      "text/plain": [
       "{'A': 37381,\n",
       " 'B': 34776,\n",
       " 'C': 31573,\n",
       " 'D': 18053,\n",
       " 'E': 4956,\n",
       " 'F': 1183,\n",
       " 'G': 272}"
      ]
     },
     "execution_count": 7,
     "metadata": {},
     "output_type": "execute_result"
    }
   ],
   "source": [
    "loan_by_grade = df[\"grade\"].value_counts().to_dict()\n",
    "loan_by_grade"
   ]
  },
  {
   "cell_type": "code",
   "execution_count": 8,
   "metadata": {
    "scrolled": true
   },
   "outputs": [
    {
     "data": {
      "text/plain": [
       "{'A1': 9472,\n",
       " 'B4': 8229,\n",
       " 'A4': 7968,\n",
       " 'B2': 7378,\n",
       " 'A5': 7169,\n",
       " 'C1': 7044,\n",
       " 'B1': 6821,\n",
       " 'A3': 6678,\n",
       " 'C3': 6631,\n",
       " 'B5': 6625,\n",
       " 'C2': 6144,\n",
       " 'A2': 6094,\n",
       " 'C4': 5957,\n",
       " 'C5': 5797,\n",
       " 'B3': 5723,\n",
       " 'D1': 4263,\n",
       " 'D2': 4073,\n",
       " 'D3': 3551,\n",
       " 'D4': 3133,\n",
       " 'D5': 3033,\n",
       " 'E5': 1251,\n",
       " 'E1': 1011,\n",
       " 'E3': 969,\n",
       " 'E2': 912,\n",
       " 'E4': 813,\n",
       " 'F1': 470,\n",
       " 'F2': 266,\n",
       " 'F3': 194,\n",
       " 'G1': 185,\n",
       " 'F5': 129,\n",
       " 'F4': 124,\n",
       " 'G2': 39,\n",
       " 'G3': 24,\n",
       " 'G5': 15,\n",
       " 'G4': 9}"
      ]
     },
     "execution_count": 8,
     "metadata": {},
     "output_type": "execute_result"
    }
   ],
   "source": [
    "loan_by_sub_grade = df[\"sub_grade\"].value_counts().to_dict()\n",
    "loan_by_sub_grade"
   ]
  },
  {
   "cell_type": "code",
   "execution_count": 9,
   "metadata": {},
   "outputs": [
    {
     "data": {
      "text/plain": [
       "array([37381, 34776, 31573, 18053,  4956,  1183,   272])"
      ]
     },
     "execution_count": 9,
     "metadata": {},
     "output_type": "execute_result"
    }
   ],
   "source": [
    "sorted_grade = np.argsort(list(loan_by_grade.keys()))\n",
    "\n",
    "grade = np.array(list(loan_by_grade.keys()))\n",
    "grade_count = np.array(list(loan_by_grade.values()))\n",
    "\n",
    "grade_count[sorted_grade]"
   ]
  },
  {
   "cell_type": "code",
   "execution_count": 10,
   "metadata": {},
   "outputs": [
    {
     "data": {
      "image/png": "[encoded data removed]",
      "text/plain": [
       "<Figure size 1152x648 with 1 Axes>"
      ]
     },
     "metadata": {},
     "output_type": "display_data"
    }
   ],
   "source": [
    "from matplotlib.colors import Normalize\n",
    "from matplotlib.colors import LinearSegmentedColormap\n",
    "\n",
    "\n",
    "plt.figure(figsize=(16,9))\n",
    "\n",
    "vmin = 0\n",
    "vmax = len(loan_by_grade)\n",
    "\n",
    "_NORMALIZE = Normalize(vmin=vmin, vmax=vmax)\n",
    "custom_color_range = [[_NORMALIZE(vmin), \"lightgreen\"],\n",
    "                      [_NORMALIZE(vmax/5), \"lemonchiffon\"],\n",
    "                      [_NORMALIZE(vmax), \"lightcoral\"]]\n",
    "\n",
    "# _COLORMAP = plt.cm.ScalarMappable(cmap=plt.cm.Wistia)\n",
    "_COLORMAP = LinearSegmentedColormap.from_list(\"\", custom_color_range, N=vmax+1)\n",
    "\n",
    "colors = _COLORMAP(list(range(0, vmax)))\n",
    "# lightcoral\n",
    "# lightgreen\n",
    "\n",
    "plt.pie(grade_count[sorted_grade], labels=grade[sorted_grade], wedgeprops=dict(width=0.5), colors=colors, startangle=90, shadow=True)\n",
    "plt.title(\"LendingClub - Loans by Grade\")\n",
    "\n",
    "plt.show()"
   ]
  },
  {
   "cell_type": "code",
   "execution_count": 11,
   "metadata": {},
   "outputs": [
    {
     "data": {
      "image/png": "[encoded data removed]",
      "text/plain": [
       "<Figure size 1152x648 with 1 Axes>"
      ]
     },
     "metadata": {},
     "output_type": "display_data"
    }
   ],
   "source": [
    "sorted_sub_grade = np.argsort(list(loan_by_sub_grade.keys()))\n",
    "\n",
    "sub_grade = np.array(list(loan_by_sub_grade.keys()))\n",
    "sub_grade_count = np.array(list(loan_by_sub_grade.values()))\n",
    "\n",
    "\n",
    "\n",
    "plt.figure(figsize=(16,9))\n",
    "\n",
    "vmin = 0\n",
    "vmax = len(loan_by_sub_grade) - 1\n",
    "\n",
    "_NORMALIZE = Normalize(vmin=vmin, vmax=vmax)\n",
    "custom_color_range = [[_NORMALIZE(vmin), \"lightgreen\"],\n",
    "                      [_NORMALIZE(vmax/5), \"lemonchiffon\"],\n",
    "                      [_NORMALIZE(vmax), \"lightcoral\"]]\n",
    "\n",
    "# _COLORMAP = plt.cm.ScalarMappable(cmap=plt.cm.Wistia)\n",
    "_COLORMAP = LinearSegmentedColormap.from_list(\"\", custom_color_range, N=vmax+1)\n",
    "\n",
    "colors = _COLORMAP(list(range(0, vmax)))\n",
    "# lightcoral\n",
    "# lightgreen\n",
    "\n",
    "plt.pie(sub_grade_count[sorted_sub_grade], labels=sub_grade[sorted_sub_grade], wedgeprops=dict(width=0.5), colors=colors, startangle=90, shadow=True)\n",
    "plt.title(\"LendingClub - Loans by Subgrade\")\n",
    "\n",
    "plt.show()"
   ]
  },
  {
   "cell_type": "code",
   "execution_count": 12,
   "metadata": {},
   "outputs": [
    {
     "data": {
      "text/plain": [
       "Current               121082\n",
       "Fully Paid              4786\n",
       "In Grace Period          948\n",
       "Late (31-120 days)       920\n",
       "Late (16-30 days)        348\n",
       "Charged Off              110\n",
       "Name: loan_status, dtype: int64"
      ]
     },
     "execution_count": 12,
     "metadata": {},
     "output_type": "execute_result"
    }
   ],
   "source": [
    "df[\"loan_status\"].value_counts()"
   ]
  },
  {
   "cell_type": "code",
   "execution_count": 13,
   "metadata": {
    "scrolled": true
   },
   "outputs": [
    {
     "data": {
      "text/plain": [
       "Teacher                     2294\n",
       "Manager                     2075\n",
       "Owner                       1231\n",
       "Driver                      1089\n",
       "Registered Nurse             944\n",
       "Supervisor                   810\n",
       "RN                           757\n",
       "Sales                        726\n",
       "Project Manager              637\n",
       "General Manager              548\n",
       "Office Manager               542\n",
       "Director                     482\n",
       "owner                        398\n",
       "Engineer                     383\n",
       "Truck Driver                 367\n",
       "Operations Manager           366\n",
       "President                    350\n",
       "Sales Manager                323\n",
       "Supervisor                   321\n",
       "Server                       319\n",
       "Nurse                        317\n",
       "teacher                      311\n",
       "Administrative Assistant     304\n",
       "Accountant                   303\n",
       "manager                      303\n",
       "Account Manager              288\n",
       "Manager                      281\n",
       "Technician                   269\n",
       "Vice President               260\n",
       "Store Manager                258\n",
       "Police Officer               256\n",
       "driver                       248\n",
       "Software Engineer            247\n",
       "Attorney                     247\n",
       "Paralegal                    240\n",
       "Mechanic                     235\n",
       "Executive Assistant          226\n",
       "Truck driver                 225\n",
       "Analyst                      217\n",
       "CEO                          202\n",
       "Foreman                      200\n",
       "Electrician                  196\n",
       "Teacher                      195\n",
       "Operator                     188\n",
       "Controller                   186\n",
       "Program Manager              182\n",
       "Assistant Manager            181\n",
       "Branch Manager               175\n",
       "Clerk                        167\n",
       "Registered nurse             164\n",
       "Name: emp_title, dtype: int64"
      ]
     },
     "execution_count": 13,
     "metadata": {},
     "output_type": "execute_result"
    }
   ],
   "source": [
    "df[\"emp_title\"].value_counts().nlargest(50)"
   ]
  },
  {
   "cell_type": "code",
   "execution_count": 14,
   "metadata": {
    "scrolled": true
   },
   "outputs": [
    {
     "data": {
      "text/plain": [
       "Teacher                     0.019990\n",
       "Manager                     0.018082\n",
       "Owner                       0.010727\n",
       "Driver                      0.009490\n",
       "Registered Nurse            0.008226\n",
       "Supervisor                  0.007058\n",
       "RN                          0.006597\n",
       "Sales                       0.006326\n",
       "Project Manager             0.005551\n",
       "General Manager             0.004775\n",
       "Office Manager              0.004723\n",
       "Director                    0.004200\n",
       "owner                       0.003468\n",
       "Engineer                    0.003337\n",
       "Truck Driver                0.003198\n",
       "Operations Manager          0.003189\n",
       "President                   0.003050\n",
       "Sales Manager               0.002815\n",
       "Supervisor                  0.002797\n",
       "Server                      0.002780\n",
       "Nurse                       0.002762\n",
       "teacher                     0.002710\n",
       "Administrative Assistant    0.002649\n",
       "Accountant                  0.002640\n",
       "manager                     0.002640\n",
       "Account Manager             0.002510\n",
       "Manager                     0.002449\n",
       "Technician                  0.002344\n",
       "Vice President              0.002266\n",
       "Store Manager               0.002248\n",
       "Police Officer              0.002231\n",
       "driver                      0.002161\n",
       "Software Engineer           0.002152\n",
       "Attorney                    0.002152\n",
       "Paralegal                   0.002091\n",
       "Mechanic                    0.002048\n",
       "Executive Assistant         0.001969\n",
       "Truck driver                0.001961\n",
       "Analyst                     0.001891\n",
       "CEO                         0.001760\n",
       "Foreman                     0.001743\n",
       "Electrician                 0.001708\n",
       "Teacher                     0.001699\n",
       "Operator                    0.001638\n",
       "Controller                  0.001621\n",
       "Program Manager             0.001586\n",
       "Assistant Manager           0.001577\n",
       "Branch Manager              0.001525\n",
       "Clerk                       0.001455\n",
       "Registered nurse            0.001429\n",
       "Name: emp_title, dtype: float64"
      ]
     },
     "execution_count": 14,
     "metadata": {},
     "output_type": "execute_result"
    }
   ],
   "source": [
    "df[\"emp_title\"].value_counts(normalize=True).nlargest(50)"
   ]
  },
  {
   "cell_type": "code",
   "execution_count": 15,
   "metadata": {},
   "outputs": [
    {
     "data": {
      "text/plain": [
       "debt_consolidation    69815\n",
       "credit_card           35342\n",
       "home_improvement       7944\n",
       "other                  6881\n",
       "major_purchase         2339\n",
       "medical                1400\n",
       "car                    1056\n",
       "small_business          943\n",
       "vacation                835\n",
       "house                   788\n",
       "moving                  782\n",
       "renewable_energy         69\n",
       "Name: purpose, dtype: int64"
      ]
     },
     "execution_count": 15,
     "metadata": {},
     "output_type": "execute_result"
    }
   ],
   "source": [
    "df[\"purpose\"].value_counts()"
   ]
  },
  {
   "cell_type": "code",
   "execution_count": 16,
   "metadata": {},
   "outputs": [
    {
     "data": {
      "text/plain": [
       "Debt consolidation         69815\n",
       "Credit card refinancing    35342\n",
       "Home improvement            7944\n",
       "Other                       6881\n",
       "Major purchase              2339\n",
       "Medical expenses            1400\n",
       "Car financing               1056\n",
       "Business                     943\n",
       "Vacation                     835\n",
       "Home buying                  788\n",
       "Moving and relocation        782\n",
       "Green loan                    69\n",
       "Name: title, dtype: int64"
      ]
     },
     "execution_count": 16,
     "metadata": {},
     "output_type": "execute_result"
    }
   ],
   "source": [
    "df[\"title\"].value_counts()"
   ]
  },
  {
   "cell_type": "code",
   "execution_count": 17,
   "metadata": {
    "scrolled": true
   },
   "outputs": [
    {
     "data": {
      "text/plain": [
       "60000.0     4924\n",
       "50000.0     4275\n",
       "65000.0     3774\n",
       "80000.0     3615\n",
       "70000.0     3554\n",
       "75000.0     3438\n",
       "40000.0     3354\n",
       "45000.0     2985\n",
       "100000.0    2897\n",
       "55000.0     2891\n",
       "Name: annual_inc, dtype: int64"
      ]
     },
     "execution_count": 17,
     "metadata": {},
     "output_type": "execute_result"
    }
   ],
   "source": [
    "df[\"annual_inc\"].value_counts().nlargest(10)"
   ]
  },
  {
   "cell_type": "code",
   "execution_count": 18,
   "metadata": {
    "scrolled": false
   },
   "outputs": [
    {
     "data": {
      "text/html": [
       "<div>\n",
       "<style scoped>\n",
       "    .dataframe tbody tr th:only-of-type {\n",
       "        vertical-align: middle;\n",
       "    }\n",
       "\n",
       "    .dataframe tbody tr th {\n",
       "        vertical-align: top;\n",
       "    }\n",
       "\n",
       "    .dataframe thead th {\n",
       "        text-align: right;\n",
       "    }\n",
       "</style>\n",
       "<table border=\"1\" class=\"dataframe\">\n",
       "  <thead>\n",
       "    <tr style=\"text-align: right;\">\n",
       "      <th></th>\n",
       "      <th>title</th>\n",
       "      <th>verification_status</th>\n",
       "      <th>annual_inc</th>\n",
       "      <th>loan_amnt</th>\n",
       "      <th>int_rate</th>\n",
       "      <th>term_in_months</th>\n",
       "      <th>total_loan_cost</th>\n",
       "      <th>annual_loan_payment</th>\n",
       "      <th>annual_loan_income_percent</th>\n",
       "    </tr>\n",
       "  </thead>\n",
       "  <tbody>\n",
       "    <tr>\n",
       "      <th>2584</th>\n",
       "      <td>Debt consolidation</td>\n",
       "      <td>Source Verified</td>\n",
       "      <td>60000</td>\n",
       "      <td>10000</td>\n",
       "      <td>16.14</td>\n",
       "      <td>36</td>\n",
       "      <td>12681.43</td>\n",
       "      <td>4227.14</td>\n",
       "      <td>7.045</td>\n",
       "    </tr>\n",
       "    <tr>\n",
       "      <th>117572</th>\n",
       "      <td>Debt consolidation</td>\n",
       "      <td>Source Verified</td>\n",
       "      <td>82000</td>\n",
       "      <td>36000</td>\n",
       "      <td>6.67</td>\n",
       "      <td>36</td>\n",
       "      <td>39821.47</td>\n",
       "      <td>13273.82</td>\n",
       "      <td>16.188</td>\n",
       "    </tr>\n",
       "    <tr>\n",
       "      <th>49419</th>\n",
       "      <td>Debt consolidation</td>\n",
       "      <td>Verified</td>\n",
       "      <td>46000</td>\n",
       "      <td>8500</td>\n",
       "      <td>14.47</td>\n",
       "      <td>36</td>\n",
       "      <td>10528.34</td>\n",
       "      <td>3509.45</td>\n",
       "      <td>7.629</td>\n",
       "    </tr>\n",
       "    <tr>\n",
       "      <th>43354</th>\n",
       "      <td>Credit card refinancing</td>\n",
       "      <td>Source Verified</td>\n",
       "      <td>28657</td>\n",
       "      <td>3000</td>\n",
       "      <td>11.06</td>\n",
       "      <td>36</td>\n",
       "      <td>3538.85</td>\n",
       "      <td>1179.62</td>\n",
       "      <td>4.116</td>\n",
       "    </tr>\n",
       "    <tr>\n",
       "      <th>95334</th>\n",
       "      <td>Debt consolidation</td>\n",
       "      <td>Source Verified</td>\n",
       "      <td>62000</td>\n",
       "      <td>14700</td>\n",
       "      <td>16.14</td>\n",
       "      <td>60</td>\n",
       "      <td>21514.19</td>\n",
       "      <td>4302.84</td>\n",
       "      <td>6.940</td>\n",
       "    </tr>\n",
       "    <tr>\n",
       "      <th>93832</th>\n",
       "      <td>Debt consolidation</td>\n",
       "      <td>Source Verified</td>\n",
       "      <td>122000</td>\n",
       "      <td>25000</td>\n",
       "      <td>10.08</td>\n",
       "      <td>60</td>\n",
       "      <td>31929.64</td>\n",
       "      <td>6385.93</td>\n",
       "      <td>5.234</td>\n",
       "    </tr>\n",
       "    <tr>\n",
       "      <th>60538</th>\n",
       "      <td>Other</td>\n",
       "      <td>Source Verified</td>\n",
       "      <td>163000</td>\n",
       "      <td>20000</td>\n",
       "      <td>13.56</td>\n",
       "      <td>60</td>\n",
       "      <td>27648.92</td>\n",
       "      <td>5529.78</td>\n",
       "      <td>3.393</td>\n",
       "    </tr>\n",
       "    <tr>\n",
       "      <th>66023</th>\n",
       "      <td>Debt consolidation</td>\n",
       "      <td>Not Verified</td>\n",
       "      <td>85000</td>\n",
       "      <td>25000</td>\n",
       "      <td>16.91</td>\n",
       "      <td>60</td>\n",
       "      <td>37206.31</td>\n",
       "      <td>7441.26</td>\n",
       "      <td>8.754</td>\n",
       "    </tr>\n",
       "    <tr>\n",
       "      <th>4429</th>\n",
       "      <td>Debt consolidation</td>\n",
       "      <td>Verified</td>\n",
       "      <td>50000</td>\n",
       "      <td>10200</td>\n",
       "      <td>19.92</td>\n",
       "      <td>60</td>\n",
       "      <td>16187.03</td>\n",
       "      <td>3237.41</td>\n",
       "      <td>6.475</td>\n",
       "    </tr>\n",
       "    <tr>\n",
       "      <th>30680</th>\n",
       "      <td>Credit card refinancing</td>\n",
       "      <td>Source Verified</td>\n",
       "      <td>52000</td>\n",
       "      <td>12000</td>\n",
       "      <td>10.08</td>\n",
       "      <td>60</td>\n",
       "      <td>15326.23</td>\n",
       "      <td>3065.25</td>\n",
       "      <td>5.895</td>\n",
       "    </tr>\n",
       "  </tbody>\n",
       "</table>\n",
       "</div>"
      ],
      "text/plain": [
       "                          title verification_status  annual_inc  loan_amnt  \\\n",
       "2584         Debt consolidation     Source Verified       60000      10000   \n",
       "117572       Debt consolidation     Source Verified       82000      36000   \n",
       "49419        Debt consolidation            Verified       46000       8500   \n",
       "43354   Credit card refinancing     Source Verified       28657       3000   \n",
       "95334        Debt consolidation     Source Verified       62000      14700   \n",
       "93832        Debt consolidation     Source Verified      122000      25000   \n",
       "60538                     Other     Source Verified      163000      20000   \n",
       "66023        Debt consolidation        Not Verified       85000      25000   \n",
       "4429         Debt consolidation            Verified       50000      10200   \n",
       "30680   Credit card refinancing     Source Verified       52000      12000   \n",
       "\n",
       "        int_rate  term_in_months  total_loan_cost  annual_loan_payment  \\\n",
       "2584       16.14              36         12681.43              4227.14   \n",
       "117572      6.67              36         39821.47             13273.82   \n",
       "49419      14.47              36         10528.34              3509.45   \n",
       "43354      11.06              36          3538.85              1179.62   \n",
       "95334      16.14              60         21514.19              4302.84   \n",
       "93832      10.08              60         31929.64              6385.93   \n",
       "60538      13.56              60         27648.92              5529.78   \n",
       "66023      16.91              60         37206.31              7441.26   \n",
       "4429       19.92              60         16187.03              3237.41   \n",
       "30680      10.08              60         15326.23              3065.25   \n",
       "\n",
       "        annual_loan_income_percent  \n",
       "2584                         7.045  \n",
       "117572                      16.188  \n",
       "49419                        7.629  \n",
       "43354                        4.116  \n",
       "95334                        6.940  \n",
       "93832                        5.234  \n",
       "60538                        3.393  \n",
       "66023                        8.754  \n",
       "4429                         6.475  \n",
       "30680                        5.895  "
      ]
     },
     "execution_count": 18,
     "metadata": {},
     "output_type": "execute_result"
    }
   ],
   "source": [
    "import re\n",
    "\n",
    "df_loanByIncome = df.filter([\"title\", \"verification_status\", \"annual_inc\", \"loan_amnt\", \"int_rate\", \"term\"], axis=1)\n",
    "df_loanByIncome.rename({\"term\": \"term_in_months\"}, axis='columns', inplace=True)\n",
    "df_loanByIncome[\"annual_inc\"] = df_loanByIncome[\"annual_inc\"].astype(dtype=int)\n",
    "df_loanByIncome[\"int_rate\"] = df_loanByIncome[\"int_rate\"].apply(lambda int_rate: float(re.search(r'\\d+.\\d+', int_rate).group(0)))\n",
    "df_loanByIncome[\"term_in_months\"] = df_loanByIncome[\"term_in_months\"].apply(lambda term: int(re.search(r'\\d+', term).group(0)))\n",
    "\n",
    "def calculateTotalLoanCost(row) -> float:\n",
    "    p = row[\"loan_amnt\"] # principal\n",
    "    r = row[\"int_rate\"] / 12 / 100 # monthly loan rate\n",
    "    n = row[\"term_in_months\"] # number of monthly payments\n",
    "    \n",
    "    total_loan_cost = (r * p * n) / (1 - (1 + r) ** -n)\n",
    "    return round(total_loan_cost, 2)\n",
    "\n",
    "def calculateAnnualLoanIncomeRatio(row) -> float:\n",
    "    loan_income_ratio = None\n",
    "    if row[\"annual_inc\"] > 0:\n",
    "        loan_income_ratio = row[\"annual_loan_payment\"] / row[\"annual_inc\"] * 100\n",
    "        loan_income_ratio = round(loan_income_ratio, 3)\n",
    "    return loan_income_ratio\n",
    "\n",
    "df_loanByIncome[\"total_loan_cost\"] = df_loanByIncome.apply(calculateTotalLoanCost, axis=1)\n",
    "df_loanByIncome[\"annual_loan_payment\"] = df_loanByIncome.apply(lambda row: round(row[\"total_loan_cost\"] / row[\"term_in_months\"] * 12, 2), axis=1)\n",
    "\n",
    "# Percentage of annual income towards replaying the loan, assuming fixed monthly payment\n",
    "df_loanByIncome[\"annual_loan_income_percent\"] = df_loanByIncome.apply(calculateAnnualLoanIncomeRatio, axis=1)\n",
    "\n",
    "df_loanByIncome.sample(10)"
   ]
  },
  {
   "cell_type": "code",
   "execution_count": 19,
   "metadata": {
    "scrolled": false
   },
   "outputs": [
    {
     "data": {
      "text/html": [
       "<div>\n",
       "<style scoped>\n",
       "    .dataframe tbody tr th:only-of-type {\n",
       "        vertical-align: middle;\n",
       "    }\n",
       "\n",
       "    .dataframe tbody tr th {\n",
       "        vertical-align: top;\n",
       "    }\n",
       "\n",
       "    .dataframe thead th {\n",
       "        text-align: right;\n",
       "    }\n",
       "</style>\n",
       "<table border=\"1\" class=\"dataframe\">\n",
       "  <thead>\n",
       "    <tr style=\"text-align: right;\">\n",
       "      <th></th>\n",
       "      <th>title</th>\n",
       "      <th>verification_status</th>\n",
       "      <th>annual_inc</th>\n",
       "      <th>loan_amnt</th>\n",
       "      <th>int_rate</th>\n",
       "      <th>term</th>\n",
       "      <th>installment</th>\n",
       "      <th>loan_status</th>\n",
       "      <th>total_loan_cost</th>\n",
       "      <th>annual_loan_payment</th>\n",
       "      <th>annual_loan_income_percent</th>\n",
       "    </tr>\n",
       "  </thead>\n",
       "  <tbody>\n",
       "    <tr>\n",
       "      <th>12</th>\n",
       "      <td>Vacation</td>\n",
       "      <td>Source Verified</td>\n",
       "      <td>38500.0</td>\n",
       "      <td>4200</td>\n",
       "      <td>13.56%</td>\n",
       "      <td>36 months</td>\n",
       "      <td>142.66</td>\n",
       "      <td>Fully Paid</td>\n",
       "      <td>5135.76</td>\n",
       "      <td>1711.92</td>\n",
       "      <td>4.447</td>\n",
       "    </tr>\n",
       "    <tr>\n",
       "      <th>20</th>\n",
       "      <td>Credit card refinancing</td>\n",
       "      <td>Not Verified</td>\n",
       "      <td>90000.0</td>\n",
       "      <td>10000</td>\n",
       "      <td>7.21%</td>\n",
       "      <td>36 months</td>\n",
       "      <td>309.74</td>\n",
       "      <td>In Grace Period</td>\n",
       "      <td>11150.64</td>\n",
       "      <td>3716.88</td>\n",
       "      <td>4.130</td>\n",
       "    </tr>\n",
       "    <tr>\n",
       "      <th>47</th>\n",
       "      <td>Debt consolidation</td>\n",
       "      <td>Source Verified</td>\n",
       "      <td>59000.0</td>\n",
       "      <td>5500</td>\n",
       "      <td>6.67%</td>\n",
       "      <td>36 months</td>\n",
       "      <td>169.00</td>\n",
       "      <td>Fully Paid</td>\n",
       "      <td>6084.00</td>\n",
       "      <td>2028.00</td>\n",
       "      <td>3.437</td>\n",
       "    </tr>\n",
       "    <tr>\n",
       "      <th>99</th>\n",
       "      <td>Debt consolidation</td>\n",
       "      <td>Source Verified</td>\n",
       "      <td>65000.0</td>\n",
       "      <td>12000</td>\n",
       "      <td>12.73%</td>\n",
       "      <td>60 months</td>\n",
       "      <td>271.39</td>\n",
       "      <td>Late (31-120 days)</td>\n",
       "      <td>16283.40</td>\n",
       "      <td>3256.68</td>\n",
       "      <td>5.010</td>\n",
       "    </tr>\n",
       "    <tr>\n",
       "      <th>112</th>\n",
       "      <td>Debt consolidation</td>\n",
       "      <td>Not Verified</td>\n",
       "      <td>60000.0</td>\n",
       "      <td>25000</td>\n",
       "      <td>16.14%</td>\n",
       "      <td>36 months</td>\n",
       "      <td>880.66</td>\n",
       "      <td>Fully Paid</td>\n",
       "      <td>31703.76</td>\n",
       "      <td>10567.92</td>\n",
       "      <td>17.613</td>\n",
       "    </tr>\n",
       "  </tbody>\n",
       "</table>\n",
       "</div>"
      ],
      "text/plain": [
       "                       title verification_status  annual_inc  loan_amnt  \\\n",
       "12                  Vacation     Source Verified     38500.0       4200   \n",
       "20   Credit card refinancing        Not Verified     90000.0      10000   \n",
       "47        Debt consolidation     Source Verified     59000.0       5500   \n",
       "99        Debt consolidation     Source Verified     65000.0      12000   \n",
       "112       Debt consolidation        Not Verified     60000.0      25000   \n",
       "\n",
       "    int_rate        term  installment         loan_status  total_loan_cost  \\\n",
       "12    13.56%   36 months       142.66          Fully Paid          5135.76   \n",
       "20     7.21%   36 months       309.74     In Grace Period         11150.64   \n",
       "47     6.67%   36 months       169.00          Fully Paid          6084.00   \n",
       "99    12.73%   60 months       271.39  Late (31-120 days)         16283.40   \n",
       "112   16.14%   36 months       880.66          Fully Paid         31703.76   \n",
       "\n",
       "     annual_loan_payment  annual_loan_income_percent  \n",
       "12               1711.92                       4.447  \n",
       "20               3716.88                       4.130  \n",
       "47               2028.00                       3.437  \n",
       "99               3256.68                       5.010  \n",
       "112             10567.92                      17.613  "
      ]
     },
     "execution_count": 19,
     "metadata": {},
     "output_type": "execute_result"
    }
   ],
   "source": [
    "df_loanByIncome2 = df.filter([\"title\", \"verification_status\", \"annual_inc\", \"loan_amnt\", \"int_rate\", \"term\", \"installment\", \"loan_status\"], axis=1)\n",
    "df_loanByIncome2 = df_loanByIncome2.loc[df_loanByIncome2[\"loan_status\"] != \"Current\"]\n",
    "    \n",
    "\n",
    "df_loanByIncome2[\"total_loan_cost\"] = df_loanByIncome2.apply(lambda row: row[\"installment\"] * int(re.search(r'\\d+', row[\"term\"]).group(0)), axis=1)\n",
    "df_loanByIncome2[\"annual_loan_payment\"] = df_loanByIncome2.apply(lambda row: round(row[\"total_loan_cost\"] / int(re.search(r'\\d+', row[\"term\"]).group(0)) * 12, 2), axis=1)\n",
    "df_loanByIncome2[\"annual_loan_income_percent\"] = df_loanByIncome2.apply(calculateAnnualLoanIncomeRatio, axis=1)\n",
    "df_loanByIncome2.head(5)"
   ]
  },
  {
   "cell_type": "code",
   "execution_count": 20,
   "metadata": {},
   "outputs": [
    {
     "name": "stdout",
     "output_type": "stream",
     "text": [
      "loan_amnt                                    : \t\t 20000\n",
      "funded_amnt                                  : \t\t 20000\n",
      "funded_amnt_inv                              : \t\t 20000\n",
      "term                                         : \t\t  60 months\n",
      "int_rate                                     : \t\t  17.97%\n",
      "installment                                  : \t\t 507.55\n",
      "grade                                        : \t\t D\n",
      "sub_grade                                    : \t\t D1\n",
      "emp_title                                    : \t\t Motor Vehicle Operator\n",
      "emp_length                                   : \t\t 7 years\n",
      "home_ownership                               : \t\t RENT\n",
      "annual_inc                                   : \t\t 68000.0\n",
      "verification_status                          : \t\t Source Verified\n",
      "issue_d                                      : \t\t Sep-2018\n",
      "loan_status                                  : \t\t Current\n",
      "pymnt_plan                                   : \t\t n\n",
      "purpose                                      : \t\t debt_consolidation\n",
      "title                                        : \t\t Debt consolidation\n",
      "zip_code                                     : \t\t 254xx\n",
      "addr_state                                   : \t\t WV\n",
      "dti                                          : \t\t 15.8\n",
      "delinq_2yrs                                  : \t\t 0\n",
      "earliest_cr_line                             : \t\t Feb-2009\n",
      "inq_last_6mths                               : \t\t 1\n",
      "mths_since_last_delinq                       : \t\t 30.0\n",
      "mths_since_last_record                       : \t\t 118.0\n",
      "open_acc                                     : \t\t 11\n",
      "pub_rec                                      : \t\t 1\n",
      "revol_bal                                    : \t\t 13483\n",
      "revol_util                                   : \t\t 69.1%\n",
      "total_acc                                    : \t\t 26\n",
      "initial_list_status                          : \t\t w\n",
      "out_prncp                                    : \t\t 19580.78\n",
      "out_prncp_inv                                : \t\t 19580.78\n",
      "total_pymnt                                  : \t\t 975.17\n",
      "total_pymnt_inv                              : \t\t 975.17\n",
      "total_rec_prncp                              : \t\t 419.22\n",
      "total_rec_int                                : \t\t 555.95\n",
      "total_rec_late_fee                           : \t\t 0.0\n",
      "recoveries                                   : \t\t 0.0\n",
      "collection_recovery_fee                      : \t\t 0.0\n",
      "last_pymnt_d                                 : \t\t Dec-2018\n",
      "last_pymnt_amnt                              : \t\t 507.55\n",
      "next_pymnt_d                                 : \t\t Jan-2019\n",
      "last_credit_pull_d                           : \t\t Dec-2018\n",
      "collections_12_mths_ex_med                   : \t\t 0\n",
      "mths_since_last_major_derog                  : \t\t nan\n",
      "policy_code                                  : \t\t 1\n",
      "application_type                             : \t\t Individual\n",
      "annual_inc_joint                             : \t\t nan\n",
      "dti_joint                                    : \t\t nan\n",
      "verification_status_joint                    : \t\t nan\n",
      "acc_now_delinq                               : \t\t 0\n",
      "tot_coll_amt                                 : \t\t 0\n",
      "tot_cur_bal                                  : \t\t 194908\n",
      "open_acc_6m                                  : \t\t 0\n",
      "open_act_il                                  : \t\t 2\n",
      "open_il_12m                                  : \t\t 0\n",
      "open_il_24m                                  : \t\t 2\n",
      "mths_since_rcnt_il                           : \t\t 17.0\n",
      "total_bal_il                                 : \t\t 45299\n",
      "il_util                                      : \t\t 93.0\n",
      "open_rv_12m                                  : \t\t 0\n",
      "open_rv_24m                                  : \t\t 1\n",
      "max_bal_bc                                   : \t\t 9815\n",
      "all_util                                     : \t\t 86.0\n",
      "total_rev_hi_lim                             : \t\t 19500\n",
      "inq_fi                                       : \t\t 1\n",
      "total_cu_tl                                  : \t\t 4\n",
      "inq_last_12m                                 : \t\t 2\n",
      "acc_open_past_24mths                         : \t\t 5\n",
      "avg_cur_bal                                  : \t\t 19491.0\n",
      "bc_open_to_buy                               : \t\t 2185.0\n",
      "bc_util                                      : \t\t 81.8\n",
      "chargeoff_within_12_mths                     : \t\t 0\n",
      "delinq_amnt                                  : \t\t 0\n",
      "mo_sin_old_il_acct                           : \t\t 115.0\n",
      "mo_sin_old_rev_tl_op                         : \t\t 94\n",
      "mo_sin_rcnt_rev_tl_op                        : \t\t 13\n",
      "mo_sin_rcnt_tl                               : \t\t 7\n",
      "mort_acc                                     : \t\t 4\n",
      "mths_since_recent_bc                         : \t\t 25.0\n",
      "mths_since_recent_bc_dlq                     : \t\t nan\n",
      "mths_since_recent_inq                        : \t\t 2.0\n",
      "mths_since_recent_revol_delinq               : \t\t 30.0\n",
      "num_accts_ever_120_pd                        : \t\t 0\n",
      "num_actv_bc_tl                               : \t\t 1\n",
      "num_actv_rev_tl                              : \t\t 3\n",
      "num_bc_sats                                  : \t\t 2\n",
      "num_bc_tl                                    : \t\t 4\n",
      "num_il_tl                                    : \t\t 11\n",
      "num_op_rev_tl                                : \t\t 8\n",
      "num_rev_accts                                : \t\t 10\n",
      "num_rev_tl_bal_gt_0                          : \t\t 3\n",
      "num_sats                                     : \t\t 11\n",
      "num_tl_120dpd_2m                             : \t\t 0.0\n",
      "num_tl_30dpd                                 : \t\t 0\n",
      "num_tl_90g_dpd_24m                           : \t\t 0\n",
      "num_tl_op_past_12m                           : \t\t 1\n",
      "pct_tl_nvr_dlq                               : \t\t 92.3\n",
      "percent_bc_gt_75                             : \t\t 50.0\n",
      "pub_rec_bankruptcies                         : \t\t 1\n",
      "tax_liens                                    : \t\t 0\n",
      "tot_hi_cred_lim                              : \t\t 205625\n",
      "total_bal_ex_mort                            : \t\t 58782\n",
      "total_bc_limit                               : \t\t 12000\n",
      "total_il_high_credit_limit                   : \t\t 48733\n",
      "revol_bal_joint                              : \t\t nan\n",
      "sec_app_earliest_cr_line                     : \t\t nan\n",
      "sec_app_inq_last_6mths                       : \t\t nan\n",
      "sec_app_mort_acc                             : \t\t nan\n",
      "sec_app_open_acc                             : \t\t nan\n",
      "sec_app_revol_util                           : \t\t nan\n",
      "sec_app_open_act_il                          : \t\t nan\n",
      "sec_app_num_rev_accts                        : \t\t nan\n",
      "sec_app_chargeoff_within_12_mths             : \t\t nan\n",
      "sec_app_collections_12_mths_ex_med           : \t\t nan\n",
      "sec_app_mths_since_last_major_derog          : \t\t nan\n",
      "hardship_flag                                : \t\t N\n",
      "hardship_type                                : \t\t nan\n",
      "hardship_reason                              : \t\t nan\n",
      "hardship_status                              : \t\t nan\n",
      "deferral_term                                : \t\t nan\n",
      "hardship_amount                              : \t\t nan\n",
      "hardship_start_date                          : \t\t nan\n",
      "hardship_end_date                            : \t\t nan\n",
      "payment_plan_start_date                      : \t\t nan\n",
      "hardship_length                              : \t\t nan\n",
      "hardship_dpd                                 : \t\t nan\n",
      "hardship_loan_status                         : \t\t nan\n",
      "orig_projected_additional_accrued_interest   : \t\t nan\n",
      "hardship_payoff_balance_amount               : \t\t nan\n",
      "hardship_last_payment_amount                 : \t\t nan\n",
      "disbursement_method                          : \t\t DirectPay\n",
      "debt_settlement_flag                         : \t\t N\n",
      "debt_settlement_flag_date                    : \t\t nan\n",
      "settlement_status                            : \t\t nan\n",
      "settlement_date                              : \t\t nan\n",
      "settlement_amount                            : \t\t nan\n",
      "settlement_percentage                        : \t\t nan\n",
      "settlement_term                              : \t\t nan\n"
     ]
    }
   ],
   "source": [
    "for idx, i in df.loc[0].iteritems():\n",
    "    print(\"{:45}: \\t\\t {}\".format(idx, i))"
   ]
  },
  {
   "cell_type": "code",
   "execution_count": 21,
   "metadata": {},
   "outputs": [
    {
     "data": {
      "text/plain": [
       "Debt consolidation         69815\n",
       "Credit card refinancing    35342\n",
       "Home improvement            7944\n",
       "Other                       6881\n",
       "Major purchase              2339\n",
       "Medical expenses            1400\n",
       "Car financing               1056\n",
       "Business                     943\n",
       "Vacation                     835\n",
       "Home buying                  788\n",
       "Moving and relocation        782\n",
       "Green loan                    69\n",
       "Name: title, dtype: int64"
      ]
     },
     "execution_count": 21,
     "metadata": {},
     "output_type": "execute_result"
    }
   ],
   "source": [
    "df[\"title\"].value_counts()"
   ]
  },
  {
   "cell_type": "code",
   "execution_count": 22,
   "metadata": {},
   "outputs": [
    {
     "data": {
      "text/plain": [
       "Source Verified    52037\n",
       "Not Verified       50209\n",
       "Verified           25948\n",
       "Name: verification_status, dtype: int64"
      ]
     },
     "execution_count": 22,
     "metadata": {},
     "output_type": "execute_result"
    }
   ],
   "source": [
    "df[\"verification_status\"].value_counts()"
   ]
  },
  {
   "cell_type": "code",
   "execution_count": 23,
   "metadata": {},
   "outputs": [
    {
     "data": {
      "image/png": "[encoded data removed]",
      "text/plain": [
       "<Figure size 1152x648 with 1 Axes>"
      ]
     },
     "metadata": {},
     "output_type": "display_data"
    }
   ],
   "source": [
    "_title = dict(df[\"title\"].value_counts().iteritems())\n",
    "\n",
    "labels = list(_title.keys())[:3]\n",
    "val = list(_title.values())[:3]\n",
    "\n",
    "labels.append(\"Others\")\n",
    "val.append(sum(list(_title.values())[3:]))\n",
    "\n",
    "labels = labels[::-1]\n",
    "val = val[::-1]\n",
    "\n",
    "plt.figure(figsize=(16,9))\n",
    "\n",
    "vmin = 0\n",
    "vmax = len(val)\n",
    "\n",
    "_NORMALIZE = Normalize(vmin=vmin, vmax=vmax)\n",
    "custom_color_range = [[_NORMALIZE(vmin), \"lightcoral\"],\n",
    "                      [_NORMALIZE(vmax/5), \"lemonchiffon\"],\n",
    "                      [_NORMALIZE(vmax), \"lightgreen\"]]\n",
    "\n",
    "_COLORMAP = LinearSegmentedColormap.from_list(\"\", custom_color_range, N=vmax+1)\n",
    "\n",
    "colors = _COLORMAP(list(range(0, vmax)))\n",
    "# lightcoral\n",
    "# lightgreen\n",
    "\n",
    "plt.pie(val, labels=labels, autopct=lambda p : '{:.2f}%\\n({:,.0f})'.format(p,p * sum(val)/100), pctdistance=.75, wedgeprops=dict(width=0.5), colors=colors, startangle=90, shadow=True)\n",
    "plt.title(\"LendingClub - Loan Title\")\n",
    "\n",
    "plt.show()"
   ]
  },
  {
   "cell_type": "code",
   "execution_count": 24,
   "metadata": {},
   "outputs": [
    {
     "data": {
      "image/png": "[encoded data removed]",
      "text/plain": [
       "<Figure size 1152x648 with 1 Axes>"
      ]
     },
     "metadata": {},
     "output_type": "display_data"
    }
   ],
   "source": [
    "_verification_status = dict(df[\"verification_status\"].value_counts().iteritems())\n",
    "\n",
    "labels = [\"Source Verified\", \"Verified\", \"Not Verified\"][::-1]\n",
    "val = [_verification_status[l] for l in labels]\n",
    "\n",
    "plt.figure(figsize=(16,9))\n",
    "\n",
    "colors = [\"lightgreen\", \"lemonchiffon\", \"lightcoral\"][::-1]\n",
    "# lightcoral\n",
    "# lightgreen\n",
    "\n",
    "plt.pie(val, labels=labels, autopct=lambda p : '{:.2f}%\\n({:,.0f})'.format(p,p * sum(val)/100), pctdistance=.75, wedgeprops=dict(width=0.5), colors=colors, startangle=90, shadow=True)\n",
    "plt.title(\"LendingClub - Loan Verification Status\")\n",
    "\n",
    "plt.show()"
   ]
  },
  {
   "cell_type": "code",
   "execution_count": 80,
   "metadata": {},
   "outputs": [
    {
     "data": {
      "image/png": "[encoded data removed]",
      "text/plain": [
       "<Figure size 1152x648 with 1 Axes>"
      ]
     },
     "metadata": {
      "needs_background": "light"
     },
     "output_type": "display_data"
    }
   ],
   "source": [
    "plt.figure(figsize=(16,9))\n",
    "\n",
    "x = df[\"loan_amnt\"].tolist()\n",
    "\n",
    "plt.hist(x, bins=100, histtype=\"bar\", cumulative=False)\n",
    "plt.xlim(left=0)\n",
    "plt.xlabel(\"Loan Amount (Dollars)\")\n",
    "plt.ylabel(\"Frequency\")\n",
    "plt.grid()\n",
    "plt.title(\"LendingClub - Loan Amount Histogram\")\n",
    "plt.show()"
   ]
  },
  {
   "cell_type": "code",
   "execution_count": 83,
   "metadata": {},
   "outputs": [
    {
     "data": {
      "image/png": "[encoded data removed]",
      "text/plain": [
       "<Figure size 1152x648 with 1 Axes>"
      ]
     },
     "metadata": {
      "needs_background": "light"
     },
     "output_type": "display_data"
    }
   ],
   "source": [
    "plt.figure(figsize=(16,9))\n",
    "\n",
    "x = [float(re.search(r'\\d+.\\d+', int_rate).group(0)) for int_rate in df[\"int_rate\"].tolist()]\n",
    "\n",
    "plt.hist(x, bins=30, histtype=\"bar\", cumulative=False)\n",
    "plt.xlim()\n",
    "plt.xlabel(\"Loan Amount (Dollars)\")\n",
    "plt.ylabel(\"Frequency\")\n",
    "plt.grid()\n",
    "plt.title(\"LendingClub - Interest Rate Histogram\")\n",
    "plt.show()"
   ]
  },
  {
   "cell_type": "code",
   "execution_count": null,
   "metadata": {},
   "outputs": [],
   "source": []
  },
  {
   "cell_type": "code",
   "execution_count": null,
   "metadata": {},
   "outputs": [],
   "source": []
  }
 ],
 "metadata": {
  "kernelspec": {
   "display_name": "Python 3",
   "language": "python",
   "name": "python3"
  },
  "language_info": {
   "codemirror_mode": {
    "name": "ipython",
    "version": 3
   },
   "file_extension": ".py",
   "mimetype": "text/x-python",
   "name": "python",
   "nbconvert_exporter": "python",
   "pygments_lexer": "ipython3",
   "version": "3.7.1"
  }
 },
 "nbformat": 4,
 "nbformat_minor": 2
}
