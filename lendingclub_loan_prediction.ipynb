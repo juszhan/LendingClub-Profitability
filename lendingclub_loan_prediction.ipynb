{
 "cells": [
  {
   "cell_type": "code",
   "execution_count": 1,
   "metadata": {},
   "outputs": [],
   "source": [
    "import pandas as pd\n",
    "import numpy as np\n",
    "import matplotlib.pyplot as plt\n",
    "\n",
    "import itertools\n",
    "import os\n",
    "import re\n",
    "from statistics import mean\n",
    "from pathlib import Path\n",
    "from typing import Tuple\n",
    "\n",
    "from sklearn.ensemble import GradientBoostingClassifier\n",
    "from sklearn.ensemble import RandomForestClassifier\n",
    "from sklearn.svm import SVC\n",
    "from sklearn.tree import DecisionTreeClassifier\n",
    "\n",
    "from sklearn.preprocessing import LabelEncoder\n",
    "from sklearn.model_selection import cross_val_score\n",
    "from sklearn.model_selection import train_test_split\n",
    "from sklearn.model_selection import GridSearchCV\n",
    "from sklearn.model_selection import RandomizedSearchCV\n",
    "from sklearn.preprocessing import MinMaxScaler\n",
    "from sklearn.preprocessing import StandardScaler\n",
    "\n",
    "_PRNG = np.random.RandomState(0)\n",
    "\n",
    "# Debug, for minimizing GridSearchCV and RandomizedSearchCV search space\n",
    "_DEBUG_SEARCH = True"
   ]
  },
  {
   "cell_type": "code",
   "execution_count": 2,
   "metadata": {},
   "outputs": [
    {
     "name": "stdout",
     "output_type": "stream",
     "text": [
      "Preprocessed dataset found, reading preprocessed dataset\n",
      "Done!\n"
     ]
    }
   ],
   "source": [
    "_DATA_DIR = \"./data\"\n",
    "_FILE_PROCESSED_DATASET = \"processed/lendingclub_2016-2018_processed.csv\"\n",
    "_FILE_PATH_PROCESSED_DATASET = Path(_DATA_DIR + \"/\" + _FILE_PROCESSED_DATASET)\n",
    "\n",
    "_IS_PROCESSED_DATASET = False\n",
    "\n",
    "df = None\n",
    "# Read in the data, check if a preprocessed dataset exists\n",
    "if _FILE_PATH_PROCESSED_DATASET.is_file():\n",
    "    print(\"Preprocessed dataset found, reading preprocessed dataset\")\n",
    "    _IS_PROCESSED_DATASET = True\n",
    "    df = pd.read_csv(_FILE_PATH_PROCESSED_DATASET)\n",
    "else:\n",
    "    # Read all data\n",
    "    print(\"Preprocessed dataset not found, reading all data\")\n",
    "    _dataset_loan_columns = [\"loan_amnt\",\n",
    "                             \"int_rate\",\n",
    "                             \"term\",\n",
    "                             \"grade\",\n",
    "                             \"sub_grade\",\n",
    "                             \"installment\",\n",
    "                             \"annual_inc\",\n",
    "                             \"loan_status\",\n",
    "                             \"verification_status\",\n",
    "                             \"purpose\"]\n",
    "\n",
    "    dataset_loans = {}\n",
    "    for file_name in os.listdir(_DATA_DIR):\n",
    "        if file_name.endswith(\".csv\"):\n",
    "            full_file_path = _DATA_DIR + \"/\" + file_name\n",
    "            print(full_file_path)\n",
    "            loan_period = re.search(r'\\d{4}Q[0-4]{1}', file_name).group(0)\n",
    "            dataset_loans[loan_period] = pd.read_csv(full_file_path, usecols=_dataset_loan_columns)[_dataset_loan_columns]\n",
    "    \n",
    "    # Combine all the data into a single dataframe\n",
    "    print(\"Combining all the data into a single dataframe\")\n",
    "    for k, dataset in dataset_loans.items():\n",
    "        if df is None:\n",
    "            df = dataset\n",
    "            continue\n",
    "        df = df.append(dataset, ignore_index=True)\n",
    "\n",
    "    del dataset_loans\n",
    "        \n",
    "    # Convert column types\n",
    "    print(\"Converting column types\")\n",
    "    df[\"loan_amnt\"] = df[\"loan_amnt\"].astype(int)\n",
    "    df[\"annual_inc\"] = df[\"annual_inc\"].astype(int)\n",
    "    df[\"int_rate\"] = df[\"int_rate\"].apply(lambda int_rate: float(int_rate[:-1]))\n",
    "    df[\"term\"] = df[\"term\"].apply(lambda term: int(re.search(r'\\d+', term).group(0)))\n",
    "    \n",
    "    # Remove outliers\n",
    "    # Annual income must be greater than 0 and less than 1 million\n",
    "    # Assume 0 is an outlier\n",
    "    # Assume millioniare+ are outliers\n",
    "    print(\"Removing outliers\")\n",
    "    df = df.loc[(df[\"annual_inc\"] > 0) & (df[\"annual_inc\"] < 1000000)]\n",
    "    \n",
    "    # Convert non-ordinal, categorical variables to binary vectors\n",
    "    print(\"Convert non-ordinal categorical variables to binary vectors (this can take a while)\")\n",
    "    total_columns_to_process = len(df[\"verification_status\"].unique()) + len(df[\"purpose\"].unique())\n",
    "    columns_processed = 0\n",
    "    for verification_status in df[\"verification_status\"].unique():\n",
    "        columns_processed += 1\n",
    "        print(f\"[{columns_processed}/{total_columns_to_process}]\", verification_status)\n",
    "        df[\"vs_\" + verification_status] = df.apply(lambda row: int(row[\"verification_status\"] == verification_status), axis=1)\n",
    "    for purpose in df[\"purpose\"].unique():\n",
    "        columns_processed += 1\n",
    "        print(f\"[{columns_processed}/{total_columns_to_process}]\", purpose)\n",
    "        df[\"p_\" + purpose] = df.apply(lambda row: int(row[\"purpose\"] == purpose), axis=1)\n",
    "\n",
    "    df.drop(columns=[\"verification_status\"], inplace=True)\n",
    "    df.drop(columns=[\"purpose\"], inplace=True)\n",
    "    \n",
    "    # Save processed dataset for future use\n",
    "    print(\"Saving processed dataset\")\n",
    "    df.to_csv(_FILE_PATH_PROCESSED_DATASET, index=False, header=True)\n",
    "    \n",
    "print(\"Done!\")"
   ]
  },
  {
   "cell_type": "code",
   "execution_count": 3,
   "metadata": {},
   "outputs": [
    {
     "name": "stdout",
     "output_type": "stream",
     "text": [
      "Number of loans in combined dataset: 1371066\n"
     ]
    },
    {
     "data": {
      "text/html": [
       "<div>\n",
       "<style scoped>\n",
       "    .dataframe tbody tr th:only-of-type {\n",
       "        vertical-align: middle;\n",
       "    }\n",
       "\n",
       "    .dataframe tbody tr th {\n",
       "        vertical-align: top;\n",
       "    }\n",
       "\n",
       "    .dataframe thead th {\n",
       "        text-align: right;\n",
       "    }\n",
       "</style>\n",
       "<table border=\"1\" class=\"dataframe\">\n",
       "  <thead>\n",
       "    <tr style=\"text-align: right;\">\n",
       "      <th></th>\n",
       "      <th>loan_amnt</th>\n",
       "      <th>int_rate</th>\n",
       "      <th>term</th>\n",
       "      <th>grade</th>\n",
       "      <th>sub_grade</th>\n",
       "      <th>installment</th>\n",
       "      <th>annual_inc</th>\n",
       "      <th>loan_status</th>\n",
       "      <th>vs_Source Verified</th>\n",
       "      <th>vs_Verified</th>\n",
       "      <th>...</th>\n",
       "      <th>p_other</th>\n",
       "      <th>p_major_purchase</th>\n",
       "      <th>p_vacation</th>\n",
       "      <th>p_moving</th>\n",
       "      <th>p_medical</th>\n",
       "      <th>p_car</th>\n",
       "      <th>p_house</th>\n",
       "      <th>p_renewable_energy</th>\n",
       "      <th>p_wedding</th>\n",
       "      <th>p_educational</th>\n",
       "    </tr>\n",
       "  </thead>\n",
       "  <tbody>\n",
       "    <tr>\n",
       "      <th>0</th>\n",
       "      <td>5000</td>\n",
       "      <td>17.27</td>\n",
       "      <td>36</td>\n",
       "      <td>D</td>\n",
       "      <td>D2</td>\n",
       "      <td>178.94</td>\n",
       "      <td>62000</td>\n",
       "      <td>Fully Paid</td>\n",
       "      <td>1</td>\n",
       "      <td>0</td>\n",
       "      <td>...</td>\n",
       "      <td>0</td>\n",
       "      <td>0</td>\n",
       "      <td>0</td>\n",
       "      <td>0</td>\n",
       "      <td>0</td>\n",
       "      <td>0</td>\n",
       "      <td>0</td>\n",
       "      <td>0</td>\n",
       "      <td>0</td>\n",
       "      <td>0</td>\n",
       "    </tr>\n",
       "    <tr>\n",
       "      <th>1</th>\n",
       "      <td>22000</td>\n",
       "      <td>6.49</td>\n",
       "      <td>36</td>\n",
       "      <td>A</td>\n",
       "      <td>A2</td>\n",
       "      <td>674.18</td>\n",
       "      <td>134000</td>\n",
       "      <td>Current</td>\n",
       "      <td>0</td>\n",
       "      <td>1</td>\n",
       "      <td>...</td>\n",
       "      <td>0</td>\n",
       "      <td>0</td>\n",
       "      <td>0</td>\n",
       "      <td>0</td>\n",
       "      <td>0</td>\n",
       "      <td>0</td>\n",
       "      <td>0</td>\n",
       "      <td>0</td>\n",
       "      <td>0</td>\n",
       "      <td>0</td>\n",
       "    </tr>\n",
       "    <tr>\n",
       "      <th>2</th>\n",
       "      <td>30000</td>\n",
       "      <td>10.75</td>\n",
       "      <td>60</td>\n",
       "      <td>B</td>\n",
       "      <td>B4</td>\n",
       "      <td>648.54</td>\n",
       "      <td>125000</td>\n",
       "      <td>Fully Paid</td>\n",
       "      <td>0</td>\n",
       "      <td>1</td>\n",
       "      <td>...</td>\n",
       "      <td>0</td>\n",
       "      <td>0</td>\n",
       "      <td>0</td>\n",
       "      <td>0</td>\n",
       "      <td>0</td>\n",
       "      <td>0</td>\n",
       "      <td>0</td>\n",
       "      <td>0</td>\n",
       "      <td>0</td>\n",
       "      <td>0</td>\n",
       "    </tr>\n",
       "    <tr>\n",
       "      <th>3</th>\n",
       "      <td>10000</td>\n",
       "      <td>16.29</td>\n",
       "      <td>36</td>\n",
       "      <td>D</td>\n",
       "      <td>D1</td>\n",
       "      <td>353.01</td>\n",
       "      <td>40000</td>\n",
       "      <td>Charged Off</td>\n",
       "      <td>1</td>\n",
       "      <td>0</td>\n",
       "      <td>...</td>\n",
       "      <td>0</td>\n",
       "      <td>0</td>\n",
       "      <td>0</td>\n",
       "      <td>0</td>\n",
       "      <td>0</td>\n",
       "      <td>0</td>\n",
       "      <td>0</td>\n",
       "      <td>0</td>\n",
       "      <td>0</td>\n",
       "      <td>0</td>\n",
       "    </tr>\n",
       "    <tr>\n",
       "      <th>4</th>\n",
       "      <td>12000</td>\n",
       "      <td>9.75</td>\n",
       "      <td>36</td>\n",
       "      <td>B</td>\n",
       "      <td>B3</td>\n",
       "      <td>385.80</td>\n",
       "      <td>120000</td>\n",
       "      <td>Current</td>\n",
       "      <td>0</td>\n",
       "      <td>0</td>\n",
       "      <td>...</td>\n",
       "      <td>0</td>\n",
       "      <td>0</td>\n",
       "      <td>0</td>\n",
       "      <td>0</td>\n",
       "      <td>0</td>\n",
       "      <td>0</td>\n",
       "      <td>0</td>\n",
       "      <td>0</td>\n",
       "      <td>0</td>\n",
       "      <td>0</td>\n",
       "    </tr>\n",
       "  </tbody>\n",
       "</table>\n",
       "<p>5 rows × 25 columns</p>\n",
       "</div>"
      ],
      "text/plain": [
       "   loan_amnt  int_rate  term grade sub_grade  installment  annual_inc  \\\n",
       "0       5000     17.27    36     D        D2       178.94       62000   \n",
       "1      22000      6.49    36     A        A2       674.18      134000   \n",
       "2      30000     10.75    60     B        B4       648.54      125000   \n",
       "3      10000     16.29    36     D        D1       353.01       40000   \n",
       "4      12000      9.75    36     B        B3       385.80      120000   \n",
       "\n",
       "   loan_status  vs_Source Verified  vs_Verified  ...  p_other  \\\n",
       "0   Fully Paid                   1            0  ...        0   \n",
       "1      Current                   0            1  ...        0   \n",
       "2   Fully Paid                   0            1  ...        0   \n",
       "3  Charged Off                   1            0  ...        0   \n",
       "4      Current                   0            0  ...        0   \n",
       "\n",
       "   p_major_purchase  p_vacation  p_moving  p_medical  p_car  p_house  \\\n",
       "0                 0           0         0          0      0        0   \n",
       "1                 0           0         0          0      0        0   \n",
       "2                 0           0         0          0      0        0   \n",
       "3                 0           0         0          0      0        0   \n",
       "4                 0           0         0          0      0        0   \n",
       "\n",
       "   p_renewable_energy  p_wedding  p_educational  \n",
       "0                   0          0              0  \n",
       "1                   0          0              0  \n",
       "2                   0          0              0  \n",
       "3                   0          0              0  \n",
       "4                   0          0              0  \n",
       "\n",
       "[5 rows x 25 columns]"
      ]
     },
     "execution_count": 3,
     "metadata": {},
     "output_type": "execute_result"
    }
   ],
   "source": [
    "print(\"Number of loans in combined dataset:\", len(df))\n",
    "df.head(5)"
   ]
  },
  {
   "cell_type": "code",
   "execution_count": 4,
   "metadata": {},
   "outputs": [
    {
     "data": {
      "text/html": [
       "<div>\n",
       "<style scoped>\n",
       "    .dataframe tbody tr th:only-of-type {\n",
       "        vertical-align: middle;\n",
       "    }\n",
       "\n",
       "    .dataframe tbody tr th {\n",
       "        vertical-align: top;\n",
       "    }\n",
       "\n",
       "    .dataframe thead th {\n",
       "        text-align: right;\n",
       "    }\n",
       "</style>\n",
       "<table border=\"1\" class=\"dataframe\">\n",
       "  <thead>\n",
       "    <tr style=\"text-align: right;\">\n",
       "      <th></th>\n",
       "      <th>loan_amnt</th>\n",
       "      <th>int_rate</th>\n",
       "      <th>term</th>\n",
       "      <th>grade</th>\n",
       "      <th>sub_grade</th>\n",
       "      <th>installment</th>\n",
       "      <th>annual_inc</th>\n",
       "      <th>loan_status</th>\n",
       "      <th>vs_Source Verified</th>\n",
       "      <th>vs_Verified</th>\n",
       "      <th>...</th>\n",
       "      <th>p_other</th>\n",
       "      <th>p_major_purchase</th>\n",
       "      <th>p_vacation</th>\n",
       "      <th>p_moving</th>\n",
       "      <th>p_medical</th>\n",
       "      <th>p_car</th>\n",
       "      <th>p_house</th>\n",
       "      <th>p_renewable_energy</th>\n",
       "      <th>p_wedding</th>\n",
       "      <th>p_educational</th>\n",
       "    </tr>\n",
       "  </thead>\n",
       "  <tbody>\n",
       "  </tbody>\n",
       "</table>\n",
       "<p>0 rows × 25 columns</p>\n",
       "</div>"
      ],
      "text/plain": [
       "Empty DataFrame\n",
       "Columns: [loan_amnt, int_rate, term, grade, sub_grade, installment, annual_inc, loan_status, vs_Source Verified, vs_Verified, vs_Not Verified, p_credit_card, p_debt_consolidation, p_small_business, p_home_improvement, p_other, p_major_purchase, p_vacation, p_moving, p_medical, p_car, p_house, p_renewable_energy, p_wedding, p_educational]\n",
       "Index: []\n",
       "\n",
       "[0 rows x 25 columns]"
      ]
     },
     "execution_count": 4,
     "metadata": {},
     "output_type": "execute_result"
    }
   ],
   "source": [
    "# Check if we have any null values\n",
    "df[df.isnull().any(axis=1)]"
   ]
  },
  {
   "cell_type": "markdown",
   "metadata": {},
   "source": [
    "### Preprocessing"
   ]
  },
  {
   "cell_type": "code",
   "execution_count": 5,
   "metadata": {},
   "outputs": [],
   "source": [
    "# Convert ordinal variables to numerical\n",
    "le_grade = LabelEncoder()\n",
    "df[\"grade\"] = le_grade.fit_transform(df[\"grade\"])\n",
    "\n",
    "le_sub_grade = LabelEncoder()\n",
    "df[\"sub_grade\"] = le_sub_grade.fit_transform(df[\"sub_grade\"])"
   ]
  },
  {
   "cell_type": "code",
   "execution_count": 6,
   "metadata": {},
   "outputs": [],
   "source": [
    "# Separate the postive/negative class\n",
    "df_pos = df.loc[df[\"loan_status\"] == \"Fully Paid\"]\n",
    "df_neg = df.loc[(df[\"loan_status\"] == \"Default\") | (df[\"loan_status\"] == \"Charged Off\")]"
   ]
  },
  {
   "cell_type": "code",
   "execution_count": 7,
   "metadata": {},
   "outputs": [
    {
     "data": {
      "text/plain": [
       "Fully Paid    382014\n",
       "Name: loan_status, dtype: int64"
      ]
     },
     "execution_count": 7,
     "metadata": {},
     "output_type": "execute_result"
    }
   ],
   "source": [
    "df_pos[\"loan_status\"].value_counts()"
   ]
  },
  {
   "cell_type": "code",
   "execution_count": 8,
   "metadata": {},
   "outputs": [
    {
     "data": {
      "text/plain": [
       "Charged Off    108758\n",
       "Default            35\n",
       "Name: loan_status, dtype: int64"
      ]
     },
     "execution_count": 8,
     "metadata": {},
     "output_type": "execute_result"
    }
   ],
   "source": [
    "df_neg[\"loan_status\"].value_counts()"
   ]
  },
  {
   "cell_type": "code",
   "execution_count": 9,
   "metadata": {
    "scrolled": true
   },
   "outputs": [
    {
     "data": {
      "text/html": [
       "<div>\n",
       "<style scoped>\n",
       "    .dataframe tbody tr th:only-of-type {\n",
       "        vertical-align: middle;\n",
       "    }\n",
       "\n",
       "    .dataframe tbody tr th {\n",
       "        vertical-align: top;\n",
       "    }\n",
       "\n",
       "    .dataframe thead th {\n",
       "        text-align: right;\n",
       "    }\n",
       "</style>\n",
       "<table border=\"1\" class=\"dataframe\">\n",
       "  <thead>\n",
       "    <tr style=\"text-align: right;\">\n",
       "      <th></th>\n",
       "      <th>loan_amnt</th>\n",
       "      <th>int_rate</th>\n",
       "      <th>term</th>\n",
       "      <th>grade</th>\n",
       "      <th>sub_grade</th>\n",
       "      <th>installment</th>\n",
       "      <th>annual_inc</th>\n",
       "    </tr>\n",
       "  </thead>\n",
       "  <tbody>\n",
       "    <tr>\n",
       "      <th>loan_amnt</th>\n",
       "      <td>1.000000</td>\n",
       "      <td>0.117732</td>\n",
       "      <td>0.353937</td>\n",
       "      <td>0.114210</td>\n",
       "      <td>0.116027</td>\n",
       "      <td>0.958982</td>\n",
       "      <td>0.422926</td>\n",
       "    </tr>\n",
       "    <tr>\n",
       "      <th>int_rate</th>\n",
       "      <td>0.117732</td>\n",
       "      <td>1.000000</td>\n",
       "      <td>0.368597</td>\n",
       "      <td>0.962965</td>\n",
       "      <td>0.987197</td>\n",
       "      <td>0.155487</td>\n",
       "      <td>-0.099715</td>\n",
       "    </tr>\n",
       "    <tr>\n",
       "      <th>term</th>\n",
       "      <td>0.353937</td>\n",
       "      <td>0.368597</td>\n",
       "      <td>1.000000</td>\n",
       "      <td>0.357490</td>\n",
       "      <td>0.366070</td>\n",
       "      <td>0.136393</td>\n",
       "      <td>0.079493</td>\n",
       "    </tr>\n",
       "    <tr>\n",
       "      <th>grade</th>\n",
       "      <td>0.114210</td>\n",
       "      <td>0.962965</td>\n",
       "      <td>0.357490</td>\n",
       "      <td>1.000000</td>\n",
       "      <td>0.971276</td>\n",
       "      <td>0.148621</td>\n",
       "      <td>-0.099893</td>\n",
       "    </tr>\n",
       "    <tr>\n",
       "      <th>sub_grade</th>\n",
       "      <td>0.116027</td>\n",
       "      <td>0.987197</td>\n",
       "      <td>0.366070</td>\n",
       "      <td>0.971276</td>\n",
       "      <td>1.000000</td>\n",
       "      <td>0.151058</td>\n",
       "      <td>-0.108120</td>\n",
       "    </tr>\n",
       "    <tr>\n",
       "      <th>installment</th>\n",
       "      <td>0.958982</td>\n",
       "      <td>0.155487</td>\n",
       "      <td>0.136393</td>\n",
       "      <td>0.148621</td>\n",
       "      <td>0.151058</td>\n",
       "      <td>1.000000</td>\n",
       "      <td>0.403238</td>\n",
       "    </tr>\n",
       "    <tr>\n",
       "      <th>annual_inc</th>\n",
       "      <td>0.422926</td>\n",
       "      <td>-0.099715</td>\n",
       "      <td>0.079493</td>\n",
       "      <td>-0.099893</td>\n",
       "      <td>-0.108120</td>\n",
       "      <td>0.403238</td>\n",
       "      <td>1.000000</td>\n",
       "    </tr>\n",
       "  </tbody>\n",
       "</table>\n",
       "</div>"
      ],
      "text/plain": [
       "             loan_amnt  int_rate      term     grade  sub_grade  installment  \\\n",
       "loan_amnt     1.000000  0.117732  0.353937  0.114210   0.116027     0.958982   \n",
       "int_rate      0.117732  1.000000  0.368597  0.962965   0.987197     0.155487   \n",
       "term          0.353937  0.368597  1.000000  0.357490   0.366070     0.136393   \n",
       "grade         0.114210  0.962965  0.357490  1.000000   0.971276     0.148621   \n",
       "sub_grade     0.116027  0.987197  0.366070  0.971276   1.000000     0.151058   \n",
       "installment   0.958982  0.155487  0.136393  0.148621   0.151058     1.000000   \n",
       "annual_inc    0.422926 -0.099715  0.079493 -0.099893  -0.108120     0.403238   \n",
       "\n",
       "             annual_inc  \n",
       "loan_amnt      0.422926  \n",
       "int_rate      -0.099715  \n",
       "term           0.079493  \n",
       "grade         -0.099893  \n",
       "sub_grade     -0.108120  \n",
       "installment    0.403238  \n",
       "annual_inc     1.000000  "
      ]
     },
     "execution_count": 9,
     "metadata": {},
     "output_type": "execute_result"
    }
   ],
   "source": [
    "df_pos[[\"loan_amnt\", \"int_rate\", \"term\", \"grade\", \"sub_grade\", \"installment\", \"annual_inc\"]].corr()"
   ]
  },
  {
   "cell_type": "code",
   "execution_count": 10,
   "metadata": {
    "scrolled": true
   },
   "outputs": [
    {
     "data": {
      "text/html": [
       "<div>\n",
       "<style scoped>\n",
       "    .dataframe tbody tr th:only-of-type {\n",
       "        vertical-align: middle;\n",
       "    }\n",
       "\n",
       "    .dataframe tbody tr th {\n",
       "        vertical-align: top;\n",
       "    }\n",
       "\n",
       "    .dataframe thead th {\n",
       "        text-align: right;\n",
       "    }\n",
       "</style>\n",
       "<table border=\"1\" class=\"dataframe\">\n",
       "  <thead>\n",
       "    <tr style=\"text-align: right;\">\n",
       "      <th></th>\n",
       "      <th>loan_amnt</th>\n",
       "      <th>int_rate</th>\n",
       "      <th>term</th>\n",
       "      <th>grade</th>\n",
       "      <th>sub_grade</th>\n",
       "      <th>installment</th>\n",
       "      <th>annual_inc</th>\n",
       "    </tr>\n",
       "  </thead>\n",
       "  <tbody>\n",
       "    <tr>\n",
       "      <th>loan_amnt</th>\n",
       "      <td>1.000000</td>\n",
       "      <td>0.191178</td>\n",
       "      <td>0.387081</td>\n",
       "      <td>0.187644</td>\n",
       "      <td>0.193173</td>\n",
       "      <td>0.945589</td>\n",
       "      <td>0.450970</td>\n",
       "    </tr>\n",
       "    <tr>\n",
       "      <th>int_rate</th>\n",
       "      <td>0.191178</td>\n",
       "      <td>1.000000</td>\n",
       "      <td>0.376418</td>\n",
       "      <td>0.962659</td>\n",
       "      <td>0.983896</td>\n",
       "      <td>0.248679</td>\n",
       "      <td>-0.066134</td>\n",
       "    </tr>\n",
       "    <tr>\n",
       "      <th>term</th>\n",
       "      <td>0.387081</td>\n",
       "      <td>0.376418</td>\n",
       "      <td>1.000000</td>\n",
       "      <td>0.372196</td>\n",
       "      <td>0.383811</td>\n",
       "      <td>0.142168</td>\n",
       "      <td>0.109504</td>\n",
       "    </tr>\n",
       "    <tr>\n",
       "      <th>grade</th>\n",
       "      <td>0.187644</td>\n",
       "      <td>0.962659</td>\n",
       "      <td>0.372196</td>\n",
       "      <td>1.000000</td>\n",
       "      <td>0.975763</td>\n",
       "      <td>0.238671</td>\n",
       "      <td>-0.068205</td>\n",
       "    </tr>\n",
       "    <tr>\n",
       "      <th>sub_grade</th>\n",
       "      <td>0.193173</td>\n",
       "      <td>0.983896</td>\n",
       "      <td>0.383811</td>\n",
       "      <td>0.975763</td>\n",
       "      <td>1.000000</td>\n",
       "      <td>0.244191</td>\n",
       "      <td>-0.070253</td>\n",
       "    </tr>\n",
       "    <tr>\n",
       "      <th>installment</th>\n",
       "      <td>0.945589</td>\n",
       "      <td>0.248679</td>\n",
       "      <td>0.142168</td>\n",
       "      <td>0.238671</td>\n",
       "      <td>0.244191</td>\n",
       "      <td>1.000000</td>\n",
       "      <td>0.419332</td>\n",
       "    </tr>\n",
       "    <tr>\n",
       "      <th>annual_inc</th>\n",
       "      <td>0.450970</td>\n",
       "      <td>-0.066134</td>\n",
       "      <td>0.109504</td>\n",
       "      <td>-0.068205</td>\n",
       "      <td>-0.070253</td>\n",
       "      <td>0.419332</td>\n",
       "      <td>1.000000</td>\n",
       "    </tr>\n",
       "  </tbody>\n",
       "</table>\n",
       "</div>"
      ],
      "text/plain": [
       "             loan_amnt  int_rate      term     grade  sub_grade  installment  \\\n",
       "loan_amnt     1.000000  0.191178  0.387081  0.187644   0.193173     0.945589   \n",
       "int_rate      0.191178  1.000000  0.376418  0.962659   0.983896     0.248679   \n",
       "term          0.387081  0.376418  1.000000  0.372196   0.383811     0.142168   \n",
       "grade         0.187644  0.962659  0.372196  1.000000   0.975763     0.238671   \n",
       "sub_grade     0.193173  0.983896  0.383811  0.975763   1.000000     0.244191   \n",
       "installment   0.945589  0.248679  0.142168  0.238671   0.244191     1.000000   \n",
       "annual_inc    0.450970 -0.066134  0.109504 -0.068205  -0.070253     0.419332   \n",
       "\n",
       "             annual_inc  \n",
       "loan_amnt      0.450970  \n",
       "int_rate      -0.066134  \n",
       "term           0.109504  \n",
       "grade         -0.068205  \n",
       "sub_grade     -0.070253  \n",
       "installment    0.419332  \n",
       "annual_inc     1.000000  "
      ]
     },
     "execution_count": 10,
     "metadata": {},
     "output_type": "execute_result"
    }
   ],
   "source": [
    "df_neg[[\"loan_amnt\", \"int_rate\", \"term\", \"grade\", \"sub_grade\", \"installment\", \"annual_inc\"]].corr()"
   ]
  },
  {
   "cell_type": "code",
   "execution_count": 11,
   "metadata": {},
   "outputs": [
    {
     "name": "stdout",
     "output_type": "stream",
     "text": [
      "Subsample pos: 100000\n",
      "Subsample neg: 100000\n"
     ]
    }
   ],
   "source": [
    "# Take a random even subsample\n",
    "SUBSAMPLE_AMOUNT = 100000\n",
    "\n",
    "# The validation set has a similar ratio of pos/neg as the original dataset, ~ 3.5 pos : 1 neg\n",
    "VALIDATION_POSITIVE_AMOUNT = 28000\n",
    "VALIDATION_NEGATIVE_AMOUNT = 8000\n",
    "\n",
    "df_pos = df_pos.sample(n=SUBSAMPLE_AMOUNT + VALIDATION_POSITIVE_AMOUNT, replace=False, random_state=_PRNG)\n",
    "df_neg = df_neg.sample(n=SUBSAMPLE_AMOUNT + VALIDATION_NEGATIVE_AMOUNT, replace=False, random_state=_PRNG)\n",
    "\n",
    "df_pos.drop(columns=[\"loan_status\"], inplace=True)\n",
    "df_neg.drop(columns=[\"loan_status\"], inplace=True)\n",
    "\n",
    "# Fit scalars\n",
    "data_to_scale = pd.concat([df_pos, df_neg], ignore_index=True, copy=True).astype(float)\n",
    "minmax_scaler = MinMaxScaler(feature_range=(0, 1))\n",
    "minmax_scaler.fit(data_to_scale)\n",
    "standard_scaler = StandardScaler()\n",
    "standard_scaler.fit(data_to_scale)\n",
    "del data_to_scale\n",
    "\n",
    "# Shuffle before taking our validation set\n",
    "df_pos = df_pos.sample(frac=1).reset_index(drop=True)\n",
    "df_neg = df_neg.sample(frac=1).reset_index(drop=True)\n",
    "\n",
    "# Validation set used later to calculate profitability\n",
    "df_val_pos = df_pos.tail(VALIDATION_POSITIVE_AMOUNT)\n",
    "df_val_neg = df_neg.tail(VALIDATION_NEGATIVE_AMOUNT)\n",
    "\n",
    "df_val_pos.reset_index(drop=True, inplace=True)\n",
    "df_val_neg.reset_index(drop=True, inplace=True)\n",
    "\n",
    "df_pos.drop(df_pos.tail(VALIDATION_POSITIVE_AMOUNT).index, inplace=True)\n",
    "df_neg.drop(df_neg.tail(VALIDATION_NEGATIVE_AMOUNT).index, inplace=True)\n",
    "\n",
    "print(\"Subsample pos:\", len(df_pos))\n",
    "print(\"Subsample neg:\", len(df_neg))"
   ]
  },
  {
   "cell_type": "code",
   "execution_count": 12,
   "metadata": {},
   "outputs": [],
   "source": [
    "POS_CLASS = 1\n",
    "NEG_CLASS = 0\n",
    "\n",
    "# Combine subsamples\n",
    "df_subsample_X = pd.concat([df_pos, df_neg], ignore_index=True, copy=True)\n",
    "df_subsample_X = df_subsample_X.astype(float)\n",
    "df_subsample_Y = [POS_CLASS] * len(df_pos) + [NEG_CLASS] * len(df_neg)\n",
    "\n",
    "assert len(df_subsample_X) == len(df_subsample_Y), \"Dataset and labels must be the same size\""
   ]
  },
  {
   "cell_type": "code",
   "execution_count": 13,
   "metadata": {},
   "outputs": [],
   "source": [
    "CLASSIFIERS = {}"
   ]
  },
  {
   "cell_type": "code",
   "execution_count": 14,
   "metadata": {},
   "outputs": [],
   "source": [
    "class ClassifierInfo:\n",
    "    def __init__(self, classifier, scaler, training_score:float, test_score:float) -> None:\n",
    "        self.classifier = classifier\n",
    "        self.scaler = scaler\n",
    "        self.training_score = training_score\n",
    "        self.test_score = test_score\n",
    "    \n",
    "    def predict(self, row) -> float:\n",
    "        return self.classifier.predict_proba(self.scaler.transform(row))"
   ]
  },
  {
   "cell_type": "markdown",
   "metadata": {},
   "source": [
    "### Linear SVM"
   ]
  },
  {
   "cell_type": "code",
   "execution_count": 15,
   "metadata": {},
   "outputs": [],
   "source": [
    "# Most libraries recommend a hard normalization, mapping the min and max values of a given dimension to [0,1]\n",
    "# However, a soft normalization is also feasible using StandardScaler\n",
    "# https://neerajkumar.org/writings/svm/\n",
    "# https://www.csie.ntu.edu.tw/~cjlin/papers/guide/guide.pdf\n",
    "\n",
    "scaler = minmax_scaler\n",
    "# scaler = standard_scaler\n",
    "\n",
    "df_subsample_scaled_X = scaler.fit_transform(df_subsample_X)"
   ]
  },
  {
   "cell_type": "code",
   "execution_count": 16,
   "metadata": {},
   "outputs": [
    {
     "name": "stdout",
     "output_type": "stream",
     "text": [
      "Training set size: 25000\n",
      "Training label size: 25000\n",
      "Test set size: 25000\n",
      "Test label size: 25000\n"
     ]
    }
   ],
   "source": [
    "# Create train/test split\n",
    "# The training set is much smaller due to computation constraints, SVMs have poor scalability\n",
    "X_train, X_test, Y_train, Y_test = train_test_split(df_subsample_scaled_X, df_subsample_Y, train_size=0.125, test_size=0.125, stratify=df_subsample_Y, random_state=_PRNG)\n",
    "print(\"Training set size:\", len(X_train))\n",
    "print(\"Training label size:\", len(Y_train))\n",
    "print(\"Test set size:\", len(X_test))\n",
    "print(\"Test label size:\", len(Y_test))"
   ]
  },
  {
   "cell_type": "code",
   "execution_count": 17,
   "metadata": {},
   "outputs": [
    {
     "name": "stdout",
     "output_type": "stream",
     "text": [
      "Fitting 5 folds for each of 1 candidates, totalling 5 fits\n"
     ]
    },
    {
     "name": "stderr",
     "output_type": "stream",
     "text": [
      "[Parallel(n_jobs=-1)]: Using backend LokyBackend with 8 concurrent workers.\n",
      "[Parallel(n_jobs=-1)]: Done   2 out of   5 | elapsed:  3.4min remaining:  5.1min\n",
      "[Parallel(n_jobs=-1)]: Done   5 out of   5 | elapsed:  3.4min finished\n"
     ]
    },
    {
     "name": "stdout",
     "output_type": "stream",
     "text": [
      "0.6571787326855707 {'C': 0.0625}\n"
     ]
    },
    {
     "data": {
      "text/plain": [
       "SVC(C=0.0625, cache_size=4000, class_weight=None, coef0=0.0,\n",
       "  decision_function_shape='ovr', degree=3, gamma='auto_deprecated',\n",
       "  kernel='linear', max_iter=-1, probability=True,\n",
       "  random_state=<mtrand.RandomState object at 0x0000019601616AF8>,\n",
       "  shrinking=True, tol=0.001, verbose=False)"
      ]
     },
     "execution_count": 17,
     "metadata": {},
     "output_type": "execute_result"
    }
   ],
   "source": [
    "# Use grid search cross-validation to find the best C, using F1-score\n",
    "parameters = {\n",
    "    \"C\" : [2 ** power for power in range(-5, 9)]\n",
    "}\n",
    "\n",
    "if _DEBUG_SEARCH:\n",
    "    parameters = {\n",
    "        \"C\" : [0.0625]\n",
    "    }\n",
    "\n",
    "clf = GridSearchCV(SVC(kernel=\"linear\", cache_size=4000, probability=True, random_state=_PRNG), param_grid=parameters, scoring=\"f1\", cv=5, refit=True, n_jobs=-1, verbose=1)\n",
    "clf.fit(X_train, Y_train)\n",
    "print (clf.best_score_, clf.best_params_)\n",
    "clf.best_estimator_"
   ]
  },
  {
   "cell_type": "code",
   "execution_count": 18,
   "metadata": {},
   "outputs": [
    {
     "data": {
      "text/plain": [
       "0.63476"
      ]
     },
     "execution_count": 18,
     "metadata": {},
     "output_type": "execute_result"
    }
   ],
   "source": [
    "svm = clf.best_estimator_\n",
    "\n",
    "test_score = svm.score(X_test, Y_test)\n",
    "test_score"
   ]
  },
  {
   "cell_type": "code",
   "execution_count": 19,
   "metadata": {},
   "outputs": [],
   "source": [
    "CLASSIFIERS[\"svm\"] = ClassifierInfo(classifier=svm, scaler=scaler, training_score=clf.best_score_, test_score=test_score)"
   ]
  },
  {
   "cell_type": "code",
   "execution_count": 20,
   "metadata": {
    "scrolled": false
   },
   "outputs": [
    {
     "name": "stdout",
     "output_type": "stream",
     "text": [
      "loan_amnt            : -0.2925\n",
      "int_rate             : -0.3140\n",
      "term                 : -0.3159\n",
      "grade                : -1.1929\n",
      "sub_grade            : -1.9965\n",
      "installment          : -0.3251\n",
      "annual_inc           : 2.0175\n",
      "vs_Source Verified   : 0.0261\n",
      "vs_Verified          : -0.2217\n",
      "vs_Not Verified      : 0.1956\n",
      "p_credit_card        : 0.1046\n",
      "p_debt_consolidation : 0.1157\n",
      "p_small_business     : -0.3964\n",
      "p_home_improvement   : 0.1132\n",
      "p_other              : 0.2188\n",
      "p_major_purchase     : 0.1124\n",
      "p_vacation           : -0.2201\n",
      "p_moving             : -0.1875\n",
      "p_medical            : -0.3027\n",
      "p_car                : 0.2496\n",
      "p_house              : 0.2805\n",
      "p_renewable_energy   : -0.0256\n",
      "p_wedding            : -0.0625\n",
      "p_educational        : 0.0000\n"
     ]
    }
   ],
   "source": [
    "for col_name, value in zip(df_pos.columns, svm.coef_.ravel()):\n",
    "    print(\"{:20s} : {:.4f}\".format(col_name, value))"
   ]
  },
  {
   "cell_type": "code",
   "execution_count": 21,
   "metadata": {
    "scrolled": false
   },
   "outputs": [
    {
     "data": {
      "image/png": "[encoded data removed]",
      "text/plain": [
       "<Figure size 1152x576 with 1 Axes>"
      ]
     },
     "metadata": {
      "needs_background": "light"
     },
     "output_type": "display_data"
    }
   ],
   "source": [
    "# Plot SVM feature weights\n",
    "coef = svm.coef_.ravel()\n",
    "coef_sorted = np.argsort(coef)[::-1]\n",
    "\n",
    "col = list(df_pos.columns)\n",
    "colors = [\"lightcoral\" if feature_weight < 0 else \"lightgreen\" for feature_weight in coef[coef_sorted]]\n",
    "\n",
    "plt.figure(figsize=(16, 8))\n",
    "plt.bar(list(range(len(coef))), coef[coef_sorted], color=colors)\n",
    "plt.xticks(np.arange(0, len(coef)), [col[idx] for idx in coef_sorted], rotation=60, ha=\"right\")\n",
    "plt.xlabel(\"Feature Name\")\n",
    "plt.ylabel(\"Feature Weight\")\n",
    "plt.title(\"LendingClub 2016-2018 - SVM Feature Weights\")\n",
    "plt.savefig(\"res/Prediction/SVM - Feature Weights.png\", bbox_inches='tight')\n",
    "plt.show()"
   ]
  },
  {
   "cell_type": "markdown",
   "metadata": {},
   "source": [
    "### Decision Tree"
   ]
  },
  {
   "cell_type": "code",
   "execution_count": 22,
   "metadata": {},
   "outputs": [],
   "source": [
    "# scaler = minmax_scaler\n",
    "scaler = standard_scaler\n",
    "\n",
    "df_subsample_scaled_X = scaler.fit_transform(df_subsample_X)"
   ]
  },
  {
   "cell_type": "code",
   "execution_count": 23,
   "metadata": {},
   "outputs": [
    {
     "name": "stdout",
     "output_type": "stream",
     "text": [
      "Training set size: 175000\n",
      "Training label size: 175000\n",
      "Test set size: 25000\n",
      "Test label size: 25000\n"
     ]
    }
   ],
   "source": [
    "# Create train/test split\n",
    "X_train, X_test, Y_train, Y_test = train_test_split(df_subsample_scaled_X, df_subsample_Y, test_size=0.125, stratify=df_subsample_Y, random_state=_PRNG)\n",
    "print(\"Training set size:\", len(X_train))\n",
    "print(\"Training label size:\", len(Y_train))\n",
    "print(\"Test set size:\", len(X_test))\n",
    "print(\"Test label size:\", len(Y_test))"
   ]
  },
  {
   "cell_type": "code",
   "execution_count": 24,
   "metadata": {
    "scrolled": true
   },
   "outputs": [
    {
     "name": "stdout",
     "output_type": "stream",
     "text": [
      "Fitting 5 folds for each of 1 candidates, totalling 5 fits\n"
     ]
    },
    {
     "name": "stderr",
     "output_type": "stream",
     "text": [
      "C:\\Users\\juszhan\\Anaconda3\\lib\\site-packages\\sklearn\\model_selection\\_search.py:271: UserWarning: The total space of parameters 1 is smaller than n_iter=250. Running 1 iterations. For exhaustive searches, use GridSearchCV.\n",
      "  % (grid_size, self.n_iter, grid_size), UserWarning)\n",
      "[Parallel(n_jobs=-1)]: Using backend LokyBackend with 8 concurrent workers.\n",
      "[Parallel(n_jobs=-1)]: Done   2 out of   5 | elapsed:    0.9s remaining:    1.5s\n",
      "[Parallel(n_jobs=-1)]: Done   5 out of   5 | elapsed:    1.8s finished\n"
     ]
    },
    {
     "name": "stdout",
     "output_type": "stream",
     "text": [
      "0.6116213929348765 {'max_features': 'sqrt', 'max_depth': 10}\n"
     ]
    },
    {
     "data": {
      "text/plain": [
       "DecisionTreeClassifier(class_weight=None, criterion='gini', max_depth=10,\n",
       "            max_features='sqrt', max_leaf_nodes=None,\n",
       "            min_impurity_decrease=0.0, min_impurity_split=None,\n",
       "            min_samples_leaf=1, min_samples_split=2,\n",
       "            min_weight_fraction_leaf=0.0, presort=False,\n",
       "            random_state=<mtrand.RandomState object at 0x0000019600D6F5E8>,\n",
       "            splitter='best')"
      ]
     },
     "execution_count": 24,
     "metadata": {},
     "output_type": "execute_result"
    }
   ],
   "source": [
    "# Use random search to find best hyperparameters\n",
    "parameters = {\n",
    "    \"max_depth\"         : range(1, 31),\n",
    "    \"min_samples_split\" : range(2, 21),\n",
    "    \"min_samples_leaf\"  : range(1, 11),\n",
    "    \"max_features\"      : [\"sqrt\", \"log2\", None]\n",
    "}\n",
    "\n",
    "if _DEBUG_SEARCH:\n",
    "    parameters = {\n",
    "        \"max_depth\"    : range(10, 11),\n",
    "        \"max_features\" : [\"sqrt\"]\n",
    "    }\n",
    "\n",
    "clf = RandomizedSearchCV(DecisionTreeClassifier(criterion=\"gini\", random_state=_PRNG), param_distributions=parameters, n_iter=250, scoring=\"f1\", cv=5, refit=True, n_jobs=-1, random_state=_PRNG, verbose=1)\n",
    "clf.fit(X_train, Y_train)\n",
    "\n",
    "print(clf.best_score_, clf.best_params_)\n",
    "clf.best_estimator_"
   ]
  },
  {
   "cell_type": "code",
   "execution_count": 25,
   "metadata": {},
   "outputs": [
    {
     "data": {
      "text/plain": [
       "0.63228"
      ]
     },
     "execution_count": 25,
     "metadata": {},
     "output_type": "execute_result"
    }
   ],
   "source": [
    "decision_tree = clf.best_estimator_\n",
    "\n",
    "test_score =decision_tree.score(X_test, Y_test)\n",
    "test_score"
   ]
  },
  {
   "cell_type": "code",
   "execution_count": 26,
   "metadata": {},
   "outputs": [],
   "source": [
    "CLASSIFIERS[\"decision_tree\"] = ClassifierInfo(classifier=decision_tree, scaler=scaler, training_score=clf.best_score_, test_score=test_score)"
   ]
  },
  {
   "cell_type": "markdown",
   "metadata": {},
   "source": [
    "### RandomForest"
   ]
  },
  {
   "cell_type": "code",
   "execution_count": 27,
   "metadata": {},
   "outputs": [],
   "source": [
    "# scaler = minmax_scaler\n",
    "scaler = standard_scaler\n",
    "\n",
    "df_subsample_scaled_X = scaler.fit_transform(df_subsample_X)"
   ]
  },
  {
   "cell_type": "code",
   "execution_count": 28,
   "metadata": {},
   "outputs": [
    {
     "name": "stdout",
     "output_type": "stream",
     "text": [
      "Training set size: 175000\n",
      "Training label size: 175000\n",
      "Test set size: 25000\n",
      "Test label size: 25000\n"
     ]
    }
   ],
   "source": [
    "# Create train/test split\n",
    "X_train, X_test, Y_train, Y_test = train_test_split(df_subsample_scaled_X, df_subsample_Y, test_size=0.125, stratify=df_subsample_Y, random_state=_PRNG)\n",
    "print(\"Training set size:\", len(X_train))\n",
    "print(\"Training label size:\", len(Y_train))\n",
    "print(\"Test set size:\", len(X_test))\n",
    "print(\"Test label size:\", len(Y_test))"
   ]
  },
  {
   "cell_type": "code",
   "execution_count": 29,
   "metadata": {},
   "outputs": [
    {
     "name": "stdout",
     "output_type": "stream",
     "text": [
      "Fitting 5 folds for each of 1 candidates, totalling 5 fits\n"
     ]
    },
    {
     "name": "stderr",
     "output_type": "stream",
     "text": [
      "C:\\Users\\juszhan\\Anaconda3\\lib\\site-packages\\sklearn\\model_selection\\_search.py:271: UserWarning: The total space of parameters 1 is smaller than n_iter=250. Running 1 iterations. For exhaustive searches, use GridSearchCV.\n",
      "  % (grid_size, self.n_iter, grid_size), UserWarning)\n",
      "[Parallel(n_jobs=-1)]: Using backend LokyBackend with 8 concurrent workers.\n",
      "[Parallel(n_jobs=-1)]: Done   2 out of   5 | elapsed:   24.7s remaining:   37.1s\n",
      "[Parallel(n_jobs=-1)]: Done   5 out of   5 | elapsed:   26.3s finished\n"
     ]
    },
    {
     "name": "stdout",
     "output_type": "stream",
     "text": [
      "0.6234761582985415 {'n_estimators': 100, 'min_samples_split': 16, 'min_samples_leaf': 1, 'max_features': 'log2', 'max_depth': 25}\n"
     ]
    },
    {
     "data": {
      "text/plain": [
       "RandomForestClassifier(bootstrap=True, class_weight=None, criterion='gini',\n",
       "            max_depth=25, max_features='log2', max_leaf_nodes=None,\n",
       "            min_impurity_decrease=0.0, min_impurity_split=None,\n",
       "            min_samples_leaf=1, min_samples_split=16,\n",
       "            min_weight_fraction_leaf=0.0, n_estimators=100, n_jobs=-1,\n",
       "            oob_score=False,\n",
       "            random_state=<mtrand.RandomState object at 0x0000019600C9D5A0>,\n",
       "            verbose=0, warm_start=False)"
      ]
     },
     "execution_count": 29,
     "metadata": {},
     "output_type": "execute_result"
    }
   ],
   "source": [
    "# Use random search to find best hyperparameters\n",
    "parameters = {\n",
    "    \"n_estimators\"      : np.linspace(100, 200, 11, dtype=int),\n",
    "    \"max_depth\"         : range(1, 31),\n",
    "    \"min_samples_split\" : range(2, 21),\n",
    "    \"min_samples_leaf\"  : range(1, 11),\n",
    "    \"max_features\"      : [\"sqrt\", \"log2\", None]\n",
    "}\n",
    "\n",
    "if _DEBUG_SEARCH:\n",
    "    parameters = {\n",
    "        \"n_estimators\"      : range(100, 101),\n",
    "        \"max_depth\"         : range(25, 26),\n",
    "        \"min_samples_split\" : range(16, 17),\n",
    "        \"min_samples_leaf\"  : range(1, 2),\n",
    "        \"max_features\"      : [\"log2\"]\n",
    "    }\n",
    "\n",
    "clf = RandomizedSearchCV(RandomForestClassifier(criterion=\"gini\", n_jobs=-1, random_state=_PRNG), param_distributions=parameters, n_iter=250, scoring=\"f1\", cv=5, refit=True, n_jobs=-1, random_state=_PRNG, verbose=1)\n",
    "\n",
    "clf.fit(X_train, Y_train)\n",
    "\n",
    "print(clf.best_score_, clf.best_params_)\n",
    "clf.best_estimator_"
   ]
  },
  {
   "cell_type": "code",
   "execution_count": 30,
   "metadata": {},
   "outputs": [
    {
     "data": {
      "text/plain": [
       "0.637"
      ]
     },
     "execution_count": 30,
     "metadata": {},
     "output_type": "execute_result"
    }
   ],
   "source": [
    "random_forest = clf.best_estimator_\n",
    "\n",
    "test_score = random_forest.score(X_test, Y_test)\n",
    "test_score"
   ]
  },
  {
   "cell_type": "code",
   "execution_count": 31,
   "metadata": {},
   "outputs": [],
   "source": [
    "CLASSIFIERS[\"random_forest\"] = ClassifierInfo(classifier=random_forest, scaler=scaler, training_score=clf.best_score_, test_score=test_score)"
   ]
  },
  {
   "cell_type": "markdown",
   "metadata": {},
   "source": [
    "### Gradient Boosting"
   ]
  },
  {
   "cell_type": "code",
   "execution_count": 32,
   "metadata": {},
   "outputs": [],
   "source": [
    "# scaler = minmax_scaler\n",
    "scaler = standard_scaler\n",
    "\n",
    "df_subsample_scaled_X = scaler.fit_transform(df_subsample_X)"
   ]
  },
  {
   "cell_type": "code",
   "execution_count": 33,
   "metadata": {},
   "outputs": [
    {
     "name": "stdout",
     "output_type": "stream",
     "text": [
      "Training set size: 175000\n",
      "Training label size: 175000\n",
      "Test set size: 25000\n",
      "Test label size: 25000\n"
     ]
    }
   ],
   "source": [
    "# Create train/test split\n",
    "X_train, X_test, Y_train, Y_test = train_test_split(df_subsample_scaled_X, df_subsample_Y, test_size=0.125, stratify=df_subsample_Y, random_state=_PRNG)\n",
    "print(\"Training set size:\", len(X_train))\n",
    "print(\"Training label size:\", len(Y_train))\n",
    "print(\"Test set size:\", len(X_test))\n",
    "print(\"Test label size:\", len(Y_test))"
   ]
  },
  {
   "cell_type": "code",
   "execution_count": 34,
   "metadata": {},
   "outputs": [
    {
     "name": "stdout",
     "output_type": "stream",
     "text": [
      "Fitting 5 folds for each of 1 candidates, totalling 5 fits\n"
     ]
    },
    {
     "name": "stderr",
     "output_type": "stream",
     "text": [
      "C:\\Users\\juszhan\\Anaconda3\\lib\\site-packages\\sklearn\\model_selection\\_search.py:271: UserWarning: The total space of parameters 1 is smaller than n_iter=250. Running 1 iterations. For exhaustive searches, use GridSearchCV.\n",
      "  % (grid_size, self.n_iter, grid_size), UserWarning)\n",
      "[Parallel(n_jobs=-1)]: Using backend LokyBackend with 8 concurrent workers.\n",
      "[Parallel(n_jobs=-1)]: Done   2 out of   5 | elapsed:   12.5s remaining:   18.9s\n",
      "[Parallel(n_jobs=-1)]: Done   5 out of   5 | elapsed:   13.0s finished\n"
     ]
    },
    {
     "name": "stdout",
     "output_type": "stream",
     "text": [
      "0.628119257169262 {'max_features': 'sqrt'}\n"
     ]
    },
    {
     "data": {
      "text/plain": [
       "GradientBoostingClassifier(criterion='friedman_mse', init=None,\n",
       "              learning_rate=0.1, loss='deviance', max_depth=3,\n",
       "              max_features='sqrt', max_leaf_nodes=None,\n",
       "              min_impurity_decrease=0.0, min_impurity_split=None,\n",
       "              min_samples_leaf=1, min_samples_split=2,\n",
       "              min_weight_fraction_leaf=0.0, n_estimators=100,\n",
       "              n_iter_no_change=30, presort='auto',\n",
       "              random_state=<mtrand.RandomState object at 0x0000019600DCABD0>,\n",
       "              subsample=1.0, tol=0.0001, validation_fraction=0.1,\n",
       "              verbose=0, warm_start=False)"
      ]
     },
     "execution_count": 34,
     "metadata": {},
     "output_type": "execute_result"
    }
   ],
   "source": [
    "# Use random search to find best hyperparameters\n",
    "parameters = {\n",
    "    \"n_estimators\"      : np.linspace(100, 200, 11, dtype=int),\n",
    "    \"learning_rate\"     : np.arange(.001, .2, 0.002),\n",
    "    \"max_depth\"         : range(1, 31),\n",
    "    \"min_samples_split\" : range(2, 21),\n",
    "    \"min_samples_leaf\"  : range(1, 11),\n",
    "    \"max_depth\"         : range(3, 10),\n",
    "    \"max_features\"      : [\"sqrt\", \"log2\", None]\n",
    "}\n",
    "\n",
    "if _DEBUG_SEARCH:\n",
    "    parameters = {\n",
    "        \"max_features\"  : [\"sqrt\"]\n",
    "    }\n",
    "\n",
    "clf = RandomizedSearchCV(GradientBoostingClassifier(loss=\"deviance\", random_state=_PRNG, n_iter_no_change=30, validation_fraction=0.1, tol=1e-4), param_distributions=parameters, n_iter=250, scoring=\"f1\", cv=5, refit=True, n_jobs=-1, random_state=_PRNG, verbose=1)\n",
    "\n",
    "clf.fit(X_train, Y_train)\n",
    "\n",
    "print(clf.best_score_, clf.best_params_)\n",
    "clf.best_estimator_"
   ]
  },
  {
   "cell_type": "code",
   "execution_count": 35,
   "metadata": {},
   "outputs": [
    {
     "data": {
      "text/plain": [
       "0.64288"
      ]
     },
     "execution_count": 35,
     "metadata": {},
     "output_type": "execute_result"
    }
   ],
   "source": [
    "gradient_boosting = clf.best_estimator_\n",
    "\n",
    "test_score = gradient_boosting.score(X_test, Y_test)\n",
    "test_score"
   ]
  },
  {
   "cell_type": "code",
   "execution_count": 36,
   "metadata": {},
   "outputs": [],
   "source": [
    "CLASSIFIERS[\"gradient_boosting\"] = ClassifierInfo(classifier=gradient_boosting, scaler=scaler, training_score=clf.best_score_, test_score=test_score)"
   ]
  },
  {
   "cell_type": "markdown",
   "metadata": {},
   "source": [
    "### Calculating Profitability"
   ]
  },
  {
   "cell_type": "code",
   "execution_count": 37,
   "metadata": {},
   "outputs": [
    {
     "data": {
      "text/html": [
       "<div>\n",
       "<style scoped>\n",
       "    .dataframe tbody tr th:only-of-type {\n",
       "        vertical-align: middle;\n",
       "    }\n",
       "\n",
       "    .dataframe tbody tr th {\n",
       "        vertical-align: top;\n",
       "    }\n",
       "\n",
       "    .dataframe thead th {\n",
       "        text-align: right;\n",
       "    }\n",
       "</style>\n",
       "<table border=\"1\" class=\"dataframe\">\n",
       "  <thead>\n",
       "    <tr style=\"text-align: right;\">\n",
       "      <th></th>\n",
       "      <th>loan_amnt</th>\n",
       "      <th>int_rate</th>\n",
       "      <th>term</th>\n",
       "      <th>grade</th>\n",
       "      <th>sub_grade</th>\n",
       "      <th>installment</th>\n",
       "      <th>annual_inc</th>\n",
       "      <th>true_class</th>\n",
       "      <th>annual_roi_percent</th>\n",
       "    </tr>\n",
       "  </thead>\n",
       "  <tbody>\n",
       "    <tr>\n",
       "      <th>35995</th>\n",
       "      <td>5600</td>\n",
       "      <td>11.44</td>\n",
       "      <td>36</td>\n",
       "      <td>1</td>\n",
       "      <td>8</td>\n",
       "      <td>184.51</td>\n",
       "      <td>61000</td>\n",
       "      <td>0</td>\n",
       "      <td>-33.333333</td>\n",
       "    </tr>\n",
       "    <tr>\n",
       "      <th>35996</th>\n",
       "      <td>14000</td>\n",
       "      <td>8.24</td>\n",
       "      <td>36</td>\n",
       "      <td>1</td>\n",
       "      <td>5</td>\n",
       "      <td>440.27</td>\n",
       "      <td>65000</td>\n",
       "      <td>0</td>\n",
       "      <td>-33.333333</td>\n",
       "    </tr>\n",
       "    <tr>\n",
       "      <th>35997</th>\n",
       "      <td>3825</td>\n",
       "      <td>22.74</td>\n",
       "      <td>36</td>\n",
       "      <td>4</td>\n",
       "      <td>20</td>\n",
       "      <td>147.55</td>\n",
       "      <td>12000</td>\n",
       "      <td>0</td>\n",
       "      <td>-33.333333</td>\n",
       "    </tr>\n",
       "    <tr>\n",
       "      <th>35998</th>\n",
       "      <td>15000</td>\n",
       "      <td>30.89</td>\n",
       "      <td>60</td>\n",
       "      <td>6</td>\n",
       "      <td>32</td>\n",
       "      <td>493.54</td>\n",
       "      <td>55000</td>\n",
       "      <td>0</td>\n",
       "      <td>-20.000000</td>\n",
       "    </tr>\n",
       "    <tr>\n",
       "      <th>35999</th>\n",
       "      <td>12000</td>\n",
       "      <td>29.69</td>\n",
       "      <td>36</td>\n",
       "      <td>5</td>\n",
       "      <td>26</td>\n",
       "      <td>507.39</td>\n",
       "      <td>41000</td>\n",
       "      <td>0</td>\n",
       "      <td>-33.333333</td>\n",
       "    </tr>\n",
       "  </tbody>\n",
       "</table>\n",
       "</div>"
      ],
      "text/plain": [
       "       loan_amnt  int_rate  term  grade  sub_grade  installment  annual_inc  \\\n",
       "35995       5600     11.44    36      1          8       184.51       61000   \n",
       "35996      14000      8.24    36      1          5       440.27       65000   \n",
       "35997       3825     22.74    36      4         20       147.55       12000   \n",
       "35998      15000     30.89    60      6         32       493.54       55000   \n",
       "35999      12000     29.69    36      5         26       507.39       41000   \n",
       "\n",
       "       true_class  annual_roi_percent  \n",
       "35995           0          -33.333333  \n",
       "35996           0          -33.333333  \n",
       "35997           0          -33.333333  \n",
       "35998           0          -20.000000  \n",
       "35999           0          -33.333333  "
      ]
     },
     "execution_count": 37,
     "metadata": {},
     "output_type": "execute_result"
    }
   ],
   "source": [
    "# Calculate annual ROI percent\n",
    "# If pos class : annual ROI percent = total interest payment / loan amount / loan term (# of years) * 100\n",
    "# If neg class : annual ROI percent = -1 / loan term (# of years) * 100\n",
    "def calculate_annual_roi_percent(row) -> float:\n",
    "    if row[\"true_class\"] == POS_CLASS:\n",
    "        return ((row[\"installment\"] * row[\"term\"]) - row[\"loan_amnt\"]) / (row[\"term\"] / 12) / row[\"loan_amnt\"] * 100\n",
    "    \n",
    "    return -1 / (row[\"term\"] / 12) * 100\n",
    "\n",
    "# Create dataframe that will be used to calculate profitability\n",
    "df_predict = pd.concat([df_val_pos, df_val_neg], ignore_index=True, copy=True)\n",
    "\n",
    "# Create dataframe that will hold profitability results\n",
    "df_res = df_predict[[\"loan_amnt\", \"int_rate\", \"term\", \"grade\", \"sub_grade\", \"installment\", \"annual_inc\"]].copy(deep=True)\n",
    "df_res[\"true_class\"] = [1] * len(df_val_pos) + [0] * len(df_val_neg)\n",
    "df_res[\"annual_roi_percent\"] = df_res.apply(lambda row: calculate_annual_roi_percent(row), axis=1, result_type=\"reduce\")\n",
    "\n",
    "df_res.tail(5)"
   ]
  },
  {
   "cell_type": "code",
   "execution_count": 38,
   "metadata": {},
   "outputs": [
    {
     "data": {
      "text/html": [
       "<div>\n",
       "<style scoped>\n",
       "    .dataframe tbody tr th:only-of-type {\n",
       "        vertical-align: middle;\n",
       "    }\n",
       "\n",
       "    .dataframe tbody tr th {\n",
       "        vertical-align: top;\n",
       "    }\n",
       "\n",
       "    .dataframe thead th {\n",
       "        text-align: right;\n",
       "    }\n",
       "</style>\n",
       "<table border=\"1\" class=\"dataframe\">\n",
       "  <thead>\n",
       "    <tr style=\"text-align: right;\">\n",
       "      <th></th>\n",
       "      <th>svm</th>\n",
       "      <th>decision_tree</th>\n",
       "      <th>random_forest</th>\n",
       "      <th>gradient_boosting</th>\n",
       "    </tr>\n",
       "  </thead>\n",
       "  <tbody>\n",
       "    <tr>\n",
       "      <th>train_score_f1</th>\n",
       "      <td>0.657179</td>\n",
       "      <td>0.611621</td>\n",
       "      <td>0.623476</td>\n",
       "      <td>0.628119</td>\n",
       "    </tr>\n",
       "    <tr>\n",
       "      <th>test_score_acc</th>\n",
       "      <td>0.634760</td>\n",
       "      <td>0.632280</td>\n",
       "      <td>0.637000</td>\n",
       "      <td>0.642880</td>\n",
       "    </tr>\n",
       "    <tr>\n",
       "      <th>validation_score_acc</th>\n",
       "      <td>0.777750</td>\n",
       "      <td>0.222222</td>\n",
       "      <td>0.708111</td>\n",
       "      <td>0.305000</td>\n",
       "    </tr>\n",
       "  </tbody>\n",
       "</table>\n",
       "</div>"
      ],
      "text/plain": [
       "                           svm  decision_tree  random_forest  \\\n",
       "train_score_f1        0.657179       0.611621       0.623476   \n",
       "test_score_acc        0.634760       0.632280       0.637000   \n",
       "validation_score_acc  0.777750       0.222222       0.708111   \n",
       "\n",
       "                      gradient_boosting  \n",
       "train_score_f1                 0.628119  \n",
       "test_score_acc                 0.642880  \n",
       "validation_score_acc           0.305000  "
      ]
     },
     "execution_count": 38,
     "metadata": {},
     "output_type": "execute_result"
    }
   ],
   "source": [
    "# Populate classifier scores\n",
    "df_classifier_scores = pd.DataFrame(columns=[*CLASSIFIERS.keys()])\n",
    "\n",
    "df_classifier_scores.loc[len(df_classifier_scores)] = [classifier_info.training_score for _, classifier_info in CLASSIFIERS.items()]\n",
    "df_classifier_scores.loc[len(df_classifier_scores)] = [classifier_info.test_score for _, classifier_info in CLASSIFIERS.items()]\n",
    "df_classifier_scores.loc[len(df_classifier_scores)] = [classifier_info.classifier.score(df_predict, df_res[\"true_class\"]) for _, classifier_info in CLASSIFIERS.items()]\n",
    "\n",
    "df_classifier_scores.index = [\"train_score_f1\", \"test_score_acc\", \"validation_score_acc\"]\n",
    "\n",
    "df_classifier_scores"
   ]
  },
  {
   "cell_type": "code",
   "execution_count": 39,
   "metadata": {},
   "outputs": [
    {
     "data": {
      "text/html": [
       "<div>\n",
       "<style scoped>\n",
       "    .dataframe tbody tr th:only-of-type {\n",
       "        vertical-align: middle;\n",
       "    }\n",
       "\n",
       "    .dataframe tbody tr th {\n",
       "        vertical-align: top;\n",
       "    }\n",
       "\n",
       "    .dataframe thead th {\n",
       "        text-align: right;\n",
       "    }\n",
       "</style>\n",
       "<table border=\"1\" class=\"dataframe\">\n",
       "  <thead>\n",
       "    <tr style=\"text-align: right;\">\n",
       "      <th></th>\n",
       "      <th>loan_amnt</th>\n",
       "      <th>int_rate</th>\n",
       "      <th>term</th>\n",
       "      <th>grade</th>\n",
       "      <th>sub_grade</th>\n",
       "      <th>installment</th>\n",
       "      <th>annual_inc</th>\n",
       "      <th>true_class</th>\n",
       "      <th>annual_roi_percent</th>\n",
       "      <th>svm_is_pos</th>\n",
       "      <th>decision_tree_is_pos</th>\n",
       "      <th>random_forest_is_pos</th>\n",
       "      <th>gradient_boosting_is_pos</th>\n",
       "    </tr>\n",
       "  </thead>\n",
       "  <tbody>\n",
       "    <tr>\n",
       "      <th>0</th>\n",
       "      <td>10000</td>\n",
       "      <td>10.99</td>\n",
       "      <td>36</td>\n",
       "      <td>1</td>\n",
       "      <td>8</td>\n",
       "      <td>327.34</td>\n",
       "      <td>73000</td>\n",
       "      <td>1</td>\n",
       "      <td>5.947467</td>\n",
       "      <td>0.654079</td>\n",
       "      <td>0.672170</td>\n",
       "      <td>0.522968</td>\n",
       "      <td>0.616070</td>\n",
       "    </tr>\n",
       "    <tr>\n",
       "      <th>1</th>\n",
       "      <td>3025</td>\n",
       "      <td>16.99</td>\n",
       "      <td>36</td>\n",
       "      <td>3</td>\n",
       "      <td>15</td>\n",
       "      <td>107.84</td>\n",
       "      <td>44000</td>\n",
       "      <td>1</td>\n",
       "      <td>9.446171</td>\n",
       "      <td>0.406133</td>\n",
       "      <td>0.500000</td>\n",
       "      <td>0.492267</td>\n",
       "      <td>0.442705</td>\n",
       "    </tr>\n",
       "    <tr>\n",
       "      <th>2</th>\n",
       "      <td>6000</td>\n",
       "      <td>11.39</td>\n",
       "      <td>36</td>\n",
       "      <td>1</td>\n",
       "      <td>7</td>\n",
       "      <td>197.55</td>\n",
       "      <td>30000</td>\n",
       "      <td>1</td>\n",
       "      <td>6.176667</td>\n",
       "      <td>0.628838</td>\n",
       "      <td>0.522051</td>\n",
       "      <td>0.633592</td>\n",
       "      <td>0.552058</td>\n",
       "    </tr>\n",
       "    <tr>\n",
       "      <th>3</th>\n",
       "      <td>10000</td>\n",
       "      <td>11.48</td>\n",
       "      <td>36</td>\n",
       "      <td>1</td>\n",
       "      <td>9</td>\n",
       "      <td>329.67</td>\n",
       "      <td>90000</td>\n",
       "      <td>1</td>\n",
       "      <td>6.227067</td>\n",
       "      <td>0.515724</td>\n",
       "      <td>0.626955</td>\n",
       "      <td>0.398995</td>\n",
       "      <td>0.488229</td>\n",
       "    </tr>\n",
       "    <tr>\n",
       "      <th>4</th>\n",
       "      <td>10000</td>\n",
       "      <td>24.84</td>\n",
       "      <td>36</td>\n",
       "      <td>4</td>\n",
       "      <td>22</td>\n",
       "      <td>396.76</td>\n",
       "      <td>75000</td>\n",
       "      <td>1</td>\n",
       "      <td>14.277867</td>\n",
       "      <td>0.312742</td>\n",
       "      <td>0.331667</td>\n",
       "      <td>0.324527</td>\n",
       "      <td>0.329339</td>\n",
       "    </tr>\n",
       "  </tbody>\n",
       "</table>\n",
       "</div>"
      ],
      "text/plain": [
       "   loan_amnt  int_rate  term  grade  sub_grade  installment  annual_inc  \\\n",
       "0      10000     10.99    36      1          8       327.34       73000   \n",
       "1       3025     16.99    36      3         15       107.84       44000   \n",
       "2       6000     11.39    36      1          7       197.55       30000   \n",
       "3      10000     11.48    36      1          9       329.67       90000   \n",
       "4      10000     24.84    36      4         22       396.76       75000   \n",
       "\n",
       "   true_class  annual_roi_percent  svm_is_pos  decision_tree_is_pos  \\\n",
       "0           1            5.947467    0.654079              0.672170   \n",
       "1           1            9.446171    0.406133              0.500000   \n",
       "2           1            6.176667    0.628838              0.522051   \n",
       "3           1            6.227067    0.515724              0.626955   \n",
       "4           1           14.277867    0.312742              0.331667   \n",
       "\n",
       "   random_forest_is_pos  gradient_boosting_is_pos  \n",
       "0              0.522968                  0.616070  \n",
       "1              0.492267                  0.442705  \n",
       "2              0.633592                  0.552058  \n",
       "3              0.398995                  0.488229  \n",
       "4              0.324527                  0.329339  "
      ]
     },
     "execution_count": 39,
     "metadata": {},
     "output_type": "execute_result"
    }
   ],
   "source": [
    "# Convert dataframe dtype to float to satisfy DataConversionWarning of scalers\n",
    "for col in df_predict.columns:\n",
    "    df_predict[col] = df_predict[col].astype(float)\n",
    "\n",
    "# Calculate classifier predictions on validation data\n",
    "for classifier, classifier_info in CLASSIFIERS.items():\n",
    "    df_res[classifier + \"_is_pos\"] = [pos for neg, pos in classifier_info.predict(df_predict)]\n",
    "df_res.head(5)"
   ]
  },
  {
   "cell_type": "code",
   "execution_count": 40,
   "metadata": {
    "scrolled": true
   },
   "outputs": [],
   "source": [
    "class ClassifierProfitability:\n",
    "    def __init__(self, classifier_type:str):\n",
    "        self.type = classifier_type\n",
    "        self.invested_count = []\n",
    "        self.invested_pos_percent = []\n",
    "        self.capital_invested = []\n",
    "        self.total_return = []\n",
    "        self.return_on_investment_percent = []\n",
    "        self.annual_roi_percent = []\n",
    "        \n",
    "    def append_values(self, invested_count:float, invested_pos_percent:float, capital_invested:float, total_return:float, return_on_investment_percent:float, annual_roi_percent:float) -> None:\n",
    "        self.invested_count.append(invested_count)\n",
    "        self.invested_pos_percent.append(invested_pos_percent)\n",
    "        self.capital_invested.append(capital_invested)\n",
    "        self.total_return.append(total_return)\n",
    "        self.return_on_investment_percent.append(return_on_investment_percent)\n",
    "        self.annual_roi_percent.append(annual_roi_percent)\n",
    "\n",
    "# Calculate profitability based on confidence threshold\n",
    "def calculate_classifier_profitability_on_row(classifier:str, confidence_threshold:float) -> Tuple[float,float,float,float,float]:  \n",
    "    # Filter by confidence threshold\n",
    "    df_res_filtered = df_res[df_res[classifier + \"_is_pos\"] >= confidence_threshold]\n",
    "    df_res_filtered_pos = df_res_filtered[df_res_filtered[\"true_class\"] == POS_CLASS]\n",
    "    \n",
    "    invested_count = len(df_res_filtered)\n",
    "    \n",
    "    invested_pos_percent = 0\n",
    "    if len(df_res_filtered) > 0:\n",
    "        invested_pos_percent= len(df_res_filtered_pos) / len(df_res_filtered) * 100\n",
    "#         filtered_pos_percent = len(df_res_filtered_pos) / len(df_res_filtered)\n",
    "#         population_pos_percent = len(df_val_pos) / len(df_res)\n",
    "#         invested_pos_percent = (filtered_pos_percent - population_pos_percent) / (1 - population_pos_percent) * 100\n",
    "    \n",
    "    capital_invested = sum(df_res_filtered[\"loan_amnt\"])\n",
    "    \n",
    "    # Total return = profit + original invested amount\n",
    "    total_return = sum(df_res_filtered_pos.apply(lambda row: row[\"installment\"] * row[\"term\"], axis=1, result_type=\"reduce\"))\n",
    "    \n",
    "    annual_roi_percent = 0\n",
    "    if len(df_res_filtered) > 0:\n",
    "        annual_roi_percent = mean(df_res_filtered[\"annual_roi_percent\"])\n",
    "    \n",
    "    # Calculate 5 year total ROI, since max loan term is 60 months\n",
    "    return_on_investment_percent = 0\n",
    "    if capital_invested > 0:\n",
    "        return_on_investment_percent = (total_return - capital_invested) / capital_invested * 100\n",
    "    \n",
    "    return invested_count, invested_pos_percent, capital_invested, total_return, return_on_investment_percent, annual_roi_percent\n",
    "\n",
    "# Calculate profitability for all confidence thresholds\n",
    "def calculate_classifier_profitability(classifier:str, confidence_linspace_num:int):\n",
    "    classifier_profitability = ClassifierProfitability(classifier)\n",
    "    \n",
    "    for confidence_threshold in np.linspace(0, 1, confidence_linspace_num):\n",
    "        invested_count, invested_pos_percent, capital_invested, total_return, return_on_investment_percent, annual_roi_percent = calculate_classifier_profitability_on_row(classifier, confidence_threshold)\n",
    "        classifier_profitability.append_values(invested_count, invested_pos_percent, capital_invested, total_return, return_on_investment_percent, annual_roi_percent)\n",
    "        \n",
    "    return classifier_profitability"
   ]
  },
  {
   "cell_type": "code",
   "execution_count": 41,
   "metadata": {},
   "outputs": [
    {
     "name": "stdout",
     "output_type": "stream",
     "text": [
      "Calculating for classifier svm...\n",
      "Calculating for classifier decision_tree...\n",
      "Calculating for classifier random_forest...\n",
      "Calculating for classifier gradient_boosting...\n",
      "Done!\n"
     ]
    }
   ],
   "source": [
    "# Calculate profitability for all classifiers\n",
    "classifier_profitability_list = []\n",
    "\n",
    "x = np.linspace(0, 1, 101)\n",
    "for classifier in CLASSIFIERS.keys():\n",
    "    print(f\"Calculating for classifier {classifier}...\")\n",
    "    classifier_profitability_list.append(calculate_classifier_profitability(classifier, len(x)))\n",
    "\n",
    "print(\"Done!\")"
   ]
  },
  {
   "cell_type": "code",
   "execution_count": 42,
   "metadata": {},
   "outputs": [
    {
     "data": {
      "image/png": "[encoded data removed]",
      "text/plain": [
       "<Figure size 1152x648 with 1 Axes>"
      ]
     },
     "metadata": {
      "needs_background": "light"
     },
     "output_type": "display_data"
    }
   ],
   "source": [
    "# Line plot of total percentage of loans invested on validation set\n",
    "plt.figure(figsize=(16,9))\n",
    "\n",
    "colors = {\n",
    "    \"svm\"               : \"#2ca02c\",\n",
    "    \"decision_tree\"     : \"#1f77b4\",\n",
    "    \"random_forest\"     : \"#ff7f0e\",\n",
    "    \"gradient_boosting\" : \"#e377c2\",\n",
    "}\n",
    "\n",
    "for classifier_profitability in classifier_profitability_list:\n",
    "    invested_percentage_list = [invested_count / len(df_res) * 100 for invested_count in classifier_profitability.invested_count]\n",
    "    plt.plot(x, invested_percentage_list, label=classifier_profitability.type, color=colors[classifier_profitability.type])\n",
    "\n",
    "plt.xlim(left=0, right=1)\n",
    "plt.ylim(bottom=0, top=100)\n",
    "plt.grid(True)\n",
    "plt.xlabel(\"Confidence Threshold (percentile)\")\n",
    "plt.ylabel(\"Percentage of Loans Invested (%)\")\n",
    "plt.legend(title=\"Classifier\")\n",
    "plt.title(\"LendingClub 2016-2018 - Total Percentage of Loans Invested On Validation Set\")\n",
    "plt.savefig(\"res/Prediction/LendingClub 2016-2018 - Total Percentage of Loans Invested On Validation Set.png\", bbox_inches='tight')\n",
    "plt.show()"
   ]
  },
  {
   "cell_type": "code",
   "execution_count": 43,
   "metadata": {},
   "outputs": [
    {
     "data": {
      "image/png": "[encoded data removed]",
      "text/plain": [
       "<Figure size 1152x648 with 1 Axes>"
      ]
     },
     "metadata": {
      "needs_background": "light"
     },
     "output_type": "display_data"
    }
   ],
   "source": [
    "# Line plot of 5 year total ROI on validation set\n",
    "plt.figure(figsize=(16,9))\n",
    "\n",
    "colors = {\n",
    "    \"svm\"               : \"#2ca02c\",\n",
    "    \"decision_tree\"     : \"#1f77b4\",\n",
    "    \"random_forest\"     : \"#ff7f0e\",\n",
    "    \"gradient_boosting\" : \"#e377c2\",\n",
    "}\n",
    "\n",
    "for classifier_profitability in classifier_profitability_list:\n",
    "    plt.plot(x, classifier_profitability.return_on_investment_percent, label=classifier_profitability.type, color=colors[classifier_profitability.type])\n",
    "\n",
    "plt.axhline(0, color='red', linewidth=2)\n",
    "plt.xlim(left=0, right=1)\n",
    "plt.grid(True)\n",
    "plt.xlabel(\"Confidence Threshold (percentile)\")\n",
    "plt.ylabel(\"Total Return On Investment (%)\")\n",
    "plt.legend(title=\"Classifier\")\n",
    "plt.title(\"LendingClub 2016-2018 - 5 Year Total ROI On Validation Set\")\n",
    "plt.savefig(\"res/Prediction/LendingClub 2016-2018 - 5 Year Total ROI On Validation Set.png\", bbox_inches='tight')\n",
    "plt.show()"
   ]
  },
  {
   "cell_type": "code",
   "execution_count": 44,
   "metadata": {},
   "outputs": [
    {
     "data": {
      "image/png": "[encoded data removed]",
      "text/plain": [
       "<Figure size 1152x648 with 1 Axes>"
      ]
     },
     "metadata": {
      "needs_background": "light"
     },
     "output_type": "display_data"
    }
   ],
   "source": [
    "# Line plot of amortized per dollar annual ROI on validation set\n",
    "plt.figure(figsize=(16,9))\n",
    "\n",
    "colors = {\n",
    "    \"svm\"               : \"#2ca02c\",\n",
    "    \"decision_tree\"     : \"#1f77b4\",\n",
    "    \"random_forest\"     : \"#ff7f0e\",\n",
    "    \"gradient_boosting\" : \"#e377c2\",\n",
    "}\n",
    "\n",
    "for classifier_profitability in classifier_profitability_list:\n",
    "    plt.plot(x, classifier_profitability.annual_roi_percent, label=classifier_profitability.type, color=colors[classifier_profitability.type])\n",
    "\n",
    "plt.axhline(0, color='red', linewidth=2)\n",
    "plt.xlim(left=0, right=1)\n",
    "plt.grid(True)\n",
    "plt.xlabel(\"Confidence Threshold (percentile)\")\n",
    "plt.ylabel(\"Annual Return On Investment (%)\")\n",
    "plt.legend(title=\"Classifier\")\n",
    "plt.title(\"LendingClub 2016-2018 - Amortized Per Dollar Annual ROI On Validation Set\")\n",
    "plt.savefig(\"res/Prediction/LendingClub 2016-2018 - Amortized Per Dollar Annual ROI On Validation Set.png\", bbox_inches='tight')\n",
    "plt.show()"
   ]
  },
  {
   "cell_type": "code",
   "execution_count": 49,
   "metadata": {},
   "outputs": [
    {
     "data": {
      "image/png": "[encoded data removed]",
      "text/plain": [
       "<Figure size 1152x648 with 1 Axes>"
      ]
     },
     "metadata": {
      "needs_background": "light"
     },
     "output_type": "display_data"
    }
   ],
   "source": [
    "# Line plot of relative alpha on validation set\n",
    "plt.figure(figsize=(16,9))\n",
    "\n",
    "colors = {\n",
    "    \"svm\"               : \"#2ca02c\",\n",
    "    \"decision_tree\"     : \"#1f77b4\",\n",
    "    \"random_forest\"     : \"#ff7f0e\",\n",
    "    \"gradient_boosting\" : \"#e377c2\",\n",
    "}\n",
    "\n",
    "for classifier_profitability in classifier_profitability_list:\n",
    "    plt.plot(x, classifier_profitability.invested_pos_percent, label=classifier_profitability.type, color=colors[classifier_profitability.type])\n",
    "\n",
    "plt.axhline(len(df_val_pos) / len(df_res) * 100 , color='red', linewidth=2)\n",
    "plt.xlim(left=0, right=1)\n",
    "plt.ylim(bottom=0, top=100)\n",
    "plt.grid(True)\n",
    "plt.xlabel(\"Confidence Threshold (percentile)\")\n",
    "plt.ylabel(\"Percent Positive (%)\")\n",
    "plt.legend(title=\"Classifier\")\n",
    "plt.title(\"LendingClub 2016-2018 - Percent Positive In Confidence Threshold On Validation Set\")\n",
    "plt.savefig(\"res/Prediction/LendingClub 2016-2018 - Percent Positive In Confidence Threshold On Validation Set.png\", bbox_inches='tight')\n",
    "plt.show()"
   ]
  },
  {
   "cell_type": "code",
   "execution_count": null,
   "metadata": {},
   "outputs": [],
   "source": []
  },
  {
   "cell_type": "code",
   "execution_count": null,
   "metadata": {},
   "outputs": [],
   "source": []
  },
  {
   "cell_type": "code",
   "execution_count": null,
   "metadata": {},
   "outputs": [],
   "source": []
  },
  {
   "cell_type": "code",
   "execution_count": null,
   "metadata": {},
   "outputs": [],
   "source": []
  },
  {
   "cell_type": "code",
   "execution_count": 46,
   "metadata": {},
   "outputs": [],
   "source": [
    "# classifier = \"svm\"\n",
    "# df_res_filtered = df_res[df_res[classifier + \"_is_pos\"] >= .85]\n",
    "# df_res_filtered_pos = df_res_filtered[df_res_filtered[\"true_class\"] == POS_CLASS]\n",
    "\n",
    "# sorted(df_res[\"svm_is_pos\"], reverse=True)"
   ]
  },
  {
   "cell_type": "code",
   "execution_count": null,
   "metadata": {},
   "outputs": [],
   "source": []
  },
  {
   "cell_type": "code",
   "execution_count": null,
   "metadata": {},
   "outputs": [],
   "source": []
  }
 ],
 "metadata": {
  "kernelspec": {
   "display_name": "Python 3",
   "language": "python",
   "name": "python3"
  },
  "language_info": {
   "codemirror_mode": {
    "name": "ipython",
    "version": 3
   },
   "file_extension": ".py",
   "mimetype": "text/x-python",
   "name": "python",
   "nbconvert_exporter": "python",
   "pygments_lexer": "ipython3",
   "version": "3.7.3"
  }
 },
 "nbformat": 4,
 "nbformat_minor": 2
}
