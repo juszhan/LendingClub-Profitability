{
 "cells": [
  {
   "cell_type": "code",
   "execution_count": 1,
   "metadata": {},
   "outputs": [],
   "source": [
    "import pandas as pd\n",
    "import numpy as np\n",
    "from numpy.random import RandomState\n",
    "import matplotlib.pyplot as plt\n",
    "\n",
    "import itertools\n",
    "import os\n",
    "import re\n",
    "from collections import namedtuple\n",
    "from pathlib import Path\n",
    "\n",
    "_PRNG = RandomState(0)"
   ]
  },
  {
   "cell_type": "code",
   "execution_count": 2,
   "metadata": {},
   "outputs": [
    {
     "name": "stdout",
     "output_type": "stream",
     "text": [
      "Preprocessed dataset not found, reading all data\n",
      "./data/LoanStats_2016Q1.csv\n",
      "./data/LoanStats_2016Q2.csv\n",
      "./data/LoanStats_2016Q3.csv\n",
      "./data/LoanStats_2016Q4.csv\n",
      "./data/LoanStats_2017Q1.csv\n",
      "./data/LoanStats_2017Q2.csv\n",
      "./data/LoanStats_2017Q3.csv\n",
      "./data/LoanStats_2017Q4.csv\n",
      "./data/LoanStats_2018Q1.csv\n",
      "./data/LoanStats_2018Q2.csv\n",
      "./data/LoanStats_2018Q3.csv\n",
      "./data/LoanStats_2018Q4.csv\n",
      "Combining all the data into a single dataframe\n",
      "Converting column types\n",
      "Removing outliers\n",
      "Convert non-ordinal categorical variables to binary vectors (this can take a while)\n",
      "[1/17] Source Verified\n",
      "[2/17] Verified\n",
      "[3/17] Not Verified\n",
      "[4/17] credit_card\n",
      "[5/17] debt_consolidation\n",
      "[6/17] small_business\n",
      "[7/17] home_improvement\n",
      "[8/17] other\n",
      "[9/17] major_purchase\n",
      "[10/17] vacation\n",
      "[11/17] moving\n",
      "[12/17] medical\n",
      "[13/17] car\n",
      "[14/17] house\n",
      "[15/17] renewable_energy\n",
      "[16/17] wedding\n",
      "[17/17] educational\n",
      "Saving processed dataset\n",
      "Done!\n"
     ]
    }
   ],
   "source": [
    "_DATA_DIR = \"./data\"\n",
    "_FILE_PROCESSED_DATASET = \"lendingclub_2016-2018_processed.csv\"\n",
    "_FILE_PATH_PROCESSED_DATASET = Path(_DATA_DIR + \"/\" + _FILE_PROCESSED_DATASET)\n",
    "\n",
    "_IS_PROCESSED_DATASET = False\n",
    "\n",
    "df = None\n",
    "# Read in the data, check if a preprocessed dataset exists\n",
    "if _FILE_PATH_PROCESSED_DATASET.is_file():\n",
    "    print(\"Preprocessed dataset found, reading preprocessed dataset\")\n",
    "    _IS_PROCESSED_DATASET = True\n",
    "    df = pd.read_csv(_FILE_PATH_PROCESSED_DATASET)\n",
    "else:\n",
    "    # Read all data\n",
    "    print(\"Preprocessed dataset not found, reading all data\")\n",
    "    _dataset_loan_columns = [\"loan_amnt\",\n",
    "                             \"int_rate\",\n",
    "                             \"term\",\n",
    "                             \"grade\",\n",
    "                             \"sub_grade\",\n",
    "                             \"installment\",\n",
    "                             \"annual_inc\",\n",
    "                             \"loan_status\",\n",
    "                             \"verification_status\",\n",
    "                             \"purpose\"]\n",
    "\n",
    "    dataset_loans = {}\n",
    "    for file_name in os.listdir(_DATA_DIR):\n",
    "        if file_name.endswith(\".csv\"):\n",
    "            full_file_path = _DATA_DIR + \"/\" + file_name\n",
    "            print(full_file_path)\n",
    "            loan_period = re.search(r'\\d{4}Q[0-4]{1}', file_name).group(0)\n",
    "            dataset_loans[loan_period] = pd.read_csv(full_file_path, usecols=_dataset_loan_columns)[_dataset_loan_columns]\n",
    "    \n",
    "    # Combine all the data into a single dataframe\n",
    "    print(\"Combining all the data into a single dataframe\")\n",
    "    for k, dataset in dataset_loans.items():\n",
    "        if df is None:\n",
    "            df = dataset\n",
    "            continue\n",
    "        df = df.append(dataset, ignore_index=True)\n",
    "\n",
    "    del dataset_loans\n",
    "        \n",
    "    # Convert column types\n",
    "    print(\"Converting column types\")\n",
    "    df[\"loan_amnt\"] = df[\"loan_amnt\"].astype(int)\n",
    "    df[\"annual_inc\"] = df[\"annual_inc\"].astype(int)\n",
    "    df[\"int_rate\"] = df[\"int_rate\"].apply(lambda int_rate: float(int_rate[:-1]))\n",
    "    df[\"term\"] = df[\"term\"].apply(lambda term: int(re.search(r'\\d+', term).group(0)))\n",
    "    \n",
    "    # Remove outliers\n",
    "    # Annual income must be greater than 0 and less than 1 million\n",
    "    # Assume 0 is an outlier\n",
    "    # Assume millioniare+ are outliers\n",
    "    print(\"Removing outliers\")\n",
    "    df = df.loc[(df[\"annual_inc\"] > 0) & (df[\"annual_inc\"] < 1000000)]\n",
    "    \n",
    "    # Convert non-ordinal categorical variables to binary vectors\n",
    "    print(\"Convert non-ordinal categorical variables to binary vectors (this can take a while)\")\n",
    "    total_columns_to_process = len(df[\"verification_status\"].unique()) + len(df[\"purpose\"].unique())\n",
    "    columns_processed = 0\n",
    "    for verification_status in df[\"verification_status\"].unique():\n",
    "        columns_processed += 1\n",
    "        print(f\"[{columns_processed}/{total_columns_to_process}]\", verification_status)\n",
    "        df[\"vs_\" + verification_status] = df.apply(lambda row: int(row[\"verification_status\"] == verification_status), axis=1)\n",
    "    for purpose in df[\"purpose\"].unique():\n",
    "        columns_processed += 1\n",
    "        print(f\"[{columns_processed}/{total_columns_to_process}]\", purpose)\n",
    "        df[\"p_\" + purpose] = df.apply(lambda row: int(row[\"purpose\"] == purpose), axis=1)\n",
    "\n",
    "    df.drop(columns=[\"verification_status\"], inplace=True)\n",
    "    df.drop(columns=[\"purpose\"], inplace=True)\n",
    "    \n",
    "    # Save processed dataset for future use\n",
    "    print(\"Saving processed dataset\")\n",
    "    df.to_csv(_FILE_PATH_PROCESSED_DATASET, index=False, header=True)\n",
    "    \n",
    "    print(\"Done!\")"
   ]
  },
  {
   "cell_type": "code",
   "execution_count": 3,
   "metadata": {},
   "outputs": [
    {
     "name": "stdout",
     "output_type": "stream",
     "text": [
      "Number of loans in combined dataset: 1371066\n"
     ]
    },
    {
     "data": {
      "text/html": [
       "<div>\n",
       "<style scoped>\n",
       "    .dataframe tbody tr th:only-of-type {\n",
       "        vertical-align: middle;\n",
       "    }\n",
       "\n",
       "    .dataframe tbody tr th {\n",
       "        vertical-align: top;\n",
       "    }\n",
       "\n",
       "    .dataframe thead th {\n",
       "        text-align: right;\n",
       "    }\n",
       "</style>\n",
       "<table border=\"1\" class=\"dataframe\">\n",
       "  <thead>\n",
       "    <tr style=\"text-align: right;\">\n",
       "      <th></th>\n",
       "      <th>loan_amnt</th>\n",
       "      <th>int_rate</th>\n",
       "      <th>term</th>\n",
       "      <th>grade</th>\n",
       "      <th>sub_grade</th>\n",
       "      <th>installment</th>\n",
       "      <th>annual_inc</th>\n",
       "      <th>loan_status</th>\n",
       "      <th>vs_Source Verified</th>\n",
       "      <th>vs_Verified</th>\n",
       "      <th>...</th>\n",
       "      <th>p_other</th>\n",
       "      <th>p_major_purchase</th>\n",
       "      <th>p_vacation</th>\n",
       "      <th>p_moving</th>\n",
       "      <th>p_medical</th>\n",
       "      <th>p_car</th>\n",
       "      <th>p_house</th>\n",
       "      <th>p_renewable_energy</th>\n",
       "      <th>p_wedding</th>\n",
       "      <th>p_educational</th>\n",
       "    </tr>\n",
       "  </thead>\n",
       "  <tbody>\n",
       "    <tr>\n",
       "      <th>0</th>\n",
       "      <td>5000</td>\n",
       "      <td>17.27</td>\n",
       "      <td>36</td>\n",
       "      <td>D</td>\n",
       "      <td>D2</td>\n",
       "      <td>178.94</td>\n",
       "      <td>62000</td>\n",
       "      <td>Fully Paid</td>\n",
       "      <td>1</td>\n",
       "      <td>0</td>\n",
       "      <td>...</td>\n",
       "      <td>0</td>\n",
       "      <td>0</td>\n",
       "      <td>0</td>\n",
       "      <td>0</td>\n",
       "      <td>0</td>\n",
       "      <td>0</td>\n",
       "      <td>0</td>\n",
       "      <td>0</td>\n",
       "      <td>0</td>\n",
       "      <td>0</td>\n",
       "    </tr>\n",
       "    <tr>\n",
       "      <th>1</th>\n",
       "      <td>22000</td>\n",
       "      <td>6.49</td>\n",
       "      <td>36</td>\n",
       "      <td>A</td>\n",
       "      <td>A2</td>\n",
       "      <td>674.18</td>\n",
       "      <td>134000</td>\n",
       "      <td>Current</td>\n",
       "      <td>0</td>\n",
       "      <td>1</td>\n",
       "      <td>...</td>\n",
       "      <td>0</td>\n",
       "      <td>0</td>\n",
       "      <td>0</td>\n",
       "      <td>0</td>\n",
       "      <td>0</td>\n",
       "      <td>0</td>\n",
       "      <td>0</td>\n",
       "      <td>0</td>\n",
       "      <td>0</td>\n",
       "      <td>0</td>\n",
       "    </tr>\n",
       "    <tr>\n",
       "      <th>2</th>\n",
       "      <td>30000</td>\n",
       "      <td>10.75</td>\n",
       "      <td>60</td>\n",
       "      <td>B</td>\n",
       "      <td>B4</td>\n",
       "      <td>648.54</td>\n",
       "      <td>125000</td>\n",
       "      <td>Fully Paid</td>\n",
       "      <td>0</td>\n",
       "      <td>1</td>\n",
       "      <td>...</td>\n",
       "      <td>0</td>\n",
       "      <td>0</td>\n",
       "      <td>0</td>\n",
       "      <td>0</td>\n",
       "      <td>0</td>\n",
       "      <td>0</td>\n",
       "      <td>0</td>\n",
       "      <td>0</td>\n",
       "      <td>0</td>\n",
       "      <td>0</td>\n",
       "    </tr>\n",
       "    <tr>\n",
       "      <th>3</th>\n",
       "      <td>10000</td>\n",
       "      <td>16.29</td>\n",
       "      <td>36</td>\n",
       "      <td>D</td>\n",
       "      <td>D1</td>\n",
       "      <td>353.01</td>\n",
       "      <td>40000</td>\n",
       "      <td>Charged Off</td>\n",
       "      <td>1</td>\n",
       "      <td>0</td>\n",
       "      <td>...</td>\n",
       "      <td>0</td>\n",
       "      <td>0</td>\n",
       "      <td>0</td>\n",
       "      <td>0</td>\n",
       "      <td>0</td>\n",
       "      <td>0</td>\n",
       "      <td>0</td>\n",
       "      <td>0</td>\n",
       "      <td>0</td>\n",
       "      <td>0</td>\n",
       "    </tr>\n",
       "    <tr>\n",
       "      <th>4</th>\n",
       "      <td>12000</td>\n",
       "      <td>9.75</td>\n",
       "      <td>36</td>\n",
       "      <td>B</td>\n",
       "      <td>B3</td>\n",
       "      <td>385.80</td>\n",
       "      <td>120000</td>\n",
       "      <td>Current</td>\n",
       "      <td>0</td>\n",
       "      <td>0</td>\n",
       "      <td>...</td>\n",
       "      <td>0</td>\n",
       "      <td>0</td>\n",
       "      <td>0</td>\n",
       "      <td>0</td>\n",
       "      <td>0</td>\n",
       "      <td>0</td>\n",
       "      <td>0</td>\n",
       "      <td>0</td>\n",
       "      <td>0</td>\n",
       "      <td>0</td>\n",
       "    </tr>\n",
       "  </tbody>\n",
       "</table>\n",
       "<p>5 rows × 25 columns</p>\n",
       "</div>"
      ],
      "text/plain": [
       "   loan_amnt  int_rate  term grade sub_grade  installment  annual_inc  \\\n",
       "0       5000     17.27    36     D        D2       178.94       62000   \n",
       "1      22000      6.49    36     A        A2       674.18      134000   \n",
       "2      30000     10.75    60     B        B4       648.54      125000   \n",
       "3      10000     16.29    36     D        D1       353.01       40000   \n",
       "4      12000      9.75    36     B        B3       385.80      120000   \n",
       "\n",
       "   loan_status  vs_Source Verified  vs_Verified  ...  p_other  \\\n",
       "0   Fully Paid                   1            0  ...        0   \n",
       "1      Current                   0            1  ...        0   \n",
       "2   Fully Paid                   0            1  ...        0   \n",
       "3  Charged Off                   1            0  ...        0   \n",
       "4      Current                   0            0  ...        0   \n",
       "\n",
       "   p_major_purchase  p_vacation  p_moving  p_medical  p_car  p_house  \\\n",
       "0                 0           0         0          0      0        0   \n",
       "1                 0           0         0          0      0        0   \n",
       "2                 0           0         0          0      0        0   \n",
       "3                 0           0         0          0      0        0   \n",
       "4                 0           0         0          0      0        0   \n",
       "\n",
       "   p_renewable_energy  p_wedding  p_educational  \n",
       "0                   0          0              0  \n",
       "1                   0          0              0  \n",
       "2                   0          0              0  \n",
       "3                   0          0              0  \n",
       "4                   0          0              0  \n",
       "\n",
       "[5 rows x 25 columns]"
      ]
     },
     "execution_count": 3,
     "metadata": {},
     "output_type": "execute_result"
    }
   ],
   "source": [
    "print(\"Number of loans in combined dataset:\", len(df))\n",
    "df.head(5)"
   ]
  },
  {
   "cell_type": "code",
   "execution_count": 4,
   "metadata": {},
   "outputs": [
    {
     "data": {
      "text/html": [
       "<div>\n",
       "<style scoped>\n",
       "    .dataframe tbody tr th:only-of-type {\n",
       "        vertical-align: middle;\n",
       "    }\n",
       "\n",
       "    .dataframe tbody tr th {\n",
       "        vertical-align: top;\n",
       "    }\n",
       "\n",
       "    .dataframe thead th {\n",
       "        text-align: right;\n",
       "    }\n",
       "</style>\n",
       "<table border=\"1\" class=\"dataframe\">\n",
       "  <thead>\n",
       "    <tr style=\"text-align: right;\">\n",
       "      <th></th>\n",
       "      <th>loan_amnt</th>\n",
       "      <th>int_rate</th>\n",
       "      <th>term</th>\n",
       "      <th>grade</th>\n",
       "      <th>sub_grade</th>\n",
       "      <th>installment</th>\n",
       "      <th>annual_inc</th>\n",
       "      <th>loan_status</th>\n",
       "      <th>vs_Source Verified</th>\n",
       "      <th>vs_Verified</th>\n",
       "      <th>...</th>\n",
       "      <th>p_other</th>\n",
       "      <th>p_major_purchase</th>\n",
       "      <th>p_vacation</th>\n",
       "      <th>p_moving</th>\n",
       "      <th>p_medical</th>\n",
       "      <th>p_car</th>\n",
       "      <th>p_house</th>\n",
       "      <th>p_renewable_energy</th>\n",
       "      <th>p_wedding</th>\n",
       "      <th>p_educational</th>\n",
       "    </tr>\n",
       "  </thead>\n",
       "  <tbody>\n",
       "  </tbody>\n",
       "</table>\n",
       "<p>0 rows × 25 columns</p>\n",
       "</div>"
      ],
      "text/plain": [
       "Empty DataFrame\n",
       "Columns: [loan_amnt, int_rate, term, grade, sub_grade, installment, annual_inc, loan_status, vs_Source Verified, vs_Verified, vs_Not Verified, p_credit_card, p_debt_consolidation, p_small_business, p_home_improvement, p_other, p_major_purchase, p_vacation, p_moving, p_medical, p_car, p_house, p_renewable_energy, p_wedding, p_educational]\n",
       "Index: []\n",
       "\n",
       "[0 rows x 25 columns]"
      ]
     },
     "execution_count": 4,
     "metadata": {},
     "output_type": "execute_result"
    }
   ],
   "source": [
    "# Check if we have any null values\n",
    "df[df.isnull().any(axis=1)]"
   ]
  },
  {
   "cell_type": "markdown",
   "metadata": {},
   "source": [
    "### Preprocessing"
   ]
  },
  {
   "cell_type": "code",
   "execution_count": 5,
   "metadata": {},
   "outputs": [],
   "source": [
    "# Convert ordinal categorical variables to numerical\n",
    "from sklearn.preprocessing import LabelEncoder  \n",
    "\n",
    "le_grade = LabelEncoder()\n",
    "df[\"grade\"] = le_grade.fit_transform(df[\"grade\"])\n",
    "\n",
    "le_sub_grade = LabelEncoder()\n",
    "df[\"sub_grade\"] = le_sub_grade.fit_transform(df[\"sub_grade\"])"
   ]
  },
  {
   "cell_type": "code",
   "execution_count": 6,
   "metadata": {},
   "outputs": [],
   "source": [
    "df_pos = df.loc[df[\"loan_status\"] == \"Fully Paid\"]\n",
    "df_neg = df.loc[(df[\"loan_status\"] == \"Default\") | (df[\"loan_status\"] == \"Charged Off\")]"
   ]
  },
  {
   "cell_type": "code",
   "execution_count": 7,
   "metadata": {},
   "outputs": [
    {
     "data": {
      "text/plain": [
       "Fully Paid    382014\n",
       "Name: loan_status, dtype: int64"
      ]
     },
     "execution_count": 7,
     "metadata": {},
     "output_type": "execute_result"
    }
   ],
   "source": [
    "df_pos[\"loan_status\"].value_counts()"
   ]
  },
  {
   "cell_type": "code",
   "execution_count": 8,
   "metadata": {},
   "outputs": [
    {
     "data": {
      "text/plain": [
       "Charged Off    108758\n",
       "Default            35\n",
       "Name: loan_status, dtype: int64"
      ]
     },
     "execution_count": 8,
     "metadata": {},
     "output_type": "execute_result"
    }
   ],
   "source": [
    "df_neg[\"loan_status\"].value_counts()"
   ]
  },
  {
   "cell_type": "code",
   "execution_count": 9,
   "metadata": {
    "scrolled": true
   },
   "outputs": [
    {
     "data": {
      "text/html": [
       "<div>\n",
       "<style scoped>\n",
       "    .dataframe tbody tr th:only-of-type {\n",
       "        vertical-align: middle;\n",
       "    }\n",
       "\n",
       "    .dataframe tbody tr th {\n",
       "        vertical-align: top;\n",
       "    }\n",
       "\n",
       "    .dataframe thead th {\n",
       "        text-align: right;\n",
       "    }\n",
       "</style>\n",
       "<table border=\"1\" class=\"dataframe\">\n",
       "  <thead>\n",
       "    <tr style=\"text-align: right;\">\n",
       "      <th></th>\n",
       "      <th>loan_amnt</th>\n",
       "      <th>int_rate</th>\n",
       "      <th>term</th>\n",
       "      <th>grade</th>\n",
       "      <th>sub_grade</th>\n",
       "      <th>installment</th>\n",
       "      <th>annual_inc</th>\n",
       "    </tr>\n",
       "  </thead>\n",
       "  <tbody>\n",
       "    <tr>\n",
       "      <th>loan_amnt</th>\n",
       "      <td>1.000000</td>\n",
       "      <td>0.117732</td>\n",
       "      <td>0.353937</td>\n",
       "      <td>0.114210</td>\n",
       "      <td>0.116027</td>\n",
       "      <td>0.958982</td>\n",
       "      <td>0.422926</td>\n",
       "    </tr>\n",
       "    <tr>\n",
       "      <th>int_rate</th>\n",
       "      <td>0.117732</td>\n",
       "      <td>1.000000</td>\n",
       "      <td>0.368597</td>\n",
       "      <td>0.962965</td>\n",
       "      <td>0.987197</td>\n",
       "      <td>0.155487</td>\n",
       "      <td>-0.099715</td>\n",
       "    </tr>\n",
       "    <tr>\n",
       "      <th>term</th>\n",
       "      <td>0.353937</td>\n",
       "      <td>0.368597</td>\n",
       "      <td>1.000000</td>\n",
       "      <td>0.357490</td>\n",
       "      <td>0.366070</td>\n",
       "      <td>0.136393</td>\n",
       "      <td>0.079493</td>\n",
       "    </tr>\n",
       "    <tr>\n",
       "      <th>grade</th>\n",
       "      <td>0.114210</td>\n",
       "      <td>0.962965</td>\n",
       "      <td>0.357490</td>\n",
       "      <td>1.000000</td>\n",
       "      <td>0.971276</td>\n",
       "      <td>0.148621</td>\n",
       "      <td>-0.099893</td>\n",
       "    </tr>\n",
       "    <tr>\n",
       "      <th>sub_grade</th>\n",
       "      <td>0.116027</td>\n",
       "      <td>0.987197</td>\n",
       "      <td>0.366070</td>\n",
       "      <td>0.971276</td>\n",
       "      <td>1.000000</td>\n",
       "      <td>0.151058</td>\n",
       "      <td>-0.108120</td>\n",
       "    </tr>\n",
       "    <tr>\n",
       "      <th>installment</th>\n",
       "      <td>0.958982</td>\n",
       "      <td>0.155487</td>\n",
       "      <td>0.136393</td>\n",
       "      <td>0.148621</td>\n",
       "      <td>0.151058</td>\n",
       "      <td>1.000000</td>\n",
       "      <td>0.403238</td>\n",
       "    </tr>\n",
       "    <tr>\n",
       "      <th>annual_inc</th>\n",
       "      <td>0.422926</td>\n",
       "      <td>-0.099715</td>\n",
       "      <td>0.079493</td>\n",
       "      <td>-0.099893</td>\n",
       "      <td>-0.108120</td>\n",
       "      <td>0.403238</td>\n",
       "      <td>1.000000</td>\n",
       "    </tr>\n",
       "  </tbody>\n",
       "</table>\n",
       "</div>"
      ],
      "text/plain": [
       "             loan_amnt  int_rate      term     grade  sub_grade  installment  \\\n",
       "loan_amnt     1.000000  0.117732  0.353937  0.114210   0.116027     0.958982   \n",
       "int_rate      0.117732  1.000000  0.368597  0.962965   0.987197     0.155487   \n",
       "term          0.353937  0.368597  1.000000  0.357490   0.366070     0.136393   \n",
       "grade         0.114210  0.962965  0.357490  1.000000   0.971276     0.148621   \n",
       "sub_grade     0.116027  0.987197  0.366070  0.971276   1.000000     0.151058   \n",
       "installment   0.958982  0.155487  0.136393  0.148621   0.151058     1.000000   \n",
       "annual_inc    0.422926 -0.099715  0.079493 -0.099893  -0.108120     0.403238   \n",
       "\n",
       "             annual_inc  \n",
       "loan_amnt      0.422926  \n",
       "int_rate      -0.099715  \n",
       "term           0.079493  \n",
       "grade         -0.099893  \n",
       "sub_grade     -0.108120  \n",
       "installment    0.403238  \n",
       "annual_inc     1.000000  "
      ]
     },
     "execution_count": 9,
     "metadata": {},
     "output_type": "execute_result"
    }
   ],
   "source": [
    "df_pos[[\"loan_amnt\", \"int_rate\", \"term\", \"grade\", \"sub_grade\", \"installment\", \"annual_inc\"]].corr()"
   ]
  },
  {
   "cell_type": "code",
   "execution_count": 10,
   "metadata": {
    "scrolled": true
   },
   "outputs": [
    {
     "data": {
      "text/html": [
       "<div>\n",
       "<style scoped>\n",
       "    .dataframe tbody tr th:only-of-type {\n",
       "        vertical-align: middle;\n",
       "    }\n",
       "\n",
       "    .dataframe tbody tr th {\n",
       "        vertical-align: top;\n",
       "    }\n",
       "\n",
       "    .dataframe thead th {\n",
       "        text-align: right;\n",
       "    }\n",
       "</style>\n",
       "<table border=\"1\" class=\"dataframe\">\n",
       "  <thead>\n",
       "    <tr style=\"text-align: right;\">\n",
       "      <th></th>\n",
       "      <th>loan_amnt</th>\n",
       "      <th>int_rate</th>\n",
       "      <th>term</th>\n",
       "      <th>grade</th>\n",
       "      <th>sub_grade</th>\n",
       "      <th>installment</th>\n",
       "      <th>annual_inc</th>\n",
       "    </tr>\n",
       "  </thead>\n",
       "  <tbody>\n",
       "    <tr>\n",
       "      <th>loan_amnt</th>\n",
       "      <td>1.000000</td>\n",
       "      <td>0.191178</td>\n",
       "      <td>0.387081</td>\n",
       "      <td>0.187644</td>\n",
       "      <td>0.193173</td>\n",
       "      <td>0.945589</td>\n",
       "      <td>0.450970</td>\n",
       "    </tr>\n",
       "    <tr>\n",
       "      <th>int_rate</th>\n",
       "      <td>0.191178</td>\n",
       "      <td>1.000000</td>\n",
       "      <td>0.376418</td>\n",
       "      <td>0.962659</td>\n",
       "      <td>0.983896</td>\n",
       "      <td>0.248679</td>\n",
       "      <td>-0.066134</td>\n",
       "    </tr>\n",
       "    <tr>\n",
       "      <th>term</th>\n",
       "      <td>0.387081</td>\n",
       "      <td>0.376418</td>\n",
       "      <td>1.000000</td>\n",
       "      <td>0.372196</td>\n",
       "      <td>0.383811</td>\n",
       "      <td>0.142168</td>\n",
       "      <td>0.109504</td>\n",
       "    </tr>\n",
       "    <tr>\n",
       "      <th>grade</th>\n",
       "      <td>0.187644</td>\n",
       "      <td>0.962659</td>\n",
       "      <td>0.372196</td>\n",
       "      <td>1.000000</td>\n",
       "      <td>0.975763</td>\n",
       "      <td>0.238671</td>\n",
       "      <td>-0.068205</td>\n",
       "    </tr>\n",
       "    <tr>\n",
       "      <th>sub_grade</th>\n",
       "      <td>0.193173</td>\n",
       "      <td>0.983896</td>\n",
       "      <td>0.383811</td>\n",
       "      <td>0.975763</td>\n",
       "      <td>1.000000</td>\n",
       "      <td>0.244191</td>\n",
       "      <td>-0.070253</td>\n",
       "    </tr>\n",
       "    <tr>\n",
       "      <th>installment</th>\n",
       "      <td>0.945589</td>\n",
       "      <td>0.248679</td>\n",
       "      <td>0.142168</td>\n",
       "      <td>0.238671</td>\n",
       "      <td>0.244191</td>\n",
       "      <td>1.000000</td>\n",
       "      <td>0.419332</td>\n",
       "    </tr>\n",
       "    <tr>\n",
       "      <th>annual_inc</th>\n",
       "      <td>0.450970</td>\n",
       "      <td>-0.066134</td>\n",
       "      <td>0.109504</td>\n",
       "      <td>-0.068205</td>\n",
       "      <td>-0.070253</td>\n",
       "      <td>0.419332</td>\n",
       "      <td>1.000000</td>\n",
       "    </tr>\n",
       "  </tbody>\n",
       "</table>\n",
       "</div>"
      ],
      "text/plain": [
       "             loan_amnt  int_rate      term     grade  sub_grade  installment  \\\n",
       "loan_amnt     1.000000  0.191178  0.387081  0.187644   0.193173     0.945589   \n",
       "int_rate      0.191178  1.000000  0.376418  0.962659   0.983896     0.248679   \n",
       "term          0.387081  0.376418  1.000000  0.372196   0.383811     0.142168   \n",
       "grade         0.187644  0.962659  0.372196  1.000000   0.975763     0.238671   \n",
       "sub_grade     0.193173  0.983896  0.383811  0.975763   1.000000     0.244191   \n",
       "installment   0.945589  0.248679  0.142168  0.238671   0.244191     1.000000   \n",
       "annual_inc    0.450970 -0.066134  0.109504 -0.068205  -0.070253     0.419332   \n",
       "\n",
       "             annual_inc  \n",
       "loan_amnt      0.450970  \n",
       "int_rate      -0.066134  \n",
       "term           0.109504  \n",
       "grade         -0.068205  \n",
       "sub_grade     -0.070253  \n",
       "installment    0.419332  \n",
       "annual_inc     1.000000  "
      ]
     },
     "execution_count": 10,
     "metadata": {},
     "output_type": "execute_result"
    }
   ],
   "source": [
    "df_neg[[\"loan_amnt\", \"int_rate\", \"term\", \"grade\", \"sub_grade\", \"installment\", \"annual_inc\"]].corr()"
   ]
  },
  {
   "cell_type": "code",
   "execution_count": 11,
   "metadata": {},
   "outputs": [
    {
     "name": "stdout",
     "output_type": "stream",
     "text": [
      "Subsample pos: 100000\n",
      "Subsample neg: 100000\n"
     ]
    }
   ],
   "source": [
    "# Take a random subsample, computation constraint, SVMs have poor scalability\n",
    "SUBSAMPLE_AMOUNT = 100000\n",
    "\n",
    "df_pos = df_pos.sample(n=SUBSAMPLE_AMOUNT, replace=False, random_state=_PRNG)\n",
    "df_neg = df_neg.sample(n=SUBSAMPLE_AMOUNT, replace=False, random_state=_PRNG)\n",
    "\n",
    "df_pos.drop(columns=[\"loan_status\"], inplace=True)\n",
    "df_neg.drop(columns=[\"loan_status\"], inplace=True)\n",
    "print(\"Subsample pos:\", len(df_pos))\n",
    "print(\"Subsample neg:\", len(df_neg))"
   ]
  },
  {
   "cell_type": "code",
   "execution_count": 12,
   "metadata": {},
   "outputs": [],
   "source": [
    "# Combine subsamples\n",
    "df_subsample_X = pd.concat([df_pos, df_neg], ignore_index=True, copy=True)\n",
    "df_subsample_X = df_subsample_X.astype(float)\n",
    "df_subsample_Y = [1] * len(df_pos) + [0] * len(df_neg)\n",
    "\n",
    "assert len(df_subsample_X) == len(df_subsample_Y), \"Dataset and labels must be the same size\""
   ]
  },
  {
   "cell_type": "code",
   "execution_count": 13,
   "metadata": {},
   "outputs": [],
   "source": [
    "# Most libraries recommend a hard normalization, mapping the min and max values of a given dimension to [0,1]\n",
    "# However, a soft normalization is also feasible using StandardScaler\n",
    "# https://neerajkumar.org/writings/svm/\n",
    "# https://www.csie.ntu.edu.tw/~cjlin/papers/guide/guide.pdf\n",
    "\n",
    "from sklearn.preprocessing import MinMaxScaler\n",
    "scaler = MinMaxScaler(feature_range=(0, 1))\n",
    "\n",
    "# from sklearn.preprocessing import StandardScaler\n",
    "# scaler = StandardScaler()\n",
    "\n",
    "df_subsample_scaled_X = scaler.fit_transform(df_subsample_X)"
   ]
  },
  {
   "cell_type": "code",
   "execution_count": 14,
   "metadata": {},
   "outputs": [
    {
     "name": "stdout",
     "output_type": "stream",
     "text": [
      "Training set size: 20000\n",
      "Training label size: 20000\n",
      "Test set size: 180000\n",
      "Test label size: 180000\n"
     ]
    }
   ],
   "source": [
    "# Create 80/20 train/test split\n",
    "from sklearn.model_selection import train_test_split\n",
    "\n",
    "X_train, X_test, Y_train, Y_test = train_test_split(df_subsample_scaled_X, df_subsample_Y, test_size=0.9, stratify=df_subsample_Y, random_state=_PRNG)\n",
    "print(\"Training set size:\", len(X_train))\n",
    "print(\"Training label size:\", len(Y_train))\n",
    "print(\"Test set size:\", len(X_test))\n",
    "print(\"Test label size:\", len(Y_test))"
   ]
  },
  {
   "cell_type": "markdown",
   "metadata": {},
   "source": [
    "### Linear SVM"
   ]
  },
  {
   "cell_type": "code",
   "execution_count": 15,
   "metadata": {},
   "outputs": [
    {
     "name": "stdout",
     "output_type": "stream",
     "text": [
      "Result_C(C=0.03125, score_mean=0.6496255631308664, scores=array([0.64563567, 0.64958482, 0.64936313, 0.65119583, 0.65234836]))\n",
      "Result_C(C=0.0625, score_mean=0.6493064613540078, scores=array([0.64360687, 0.64818356, 0.65055582, 0.65094115, 0.65324491]))\n",
      "Result_C(C=0.125, score_mean=0.6477724880372138, scores=array([0.64454064, 0.64668922, 0.64634146, 0.64932563, 0.65196548]))\n",
      "Result_C(C=0.25, score_mean=0.6458350556221923, scores=array([0.64415837, 0.64490989, 0.64269774, 0.65110625, 0.64630303]))\n",
      "Result_C(C=0.5, score_mean=0.6409565770696695, scores=array([0.63708087, 0.64055186, 0.64121756, 0.64597191, 0.63996068]))\n",
      "Result_C(C=1, score_mean=0.6383949886899085, scores=array([0.63409771, 0.63681592, 0.63874874, 0.64259029, 0.63972229]))\n",
      "Result_C(C=2, score_mean=0.6354389740710239, scores=array([0.63218971, 0.63374279, 0.63793983, 0.63923733, 0.63408521]))\n",
      "Result_C(C=4, score_mean=0.6330561868565618, scores=array([0.63141918, 0.62740142, 0.63759938, 0.63556116, 0.6332998 ]))\n",
      "Result_C(C=8, score_mean=0.6322149258889911, scores=array([0.62962963, 0.62629845, 0.63648058, 0.63528221, 0.63338376]))\n",
      "Result_C(C=16, score_mean=0.6319539102514382, scores=array([0.62980892, 0.6266531 , 0.6343476 , 0.63493671, 0.63402322]))\n",
      "Result_C(C=32, score_mean=0.6318808649470846, scores=array([0.63010204, 0.62576375, 0.63469966, 0.63521055, 0.63362832]))\n",
      "Result_C(C=64, score_mean=0.631728384299588, scores=array([0.63058463, 0.62560448, 0.63329032, 0.63569434, 0.63346815]))\n",
      "Result_C(C=128, score_mean=0.6317535298202656, scores=array([0.63074566, 0.62487258, 0.63361735, 0.63606391, 0.63346815]))\n",
      "Result_C(C=256, score_mean=0.6318846564775262, scores=array([0.63090677, 0.62576375, 0.63342805, 0.63620208, 0.63312263]))\n"
     ]
    }
   ],
   "source": [
    "# Use cross-validation to find the best C, using F1-score\n",
    "from sklearn.svm import SVC\n",
    "from sklearn.model_selection import cross_val_score\n",
    "\n",
    "Result_C = namedtuple(\"Result_C\", [\"C\", \"score_mean\", \"scores\"])\n",
    "\n",
    "POSSIBLE_C = [2 ** power for power in range(-5, 9)]\n",
    "\n",
    "cross_val_results = []\n",
    "for test_C in POSSIBLE_C:\n",
    "    svm = SVC(C=test_C, kernel=\"linear\", cache_size=4000, max_iter=-1, random_state=_PRNG)\n",
    "    cv_scores = cross_val_score(svm, X_train, Y_train, cv=5, scoring='f1', n_jobs=-1)\n",
    "    cross_val_results.append(Result_C(test_C, cv_scores.mean(), cv_scores))\n",
    "    print(cross_val_results[-1])"
   ]
  },
  {
   "cell_type": "code",
   "execution_count": 16,
   "metadata": {},
   "outputs": [
    {
     "data": {
      "text/plain": [
       "Result_C(C=0.03125, score_mean=0.6496255631308664, scores=array([0.64563567, 0.64958482, 0.64936313, 0.65119583, 0.65234836]))"
      ]
     },
     "execution_count": 16,
     "metadata": {},
     "output_type": "execute_result"
    }
   ],
   "source": [
    "best_cv = max(cross_val_results, key=lambda x: x.score_mean)\n",
    "best_cv"
   ]
  },
  {
   "cell_type": "code",
   "execution_count": 17,
   "metadata": {},
   "outputs": [
    {
     "data": {
      "text/plain": [
       "SVC(C=0.03125, cache_size=4000, class_weight=None, coef0=0.0,\n",
       "  decision_function_shape='ovr', degree=3, gamma='auto_deprecated',\n",
       "  kernel='linear', max_iter=-1, probability=False,\n",
       "  random_state=<mtrand.RandomState object at 0x0000026B3AC3AFC0>,\n",
       "  shrinking=True, tol=0.001, verbose=False)"
      ]
     },
     "execution_count": 17,
     "metadata": {},
     "output_type": "execute_result"
    }
   ],
   "source": [
    "# Use the best C found from cross-validation\n",
    "svm = SVC(C=best_cv.C, kernel=\"linear\", cache_size=4000, max_iter=-1, verbose=False, random_state=_PRNG)\n",
    "svm.fit(X_train, Y_train)"
   ]
  },
  {
   "cell_type": "code",
   "execution_count": 18,
   "metadata": {},
   "outputs": [
    {
     "name": "stdout",
     "output_type": "stream",
     "text": [
      "We want to see '0' here...: 0\n"
     ]
    }
   ],
   "source": [
    "print(\"We want to see '0' here...:\", svm.fit_status_)"
   ]
  },
  {
   "cell_type": "code",
   "execution_count": 19,
   "metadata": {},
   "outputs": [
    {
     "data": {
      "text/plain": [
       "0.6340277777777777"
      ]
     },
     "execution_count": 19,
     "metadata": {},
     "output_type": "execute_result"
    }
   ],
   "source": [
    "svm.score(X_test, Y_test)"
   ]
  },
  {
   "cell_type": "code",
   "execution_count": 20,
   "metadata": {},
   "outputs": [
    {
     "data": {
      "text/plain": [
       "array([[-0.15787647, -0.71333138, -0.42973528, -1.23711232, -1.32274006,\n",
       "        -0.17019582,  1.13605292, -0.01249663, -0.21354752,  0.22604415,\n",
       "         0.04265233,  0.05700592, -0.26032316,  0.11510147, -0.01690068,\n",
       "         0.13963938, -0.04025979,  0.        , -0.21875   ,  0.23157858,\n",
       "         0.01275595, -0.0625    ,  0.        ,  0.        ]])"
      ]
     },
     "execution_count": 20,
     "metadata": {},
     "output_type": "execute_result"
    }
   ],
   "source": [
    "svm.coef_"
   ]
  },
  {
   "cell_type": "code",
   "execution_count": 21,
   "metadata": {},
   "outputs": [
    {
     "data": {
      "text/plain": [
       "Index(['loan_amnt', 'int_rate', 'term', 'grade', 'sub_grade', 'installment',\n",
       "       'annual_inc', 'vs_Source Verified', 'vs_Verified', 'vs_Not Verified',\n",
       "       'p_credit_card', 'p_debt_consolidation', 'p_small_business',\n",
       "       'p_home_improvement', 'p_other', 'p_major_purchase', 'p_vacation',\n",
       "       'p_moving', 'p_medical', 'p_car', 'p_house', 'p_renewable_energy',\n",
       "       'p_wedding', 'p_educational'],\n",
       "      dtype='object')"
      ]
     },
     "execution_count": 21,
     "metadata": {},
     "output_type": "execute_result"
    }
   ],
   "source": [
    "df_pos.columns"
   ]
  },
  {
   "cell_type": "code",
   "execution_count": 22,
   "metadata": {},
   "outputs": [
    {
     "name": "stdout",
     "output_type": "stream",
     "text": [
      "loan_amnt                  : -0.1579\n",
      "int_rate                   : -0.7133\n",
      "term                       : -0.4297\n",
      "grade                      : -1.2371\n",
      "sub_grade                  : -1.3227\n",
      "installment                : -0.1702\n",
      "annual_inc                 : 1.1361\n",
      "vs_Source Verified         : -0.0125\n",
      "vs_Verified                : -0.2135\n",
      "vs_Not Verified            : 0.2260\n",
      "p_credit_card              : 0.0427\n",
      "p_debt_consolidation       : 0.0570\n",
      "p_small_business           : -0.2603\n",
      "p_home_improvement         : 0.1151\n",
      "p_other                    : -0.0169\n",
      "p_major_purchase           : 0.1396\n",
      "p_vacation                 : -0.0403\n",
      "p_moving                   : 0.0000\n",
      "p_medical                  : -0.2188\n",
      "p_car                      : 0.2316\n",
      "p_house                    : 0.0128\n",
      "p_renewable_energy         : -0.0625\n",
      "p_wedding                  : 0.0000\n",
      "p_educational              : 0.0000\n"
     ]
    }
   ],
   "source": [
    "for col_name, value in zip(df_pos.columns, svm.coef_.ravel()):\n",
    "    print(\"{:26s} : {:.4f}\".format(col_name, value))"
   ]
  },
  {
   "cell_type": "code",
   "execution_count": 23,
   "metadata": {},
   "outputs": [
    {
     "data": {
      "image/png": "[encoded data removed]",
      "text/plain": [
       "<Figure size 1152x576 with 1 Axes>"
      ]
     },
     "metadata": {
      "needs_background": "light"
     },
     "output_type": "display_data"
    }
   ],
   "source": [
    "# Plot SVM feature weights\n",
    "coef = svm.coef_.ravel()\n",
    "coef_sorted = np.argsort(coef)[::-1]\n",
    "\n",
    "col = list(df_pos.columns)\n",
    "colors = [\"lightcoral\" if feature_weight < 0 else \"lightgreen\" for feature_weight in coef[coef_sorted]]\n",
    "\n",
    "plt.figure(figsize=(16, 8))\n",
    "plt.bar(list(range(len(coef))), coef[coef_sorted], color=colors)\n",
    "plt.xticks(np.arange(0, len(coef)), [col[idx] for idx in coef_sorted], rotation=60, ha=\"right\")\n",
    "plt.xlabel(\"Feature Name\")\n",
    "plt.ylabel(\"Feature Weight\")\n",
    "plt.title(\"LendingClub 2016-2018 - SVM / Criteria Weights\")\n",
    "# plt.savefig(\"feature_weights.png\", bbox_inches='tight')\n",
    "plt.show()"
   ]
  },
  {
   "cell_type": "code",
   "execution_count": null,
   "metadata": {},
   "outputs": [],
   "source": []
  }
 ],
 "metadata": {
  "kernelspec": {
   "display_name": "Python 3",
   "language": "python",
   "name": "python3"
  },
  "language_info": {
   "codemirror_mode": {
    "name": "ipython",
    "version": 3
   },
   "file_extension": ".py",
   "mimetype": "text/x-python",
   "name": "python",
   "nbconvert_exporter": "python",
   "pygments_lexer": "ipython3",
   "version": "3.7.3"
  }
 },
 "nbformat": 4,
 "nbformat_minor": 2
}
