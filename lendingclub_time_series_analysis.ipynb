{
 "cells": [
  {
   "cell_type": "code",
   "execution_count": 1,
   "metadata": {},
   "outputs": [],
   "source": [
    "import pandas as pd\n",
    "import numpy as np\n",
    "import matplotlib.pyplot as plt\n",
    "\n",
    "import os\n",
    "from pathlib import Path\n",
    "from numpy.random import RandomState\n",
    "\n",
    "_PRNG = RandomState(0)"
   ]
  },
  {
   "cell_type": "code",
   "execution_count": 2,
   "metadata": {},
   "outputs": [
    {
     "name": "stdout",
     "output_type": "stream",
     "text": [
      "./data/LoanStats_2016Q1.csv\n"
     ]
    },
    {
     "name": "stderr",
     "output_type": "stream",
     "text": [
      "C:\\Users\\juszhan\\Anaconda3\\lib\\site-packages\\IPython\\core\\interactiveshell.py:3020: DtypeWarning: Columns (19) have mixed types. Specify dtype option on import or set low_memory=False.\n",
      "  interactivity=interactivity, compiler=compiler, result=result)\n"
     ]
    },
    {
     "name": "stdout",
     "output_type": "stream",
     "text": [
      "./data/LoanStats_2016Q2.csv\n",
      "./data/LoanStats_2016Q3.csv\n"
     ]
    },
    {
     "name": "stderr",
     "output_type": "stream",
     "text": [
      "C:\\Users\\juszhan\\Anaconda3\\lib\\site-packages\\IPython\\core\\interactiveshell.py:3020: DtypeWarning: Columns (19,55) have mixed types. Specify dtype option on import or set low_memory=False.\n",
      "  interactivity=interactivity, compiler=compiler, result=result)\n"
     ]
    },
    {
     "name": "stdout",
     "output_type": "stream",
     "text": [
      "./data/LoanStats_2016Q4.csv\n",
      "./data/LoanStats_2017Q1.csv\n"
     ]
    },
    {
     "name": "stderr",
     "output_type": "stream",
     "text": [
      "C:\\Users\\juszhan\\Anaconda3\\lib\\site-packages\\IPython\\core\\interactiveshell.py:3020: DtypeWarning: Columns (112) have mixed types. Specify dtype option on import or set low_memory=False.\n",
      "  interactivity=interactivity, compiler=compiler, result=result)\n"
     ]
    },
    {
     "name": "stdout",
     "output_type": "stream",
     "text": [
      "./data/LoanStats_2017Q2.csv\n",
      "./data/LoanStats_2017Q3.csv\n",
      "./data/LoanStats_2017Q4.csv\n",
      "./data/LoanStats_2018Q1.csv\n"
     ]
    },
    {
     "name": "stderr",
     "output_type": "stream",
     "text": [
      "C:\\Users\\juszhan\\Anaconda3\\lib\\site-packages\\IPython\\core\\interactiveshell.py:3020: DtypeWarning: Columns (123,124,125,128,129,130,133,139,140,141) have mixed types. Specify dtype option on import or set low_memory=False.\n",
      "  interactivity=interactivity, compiler=compiler, result=result)\n"
     ]
    },
    {
     "name": "stdout",
     "output_type": "stream",
     "text": [
      "./data/LoanStats_2018Q2.csv\n",
      "./data/LoanStats_2018Q3.csv\n",
      "./data/LoanStats_2018Q4.csv\n"
     ]
    }
   ],
   "source": [
    "_DATA_DIR = \"./data\"\n",
    "\n",
    "dataset = []\n",
    "\n",
    "for file_name in os.listdir(_DATA_DIR):\n",
    "    if file_name.endswith(\".csv\"):\n",
    "        full_file_path = _DATA_DIR + \"/\" + file_name\n",
    "        print(full_file_path)\n",
    "        dataset.append((file_name, pd.read_csv(full_file_path)))"
   ]
  },
  {
   "cell_type": "code",
   "execution_count": 3,
   "metadata": {
    "scrolled": true
   },
   "outputs": [
    {
     "name": "stdout",
     "output_type": "stream",
     "text": [
      "LoanStats_2016Q1.csv\n",
      "Fully Paid            89143\n",
      "Charged Off           22790\n",
      "Current               20336\n",
      "Late (31-120 days)     1032\n",
      "In Grace Period         409\n",
      "Late (16-30 days)       176\n",
      "Default                   1\n",
      "Name: loan_status, dtype: int64\n",
      "LoanStats_2016Q2.csv\n",
      "Fully Paid            46994\n",
      "Current               33391\n",
      "Charged Off           15952\n",
      "Late (31-120 days)      902\n",
      "In Grace Period         384\n",
      "Late (16-30 days)       228\n",
      "Default                   3\n",
      "Name: loan_status, dtype: int64\n",
      "LoanStats_2016Q3.csv\n",
      "Fully Paid            45085\n",
      "Current               36389\n",
      "Charged Off           15806\n",
      "Late (31-120 days)     1183\n",
      "In Grace Period         442\n",
      "Late (16-30 days)       215\n",
      "Name: loan_status, dtype: int64\n",
      "LoanStats_2016Q4.csv\n",
      "Current               43945\n",
      "Fully Paid            43631\n",
      "Charged Off           13694\n",
      "Late (31-120 days)     1429\n",
      "In Grace Period         558\n",
      "Late (16-30 days)       283\n",
      "Default                   6\n",
      "Name: loan_status, dtype: int64\n",
      "LoanStats_2017Q1.csv\n",
      "Current               47572\n",
      "Fully Paid            36123\n",
      "Charged Off           10748\n",
      "Late (31-120 days)     1459\n",
      "In Grace Period         599\n",
      "Late (16-30 days)       275\n",
      "Default                   3\n",
      "Name: loan_status, dtype: int64\n",
      "LoanStats_2017Q2.csv\n",
      "Current               58201\n",
      "Fully Paid            33901\n",
      "Charged Off           10586\n",
      "Late (31-120 days)     1782\n",
      "In Grace Period         650\n",
      "Late (16-30 days)       326\n",
      "Default                   5\n",
      "Name: loan_status, dtype: int64\n",
      "LoanStats_2017Q3.csv\n",
      "Current               75131\n",
      "Fully Paid            33356\n",
      "Charged Off           10492\n",
      "Late (31-120 days)     2407\n",
      "In Grace Period         888\n",
      "Late (16-30 days)       421\n",
      "Default                   6\n",
      "Name: loan_status, dtype: int64\n",
      "LoanStats_2017Q4.csv\n",
      "Current               87831\n",
      "Fully Paid            21224\n",
      "Charged Off            4905\n",
      "Late (31-120 days)     2774\n",
      "In Grace Period        1278\n",
      "Late (16-30 days)       633\n",
      "Default                   3\n",
      "Name: loan_status, dtype: int64\n",
      "LoanStats_2018Q1.csv\n",
      "Current               88416\n",
      "Fully Paid            13318\n",
      "Charged Off            2444\n",
      "Late (31-120 days)     2146\n",
      "In Grace Period         991\n",
      "Late (16-30 days)       545\n",
      "Default                   4\n",
      "Name: loan_status, dtype: int64\n",
      "LoanStats_2018Q2.csv\n",
      "Current               115561\n",
      "Fully Paid              9915\n",
      "Late (31-120 days)      2286\n",
      "In Grace Period         1176\n",
      "Charged Off             1176\n",
      "Late (16-30 days)        654\n",
      "Default                    4\n",
      "Name: loan_status, dtype: int64\n",
      "LoanStats_2018Q3.csv\n",
      "Current               121082\n",
      "Fully Paid              4786\n",
      "In Grace Period          948\n",
      "Late (31-120 days)       920\n",
      "Late (16-30 days)        348\n",
      "Charged Off              110\n",
      "Name: loan_status, dtype: int64\n",
      "LoanStats_2018Q4.csv\n",
      "Current               121676\n",
      "Fully Paid              4908\n",
      "Late (31-120 days)       849\n",
      "In Grace Period          513\n",
      "Late (16-30 days)        344\n",
      "Charged Off              122\n",
      "Name: loan_status, dtype: int64\n"
     ]
    }
   ],
   "source": [
    "for name, df in dataset:\n",
    "    print(name)\n",
    "    print(df[\"loan_status\"].value_counts())"
   ]
  },
  {
   "cell_type": "code",
   "execution_count": null,
   "metadata": {},
   "outputs": [],
   "source": []
  }
 ],
 "metadata": {
  "kernelspec": {
   "display_name": "Python 3",
   "language": "python",
   "name": "python3"
  },
  "language_info": {
   "codemirror_mode": {
    "name": "ipython",
    "version": 3
   },
   "file_extension": ".py",
   "mimetype": "text/x-python",
   "name": "python",
   "nbconvert_exporter": "python",
   "pygments_lexer": "ipython3",
   "version": "3.7.1"
  }
 },
 "nbformat": 4,
 "nbformat_minor": 2
}
